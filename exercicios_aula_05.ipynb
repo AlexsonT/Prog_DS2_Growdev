{
  "nbformat": 4,
  "nbformat_minor": 0,
  "metadata": {
    "colab": {
      "provenance": [],
      "authorship_tag": "ABX9TyO5lv6X3Yg5obA4QVeyMny8",
      "include_colab_link": true
    },
    "kernelspec": {
      "name": "python3",
      "display_name": "Python 3"
    },
    "language_info": {
      "name": "python"
    }
  },
  "cells": [
    {
      "cell_type": "markdown",
      "metadata": {
        "id": "view-in-github",
        "colab_type": "text"
      },
      "source": [
        "<a href=\"https://colab.research.google.com/github/AlexsonT/Prog_DS2_Growdev/blob/main/exercicios_aula_05.ipynb\" target=\"_parent\"><img src=\"https://colab.research.google.com/assets/colab-badge.svg\" alt=\"Open In Colab\"/></a>"
      ]
    },
    {
      "cell_type": "markdown",
      "source": [
        "Bibliotecas"
      ],
      "metadata": {
        "id": "787R5p-i1-qt"
      }
    },
    {
      "cell_type": "code",
      "execution_count": 15,
      "metadata": {
        "id": "Z1s7r9sd0E0K"
      },
      "outputs": [],
      "source": [
        "import re"
      ]
    },
    {
      "cell_type": "markdown",
      "source": [
        "1) Crie uma RegEx para verificar se existe um email em uma string. O\n",
        "email deve ter um nome@dominio.com."
      ],
      "metadata": {
        "id": "OLjdJaKG0FkQ"
      }
    },
    {
      "cell_type": "code",
      "source": [
        "padrao = '[a-z 0-9]+[\\._]?[a-z 0-9]+[@]\\w+[.][.com]'\n",
        "entrada = input('Digite seu e-mail:')\n",
        "\n",
        "if re.search(padrao, entrada):\n",
        "  print('E-mail válido!')\n",
        "else:\n",
        "  print('E-mail inválido')  "
      ],
      "metadata": {
        "colab": {
          "base_uri": "https://localhost:8080/"
        },
        "id": "WNdoPkZS2HT4",
        "outputId": "a27aa7bd-fe94-4948-a70d-4a5583a054b2"
      },
      "execution_count": 16,
      "outputs": [
        {
          "output_type": "stream",
          "name": "stdout",
          "text": [
            "Digite seu e-mail:brasil@gmail.com\n",
            "E-mail válido!\n"
          ]
        }
      ]
    },
    {
      "cell_type": "markdown",
      "source": [
        "2) Crie uma RegEx para verificar se um CPF está no formato correto.\n"
      ],
      "metadata": {
        "id": "ZMW0cgux0Ldy"
      }
    },
    {
      "cell_type": "code",
      "source": [
        "padrao = '[0-9]{3}[.][0-9]{3}[.][0-9]{3}[-][0-9]{2}'\n",
        "\n",
        "entrada = input('Digite seu cpf:')\n",
        "\n",
        "if re.search(padrao, entrada):\n",
        "  print('CPF válido!')\n",
        "else:\n",
        "  print('CPF inválido')  "
      ],
      "metadata": {
        "colab": {
          "base_uri": "https://localhost:8080/"
        },
        "id": "2dCT5iks0NfC",
        "outputId": "0891b97a-561d-454f-afdd-4fa189d2b137"
      },
      "execution_count": 17,
      "outputs": [
        {
          "output_type": "stream",
          "name": "stdout",
          "text": [
            "Digite seu cpf:000.000.000-22\n",
            "CPF válido!\n"
          ]
        }
      ]
    },
    {
      "cell_type": "markdown",
      "source": [
        "3) Verificar se data e hora estão no formato correto. O formato\n",
        "esperado é:\n",
        "a) dia/mes/ano hora:minuto:segundo\n"
      ],
      "metadata": {
        "id": "2V5vDcS_0N8q"
      }
    },
    {
      "cell_type": "code",
      "source": [
        "datahora = '29/09/2022 07:00:00'\n",
        "\n",
        "padrao = '\\d{2}[/]\\d{2}[/]\\d{4}\\s\\d{2}:\\d{2}:\\d{2}'\n",
        "\n",
        "if re.search(padrao, datahora):\n",
        "  print('Data e hora em formato correto!')\n",
        "else:\n",
        "  print('Data e hora em formato incorreto!')  "
      ],
      "metadata": {
        "colab": {
          "base_uri": "https://localhost:8080/"
        },
        "id": "1n9BhSvE0Qx-",
        "outputId": "2d2d73f6-0148-42bc-f69b-e700cad1e59b"
      },
      "execution_count": 20,
      "outputs": [
        {
          "output_type": "stream",
          "name": "stdout",
          "text": [
            "Data e hora em formato correto!\n"
          ]
        }
      ]
    },
    {
      "cell_type": "markdown",
      "source": [
        "4) Verificar se uma frase indica a idade de uma pessoa."
      ],
      "metadata": {
        "id": "YyBVDM5D0RD1"
      }
    },
    {
      "cell_type": "code",
      "source": [
        "frase = 'tenho 25 anos de idade'\n",
        "\n",
        "padrao = '\\d+\\s+anos'\n",
        "\n",
        "match = re.search(padrao, frase)\n",
        "\n",
        "print(match)"
      ],
      "metadata": {
        "colab": {
          "base_uri": "https://localhost:8080/"
        },
        "id": "G53-4pOb0RzO",
        "outputId": "b93a3c01-9795-454c-d707-3f147d192202"
      },
      "execution_count": 21,
      "outputs": [
        {
          "output_type": "stream",
          "name": "stdout",
          "text": [
            "<re.Match object; span=(6, 13), match='25 anos'>\n"
          ]
        }
      ]
    },
    {
      "cell_type": "code",
      "source": [],
      "metadata": {
        "id": "FSDLukeEsfHT"
      },
      "execution_count": null,
      "outputs": []
    }
  ]
}