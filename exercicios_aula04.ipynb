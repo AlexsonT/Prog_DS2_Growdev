{
  "nbformat": 4,
  "nbformat_minor": 0,
  "metadata": {
    "colab": {
      "provenance": [],
      "authorship_tag": "ABX9TyNaP6r/gBkRDuXOcIGwP29P",
      "include_colab_link": true
    },
    "kernelspec": {
      "name": "python3",
      "display_name": "Python 3"
    },
    "language_info": {
      "name": "python"
    }
  },
  "cells": [
    {
      "cell_type": "markdown",
      "metadata": {
        "id": "view-in-github",
        "colab_type": "text"
      },
      "source": [
        "<a href=\"https://colab.research.google.com/github/AlexsonT/Prog_DS2_Growdev/blob/main/exercicios_aula04.ipynb\" target=\"_parent\"><img src=\"https://colab.research.google.com/assets/colab-badge.svg\" alt=\"Open In Colab\"/></a>"
      ]
    },
    {
      "cell_type": "markdown",
      "source": [
        "## Exercícios - Programação para Data Science II\n"
      ],
      "metadata": {
        "id": "pKNd-YbSr8Np"
      }
    },
    {
      "cell_type": "markdown",
      "source": [
        "### Utilize os arquivos funcionarios.csv, cargos.csv e setores.csv como entrada para o processamento requerido nos seguintes exercícios."
      ],
      "metadata": {
        "id": "da31fk_Q593I"
      }
    },
    {
      "cell_type": "markdown",
      "source": [
        "**Bibliotecas**"
      ],
      "metadata": {
        "id": "iqvsGceWCKfA"
      }
    },
    {
      "cell_type": "code",
      "source": [
        "import pandas as pd\n",
        "import numpy as np\n",
        "from datetime import datetime"
      ],
      "metadata": {
        "id": "XV0gx4WqCJ2O"
      },
      "execution_count": 1,
      "outputs": []
    },
    {
      "cell_type": "markdown",
      "source": [
        "Execução de arquivos"
      ],
      "metadata": {
        "id": "NO5nRLPHCcDg"
      }
    },
    {
      "cell_type": "code",
      "source": [
        "df_cargos = pd.read_csv('cargos.csv', sep=',')"
      ],
      "metadata": {
        "id": "cx2zGlglCghi"
      },
      "execution_count": 2,
      "outputs": []
    },
    {
      "cell_type": "code",
      "source": [
        "df_funcionarios = pd.read_csv('funcionarios.csv', sep=',')"
      ],
      "metadata": {
        "id": "Usj6L-6vC3FI"
      },
      "execution_count": 3,
      "outputs": []
    },
    {
      "cell_type": "code",
      "source": [
        "df_setores = pd.read_csv('setores.csv', sep=',')"
      ],
      "metadata": {
        "id": "bJohKe98C3OY"
      },
      "execution_count": 4,
      "outputs": []
    },
    {
      "cell_type": "markdown",
      "source": [
        "Base de dados"
      ],
      "metadata": {
        "id": "LIdY7uRzMpy0"
      }
    },
    {
      "cell_type": "code",
      "source": [
        "df_cargos_funcionarios= pd.merge(df_funcionarios, df_cargos, how='left', on='cargo_id')\n",
        "df_completo = pd.merge(df_cargos_funcionarios, df_setores, how='left', on='setor_id' )"
      ],
      "metadata": {
        "id": "KdFfR6JyMrPz"
      },
      "execution_count": 5,
      "outputs": []
    },
    {
      "cell_type": "code",
      "source": [
        "df_completo.head(10)"
      ],
      "metadata": {
        "colab": {
          "base_uri": "https://localhost:8080/",
          "height": 363
        },
        "id": "ps_TSMbbQgKn",
        "outputId": "4b88a6bd-a07e-4450-9454-013d29cbbbab"
      },
      "execution_count": 6,
      "outputs": [
        {
          "output_type": "execute_result",
          "data": {
            "text/plain": [
              "   funcionario_nome  funcionario_idade  funcionario_cpf  cargo_id  setor_id  \\\n",
              "0    Daniel Batista                 36      27176353356         1         2   \n",
              "1     Bianca Garcia                 39      21461638191         3         1   \n",
              "2   Guilherme Silva                 45      54088099503         1         2   \n",
              "3   Leonardo Barros                 23       3388954911         5         1   \n",
              "4     Daniel Barros                 18      36195973218         3         1   \n",
              "5     Maria Andrade                 55      73777223744         5         2   \n",
              "6   Leonardo Garcia                 34      58793173844         5         2   \n",
              "7    Claudia Barros                 37      87838447437         2         1   \n",
              "8     Lauro Andrade                 44      65316999502         5         5   \n",
              "9  PedroAna Freitas                 38      67812403509         4         5   \n",
              "\n",
              "     cargo_nome  cargo_nivel  cargo_salario setor_nome  \n",
              "0    Estagiario            1           1200    Compras  \n",
              "1      Analista            2           3500     Vendas  \n",
              "2    Estagiario            1           1200    Compras  \n",
              "3  Especialista            2           7000     Vendas  \n",
              "4      Analista            2           3500     Vendas  \n",
              "5  Especialista            2           7000    Compras  \n",
              "6  Especialista            2           7000    Compras  \n",
              "7      Analista            1           3500     Vendas  \n",
              "8  Especialista            2           7000         RH  \n",
              "9  Especialista            1           7000         RH  "
            ],
            "text/html": [
              "\n",
              "  <div id=\"df-bef4b7a3-ff10-45d9-b9eb-a47be6316ce2\">\n",
              "    <div class=\"colab-df-container\">\n",
              "      <div>\n",
              "<style scoped>\n",
              "    .dataframe tbody tr th:only-of-type {\n",
              "        vertical-align: middle;\n",
              "    }\n",
              "\n",
              "    .dataframe tbody tr th {\n",
              "        vertical-align: top;\n",
              "    }\n",
              "\n",
              "    .dataframe thead th {\n",
              "        text-align: right;\n",
              "    }\n",
              "</style>\n",
              "<table border=\"1\" class=\"dataframe\">\n",
              "  <thead>\n",
              "    <tr style=\"text-align: right;\">\n",
              "      <th></th>\n",
              "      <th>funcionario_nome</th>\n",
              "      <th>funcionario_idade</th>\n",
              "      <th>funcionario_cpf</th>\n",
              "      <th>cargo_id</th>\n",
              "      <th>setor_id</th>\n",
              "      <th>cargo_nome</th>\n",
              "      <th>cargo_nivel</th>\n",
              "      <th>cargo_salario</th>\n",
              "      <th>setor_nome</th>\n",
              "    </tr>\n",
              "  </thead>\n",
              "  <tbody>\n",
              "    <tr>\n",
              "      <th>0</th>\n",
              "      <td>Daniel Batista</td>\n",
              "      <td>36</td>\n",
              "      <td>27176353356</td>\n",
              "      <td>1</td>\n",
              "      <td>2</td>\n",
              "      <td>Estagiario</td>\n",
              "      <td>1</td>\n",
              "      <td>1200</td>\n",
              "      <td>Compras</td>\n",
              "    </tr>\n",
              "    <tr>\n",
              "      <th>1</th>\n",
              "      <td>Bianca Garcia</td>\n",
              "      <td>39</td>\n",
              "      <td>21461638191</td>\n",
              "      <td>3</td>\n",
              "      <td>1</td>\n",
              "      <td>Analista</td>\n",
              "      <td>2</td>\n",
              "      <td>3500</td>\n",
              "      <td>Vendas</td>\n",
              "    </tr>\n",
              "    <tr>\n",
              "      <th>2</th>\n",
              "      <td>Guilherme Silva</td>\n",
              "      <td>45</td>\n",
              "      <td>54088099503</td>\n",
              "      <td>1</td>\n",
              "      <td>2</td>\n",
              "      <td>Estagiario</td>\n",
              "      <td>1</td>\n",
              "      <td>1200</td>\n",
              "      <td>Compras</td>\n",
              "    </tr>\n",
              "    <tr>\n",
              "      <th>3</th>\n",
              "      <td>Leonardo Barros</td>\n",
              "      <td>23</td>\n",
              "      <td>3388954911</td>\n",
              "      <td>5</td>\n",
              "      <td>1</td>\n",
              "      <td>Especialista</td>\n",
              "      <td>2</td>\n",
              "      <td>7000</td>\n",
              "      <td>Vendas</td>\n",
              "    </tr>\n",
              "    <tr>\n",
              "      <th>4</th>\n",
              "      <td>Daniel Barros</td>\n",
              "      <td>18</td>\n",
              "      <td>36195973218</td>\n",
              "      <td>3</td>\n",
              "      <td>1</td>\n",
              "      <td>Analista</td>\n",
              "      <td>2</td>\n",
              "      <td>3500</td>\n",
              "      <td>Vendas</td>\n",
              "    </tr>\n",
              "    <tr>\n",
              "      <th>5</th>\n",
              "      <td>Maria Andrade</td>\n",
              "      <td>55</td>\n",
              "      <td>73777223744</td>\n",
              "      <td>5</td>\n",
              "      <td>2</td>\n",
              "      <td>Especialista</td>\n",
              "      <td>2</td>\n",
              "      <td>7000</td>\n",
              "      <td>Compras</td>\n",
              "    </tr>\n",
              "    <tr>\n",
              "      <th>6</th>\n",
              "      <td>Leonardo Garcia</td>\n",
              "      <td>34</td>\n",
              "      <td>58793173844</td>\n",
              "      <td>5</td>\n",
              "      <td>2</td>\n",
              "      <td>Especialista</td>\n",
              "      <td>2</td>\n",
              "      <td>7000</td>\n",
              "      <td>Compras</td>\n",
              "    </tr>\n",
              "    <tr>\n",
              "      <th>7</th>\n",
              "      <td>Claudia Barros</td>\n",
              "      <td>37</td>\n",
              "      <td>87838447437</td>\n",
              "      <td>2</td>\n",
              "      <td>1</td>\n",
              "      <td>Analista</td>\n",
              "      <td>1</td>\n",
              "      <td>3500</td>\n",
              "      <td>Vendas</td>\n",
              "    </tr>\n",
              "    <tr>\n",
              "      <th>8</th>\n",
              "      <td>Lauro Andrade</td>\n",
              "      <td>44</td>\n",
              "      <td>65316999502</td>\n",
              "      <td>5</td>\n",
              "      <td>5</td>\n",
              "      <td>Especialista</td>\n",
              "      <td>2</td>\n",
              "      <td>7000</td>\n",
              "      <td>RH</td>\n",
              "    </tr>\n",
              "    <tr>\n",
              "      <th>9</th>\n",
              "      <td>PedroAna Freitas</td>\n",
              "      <td>38</td>\n",
              "      <td>67812403509</td>\n",
              "      <td>4</td>\n",
              "      <td>5</td>\n",
              "      <td>Especialista</td>\n",
              "      <td>1</td>\n",
              "      <td>7000</td>\n",
              "      <td>RH</td>\n",
              "    </tr>\n",
              "  </tbody>\n",
              "</table>\n",
              "</div>\n",
              "      <button class=\"colab-df-convert\" onclick=\"convertToInteractive('df-bef4b7a3-ff10-45d9-b9eb-a47be6316ce2')\"\n",
              "              title=\"Convert this dataframe to an interactive table.\"\n",
              "              style=\"display:none;\">\n",
              "        \n",
              "  <svg xmlns=\"http://www.w3.org/2000/svg\" height=\"24px\"viewBox=\"0 0 24 24\"\n",
              "       width=\"24px\">\n",
              "    <path d=\"M0 0h24v24H0V0z\" fill=\"none\"/>\n",
              "    <path d=\"M18.56 5.44l.94 2.06.94-2.06 2.06-.94-2.06-.94-.94-2.06-.94 2.06-2.06.94zm-11 1L8.5 8.5l.94-2.06 2.06-.94-2.06-.94L8.5 2.5l-.94 2.06-2.06.94zm10 10l.94 2.06.94-2.06 2.06-.94-2.06-.94-.94-2.06-.94 2.06-2.06.94z\"/><path d=\"M17.41 7.96l-1.37-1.37c-.4-.4-.92-.59-1.43-.59-.52 0-1.04.2-1.43.59L10.3 9.45l-7.72 7.72c-.78.78-.78 2.05 0 2.83L4 21.41c.39.39.9.59 1.41.59.51 0 1.02-.2 1.41-.59l7.78-7.78 2.81-2.81c.8-.78.8-2.07 0-2.86zM5.41 20L4 18.59l7.72-7.72 1.47 1.35L5.41 20z\"/>\n",
              "  </svg>\n",
              "      </button>\n",
              "      \n",
              "  <style>\n",
              "    .colab-df-container {\n",
              "      display:flex;\n",
              "      flex-wrap:wrap;\n",
              "      gap: 12px;\n",
              "    }\n",
              "\n",
              "    .colab-df-convert {\n",
              "      background-color: #E8F0FE;\n",
              "      border: none;\n",
              "      border-radius: 50%;\n",
              "      cursor: pointer;\n",
              "      display: none;\n",
              "      fill: #1967D2;\n",
              "      height: 32px;\n",
              "      padding: 0 0 0 0;\n",
              "      width: 32px;\n",
              "    }\n",
              "\n",
              "    .colab-df-convert:hover {\n",
              "      background-color: #E2EBFA;\n",
              "      box-shadow: 0px 1px 2px rgba(60, 64, 67, 0.3), 0px 1px 3px 1px rgba(60, 64, 67, 0.15);\n",
              "      fill: #174EA6;\n",
              "    }\n",
              "\n",
              "    [theme=dark] .colab-df-convert {\n",
              "      background-color: #3B4455;\n",
              "      fill: #D2E3FC;\n",
              "    }\n",
              "\n",
              "    [theme=dark] .colab-df-convert:hover {\n",
              "      background-color: #434B5C;\n",
              "      box-shadow: 0px 1px 3px 1px rgba(0, 0, 0, 0.15);\n",
              "      filter: drop-shadow(0px 1px 2px rgba(0, 0, 0, 0.3));\n",
              "      fill: #FFFFFF;\n",
              "    }\n",
              "  </style>\n",
              "\n",
              "      <script>\n",
              "        const buttonEl =\n",
              "          document.querySelector('#df-bef4b7a3-ff10-45d9-b9eb-a47be6316ce2 button.colab-df-convert');\n",
              "        buttonEl.style.display =\n",
              "          google.colab.kernel.accessAllowed ? 'block' : 'none';\n",
              "\n",
              "        async function convertToInteractive(key) {\n",
              "          const element = document.querySelector('#df-bef4b7a3-ff10-45d9-b9eb-a47be6316ce2');\n",
              "          const dataTable =\n",
              "            await google.colab.kernel.invokeFunction('convertToInteractive',\n",
              "                                                     [key], {});\n",
              "          if (!dataTable) return;\n",
              "\n",
              "          const docLinkHtml = 'Like what you see? Visit the ' +\n",
              "            '<a target=\"_blank\" href=https://colab.research.google.com/notebooks/data_table.ipynb>data table notebook</a>'\n",
              "            + ' to learn more about interactive tables.';\n",
              "          element.innerHTML = '';\n",
              "          dataTable['output_type'] = 'display_data';\n",
              "          await google.colab.output.renderOutput(dataTable, element);\n",
              "          const docLink = document.createElement('div');\n",
              "          docLink.innerHTML = docLinkHtml;\n",
              "          element.appendChild(docLink);\n",
              "        }\n",
              "      </script>\n",
              "    </div>\n",
              "  </div>\n",
              "  "
            ]
          },
          "metadata": {},
          "execution_count": 6
        }
      ]
    },
    {
      "cell_type": "markdown",
      "source": [
        "1) Faça o pivoteamento de forma a mostrar a relação entre cargos e setores com a média salarial."
      ],
      "metadata": {
        "id": "wqDN5s0P5Ef1"
      }
    },
    {
      "cell_type": "code",
      "execution_count": 24,
      "metadata": {
        "colab": {
          "base_uri": "https://localhost:8080/",
          "height": 551
        },
        "id": "72v52uL8r7r9",
        "outputId": "6da13d5e-086c-4311-a96b-bd4883eed6be"
      },
      "outputs": [
        {
          "output_type": "display_data",
          "data": {
            "text/plain": [
              "                              cargo_salario\n",
              "cargo_nome   setor_nome                    \n",
              "Analista     Compras                   3500\n",
              "             Desenvolvimento           3500\n",
              "             Marketing                 3500\n",
              "             RH                        3500\n",
              "             Vendas                    3500\n",
              "Especialista Compras                   7000\n",
              "             Desenvolvimento           7000\n",
              "             Marketing                 7000\n",
              "             RH                        7000\n",
              "             Vendas                    7000\n",
              "Estagiario   Compras                   1200\n",
              "             Desenvolvimento           1200\n",
              "             Marketing                 1200\n",
              "             RH                        1200\n",
              "             Vendas                    1200"
            ],
            "text/html": [
              "\n",
              "  <div id=\"df-49e5b268-fc3f-4fe8-8684-74fbd94aed43\">\n",
              "    <div class=\"colab-df-container\">\n",
              "      <div>\n",
              "<style scoped>\n",
              "    .dataframe tbody tr th:only-of-type {\n",
              "        vertical-align: middle;\n",
              "    }\n",
              "\n",
              "    .dataframe tbody tr th {\n",
              "        vertical-align: top;\n",
              "    }\n",
              "\n",
              "    .dataframe thead th {\n",
              "        text-align: right;\n",
              "    }\n",
              "</style>\n",
              "<table border=\"1\" class=\"dataframe\">\n",
              "  <thead>\n",
              "    <tr style=\"text-align: right;\">\n",
              "      <th></th>\n",
              "      <th></th>\n",
              "      <th>cargo_salario</th>\n",
              "    </tr>\n",
              "    <tr>\n",
              "      <th>cargo_nome</th>\n",
              "      <th>setor_nome</th>\n",
              "      <th></th>\n",
              "    </tr>\n",
              "  </thead>\n",
              "  <tbody>\n",
              "    <tr>\n",
              "      <th rowspan=\"5\" valign=\"top\">Analista</th>\n",
              "      <th>Compras</th>\n",
              "      <td>3500</td>\n",
              "    </tr>\n",
              "    <tr>\n",
              "      <th>Desenvolvimento</th>\n",
              "      <td>3500</td>\n",
              "    </tr>\n",
              "    <tr>\n",
              "      <th>Marketing</th>\n",
              "      <td>3500</td>\n",
              "    </tr>\n",
              "    <tr>\n",
              "      <th>RH</th>\n",
              "      <td>3500</td>\n",
              "    </tr>\n",
              "    <tr>\n",
              "      <th>Vendas</th>\n",
              "      <td>3500</td>\n",
              "    </tr>\n",
              "    <tr>\n",
              "      <th rowspan=\"5\" valign=\"top\">Especialista</th>\n",
              "      <th>Compras</th>\n",
              "      <td>7000</td>\n",
              "    </tr>\n",
              "    <tr>\n",
              "      <th>Desenvolvimento</th>\n",
              "      <td>7000</td>\n",
              "    </tr>\n",
              "    <tr>\n",
              "      <th>Marketing</th>\n",
              "      <td>7000</td>\n",
              "    </tr>\n",
              "    <tr>\n",
              "      <th>RH</th>\n",
              "      <td>7000</td>\n",
              "    </tr>\n",
              "    <tr>\n",
              "      <th>Vendas</th>\n",
              "      <td>7000</td>\n",
              "    </tr>\n",
              "    <tr>\n",
              "      <th rowspan=\"5\" valign=\"top\">Estagiario</th>\n",
              "      <th>Compras</th>\n",
              "      <td>1200</td>\n",
              "    </tr>\n",
              "    <tr>\n",
              "      <th>Desenvolvimento</th>\n",
              "      <td>1200</td>\n",
              "    </tr>\n",
              "    <tr>\n",
              "      <th>Marketing</th>\n",
              "      <td>1200</td>\n",
              "    </tr>\n",
              "    <tr>\n",
              "      <th>RH</th>\n",
              "      <td>1200</td>\n",
              "    </tr>\n",
              "    <tr>\n",
              "      <th>Vendas</th>\n",
              "      <td>1200</td>\n",
              "    </tr>\n",
              "  </tbody>\n",
              "</table>\n",
              "</div>\n",
              "      <button class=\"colab-df-convert\" onclick=\"convertToInteractive('df-49e5b268-fc3f-4fe8-8684-74fbd94aed43')\"\n",
              "              title=\"Convert this dataframe to an interactive table.\"\n",
              "              style=\"display:none;\">\n",
              "        \n",
              "  <svg xmlns=\"http://www.w3.org/2000/svg\" height=\"24px\"viewBox=\"0 0 24 24\"\n",
              "       width=\"24px\">\n",
              "    <path d=\"M0 0h24v24H0V0z\" fill=\"none\"/>\n",
              "    <path d=\"M18.56 5.44l.94 2.06.94-2.06 2.06-.94-2.06-.94-.94-2.06-.94 2.06-2.06.94zm-11 1L8.5 8.5l.94-2.06 2.06-.94-2.06-.94L8.5 2.5l-.94 2.06-2.06.94zm10 10l.94 2.06.94-2.06 2.06-.94-2.06-.94-.94-2.06-.94 2.06-2.06.94z\"/><path d=\"M17.41 7.96l-1.37-1.37c-.4-.4-.92-.59-1.43-.59-.52 0-1.04.2-1.43.59L10.3 9.45l-7.72 7.72c-.78.78-.78 2.05 0 2.83L4 21.41c.39.39.9.59 1.41.59.51 0 1.02-.2 1.41-.59l7.78-7.78 2.81-2.81c.8-.78.8-2.07 0-2.86zM5.41 20L4 18.59l7.72-7.72 1.47 1.35L5.41 20z\"/>\n",
              "  </svg>\n",
              "      </button>\n",
              "      \n",
              "  <style>\n",
              "    .colab-df-container {\n",
              "      display:flex;\n",
              "      flex-wrap:wrap;\n",
              "      gap: 12px;\n",
              "    }\n",
              "\n",
              "    .colab-df-convert {\n",
              "      background-color: #E8F0FE;\n",
              "      border: none;\n",
              "      border-radius: 50%;\n",
              "      cursor: pointer;\n",
              "      display: none;\n",
              "      fill: #1967D2;\n",
              "      height: 32px;\n",
              "      padding: 0 0 0 0;\n",
              "      width: 32px;\n",
              "    }\n",
              "\n",
              "    .colab-df-convert:hover {\n",
              "      background-color: #E2EBFA;\n",
              "      box-shadow: 0px 1px 2px rgba(60, 64, 67, 0.3), 0px 1px 3px 1px rgba(60, 64, 67, 0.15);\n",
              "      fill: #174EA6;\n",
              "    }\n",
              "\n",
              "    [theme=dark] .colab-df-convert {\n",
              "      background-color: #3B4455;\n",
              "      fill: #D2E3FC;\n",
              "    }\n",
              "\n",
              "    [theme=dark] .colab-df-convert:hover {\n",
              "      background-color: #434B5C;\n",
              "      box-shadow: 0px 1px 3px 1px rgba(0, 0, 0, 0.15);\n",
              "      filter: drop-shadow(0px 1px 2px rgba(0, 0, 0, 0.3));\n",
              "      fill: #FFFFFF;\n",
              "    }\n",
              "  </style>\n",
              "\n",
              "      <script>\n",
              "        const buttonEl =\n",
              "          document.querySelector('#df-49e5b268-fc3f-4fe8-8684-74fbd94aed43 button.colab-df-convert');\n",
              "        buttonEl.style.display =\n",
              "          google.colab.kernel.accessAllowed ? 'block' : 'none';\n",
              "\n",
              "        async function convertToInteractive(key) {\n",
              "          const element = document.querySelector('#df-49e5b268-fc3f-4fe8-8684-74fbd94aed43');\n",
              "          const dataTable =\n",
              "            await google.colab.kernel.invokeFunction('convertToInteractive',\n",
              "                                                     [key], {});\n",
              "          if (!dataTable) return;\n",
              "\n",
              "          const docLinkHtml = 'Like what you see? Visit the ' +\n",
              "            '<a target=\"_blank\" href=https://colab.research.google.com/notebooks/data_table.ipynb>data table notebook</a>'\n",
              "            + ' to learn more about interactive tables.';\n",
              "          element.innerHTML = '';\n",
              "          dataTable['output_type'] = 'display_data';\n",
              "          await google.colab.output.renderOutput(dataTable, element);\n",
              "          const docLink = document.createElement('div');\n",
              "          docLink.innerHTML = docLinkHtml;\n",
              "          element.appendChild(docLink);\n",
              "        }\n",
              "      </script>\n",
              "    </div>\n",
              "  </div>\n",
              "  "
            ]
          },
          "metadata": {}
        }
      ],
      "source": [
        "cargos_setores = pd.pivot_table(\n",
        "    df_completo,\n",
        "    values=['cargo_salario'],\n",
        "    index=['cargo_nome', 'setor_nome'],\n",
        "    aggfunc=np.mean\n",
        ")\n",
        "display(cargos_setores)\n",
        "\n"
      ]
    },
    {
      "cell_type": "markdown",
      "source": [
        " 2) Faça um pivoteamento para elucidar quais setores possuem mais de 5 funcionários acima de 55 anos?"
      ],
      "metadata": {
        "id": "R9xteyHj5LRV"
      }
    },
    {
      "cell_type": "code",
      "source": [],
      "metadata": {
        "id": "Pt9Xwedm5P9a"
      },
      "execution_count": null,
      "outputs": []
    },
    {
      "cell_type": "markdown",
      "source": [
        "3) Faça um pivoteamento para mostrar a relação entre os níveis dos cargos e os salários dos funcionários com a média salarial."
      ],
      "metadata": {
        "id": "KuCCYPD95Tm8"
      }
    },
    {
      "cell_type": "code",
      "source": [
        "cargos_setores = pd.pivot_table(\n",
        "    df_completo,\n",
        "    values=['cargo_salario'],\n",
        "    index=['cargo_nome', 'setor_nome','cargo_nivel'],\n",
        "    aggfunc=np.mean\n",
        ")\n",
        "display(cargos_setores)"
      ],
      "metadata": {
        "id": "QP2h0K0A5Oak",
        "colab": {
          "base_uri": "https://localhost:8080/",
          "height": 865
        },
        "outputId": "12e7e65d-ee35-44f0-8ac1-eae5f5b0fbfb"
      },
      "execution_count": 20,
      "outputs": [
        {
          "output_type": "display_data",
          "data": {
            "text/plain": [
              "                                          cargo_salario\n",
              "cargo_nome   setor_nome      cargo_nivel               \n",
              "Analista     Compras         1                     3500\n",
              "                             2                     3500\n",
              "             Desenvolvimento 1                     3500\n",
              "                             2                     3500\n",
              "             Marketing       1                     3500\n",
              "                             2                     3500\n",
              "             RH              1                     3500\n",
              "                             2                     3500\n",
              "             Vendas          1                     3500\n",
              "                             2                     3500\n",
              "Especialista Compras         1                     7000\n",
              "                             2                     7000\n",
              "             Desenvolvimento 1                     7000\n",
              "                             2                     7000\n",
              "             Marketing       1                     7000\n",
              "                             2                     7000\n",
              "             RH              1                     7000\n",
              "                             2                     7000\n",
              "             Vendas          1                     7000\n",
              "                             2                     7000\n",
              "Estagiario   Compras         1                     1200\n",
              "             Desenvolvimento 1                     1200\n",
              "             Marketing       1                     1200\n",
              "             RH              1                     1200\n",
              "             Vendas          1                     1200"
            ],
            "text/html": [
              "\n",
              "  <div id=\"df-2a695b9a-4e70-4e34-8fa5-88a83b1f7113\">\n",
              "    <div class=\"colab-df-container\">\n",
              "      <div>\n",
              "<style scoped>\n",
              "    .dataframe tbody tr th:only-of-type {\n",
              "        vertical-align: middle;\n",
              "    }\n",
              "\n",
              "    .dataframe tbody tr th {\n",
              "        vertical-align: top;\n",
              "    }\n",
              "\n",
              "    .dataframe thead th {\n",
              "        text-align: right;\n",
              "    }\n",
              "</style>\n",
              "<table border=\"1\" class=\"dataframe\">\n",
              "  <thead>\n",
              "    <tr style=\"text-align: right;\">\n",
              "      <th></th>\n",
              "      <th></th>\n",
              "      <th></th>\n",
              "      <th>cargo_salario</th>\n",
              "    </tr>\n",
              "    <tr>\n",
              "      <th>cargo_nome</th>\n",
              "      <th>setor_nome</th>\n",
              "      <th>cargo_nivel</th>\n",
              "      <th></th>\n",
              "    </tr>\n",
              "  </thead>\n",
              "  <tbody>\n",
              "    <tr>\n",
              "      <th rowspan=\"10\" valign=\"top\">Analista</th>\n",
              "      <th rowspan=\"2\" valign=\"top\">Compras</th>\n",
              "      <th>1</th>\n",
              "      <td>3500</td>\n",
              "    </tr>\n",
              "    <tr>\n",
              "      <th>2</th>\n",
              "      <td>3500</td>\n",
              "    </tr>\n",
              "    <tr>\n",
              "      <th rowspan=\"2\" valign=\"top\">Desenvolvimento</th>\n",
              "      <th>1</th>\n",
              "      <td>3500</td>\n",
              "    </tr>\n",
              "    <tr>\n",
              "      <th>2</th>\n",
              "      <td>3500</td>\n",
              "    </tr>\n",
              "    <tr>\n",
              "      <th rowspan=\"2\" valign=\"top\">Marketing</th>\n",
              "      <th>1</th>\n",
              "      <td>3500</td>\n",
              "    </tr>\n",
              "    <tr>\n",
              "      <th>2</th>\n",
              "      <td>3500</td>\n",
              "    </tr>\n",
              "    <tr>\n",
              "      <th rowspan=\"2\" valign=\"top\">RH</th>\n",
              "      <th>1</th>\n",
              "      <td>3500</td>\n",
              "    </tr>\n",
              "    <tr>\n",
              "      <th>2</th>\n",
              "      <td>3500</td>\n",
              "    </tr>\n",
              "    <tr>\n",
              "      <th rowspan=\"2\" valign=\"top\">Vendas</th>\n",
              "      <th>1</th>\n",
              "      <td>3500</td>\n",
              "    </tr>\n",
              "    <tr>\n",
              "      <th>2</th>\n",
              "      <td>3500</td>\n",
              "    </tr>\n",
              "    <tr>\n",
              "      <th rowspan=\"10\" valign=\"top\">Especialista</th>\n",
              "      <th rowspan=\"2\" valign=\"top\">Compras</th>\n",
              "      <th>1</th>\n",
              "      <td>7000</td>\n",
              "    </tr>\n",
              "    <tr>\n",
              "      <th>2</th>\n",
              "      <td>7000</td>\n",
              "    </tr>\n",
              "    <tr>\n",
              "      <th rowspan=\"2\" valign=\"top\">Desenvolvimento</th>\n",
              "      <th>1</th>\n",
              "      <td>7000</td>\n",
              "    </tr>\n",
              "    <tr>\n",
              "      <th>2</th>\n",
              "      <td>7000</td>\n",
              "    </tr>\n",
              "    <tr>\n",
              "      <th rowspan=\"2\" valign=\"top\">Marketing</th>\n",
              "      <th>1</th>\n",
              "      <td>7000</td>\n",
              "    </tr>\n",
              "    <tr>\n",
              "      <th>2</th>\n",
              "      <td>7000</td>\n",
              "    </tr>\n",
              "    <tr>\n",
              "      <th rowspan=\"2\" valign=\"top\">RH</th>\n",
              "      <th>1</th>\n",
              "      <td>7000</td>\n",
              "    </tr>\n",
              "    <tr>\n",
              "      <th>2</th>\n",
              "      <td>7000</td>\n",
              "    </tr>\n",
              "    <tr>\n",
              "      <th rowspan=\"2\" valign=\"top\">Vendas</th>\n",
              "      <th>1</th>\n",
              "      <td>7000</td>\n",
              "    </tr>\n",
              "    <tr>\n",
              "      <th>2</th>\n",
              "      <td>7000</td>\n",
              "    </tr>\n",
              "    <tr>\n",
              "      <th rowspan=\"5\" valign=\"top\">Estagiario</th>\n",
              "      <th>Compras</th>\n",
              "      <th>1</th>\n",
              "      <td>1200</td>\n",
              "    </tr>\n",
              "    <tr>\n",
              "      <th>Desenvolvimento</th>\n",
              "      <th>1</th>\n",
              "      <td>1200</td>\n",
              "    </tr>\n",
              "    <tr>\n",
              "      <th>Marketing</th>\n",
              "      <th>1</th>\n",
              "      <td>1200</td>\n",
              "    </tr>\n",
              "    <tr>\n",
              "      <th>RH</th>\n",
              "      <th>1</th>\n",
              "      <td>1200</td>\n",
              "    </tr>\n",
              "    <tr>\n",
              "      <th>Vendas</th>\n",
              "      <th>1</th>\n",
              "      <td>1200</td>\n",
              "    </tr>\n",
              "  </tbody>\n",
              "</table>\n",
              "</div>\n",
              "      <button class=\"colab-df-convert\" onclick=\"convertToInteractive('df-2a695b9a-4e70-4e34-8fa5-88a83b1f7113')\"\n",
              "              title=\"Convert this dataframe to an interactive table.\"\n",
              "              style=\"display:none;\">\n",
              "        \n",
              "  <svg xmlns=\"http://www.w3.org/2000/svg\" height=\"24px\"viewBox=\"0 0 24 24\"\n",
              "       width=\"24px\">\n",
              "    <path d=\"M0 0h24v24H0V0z\" fill=\"none\"/>\n",
              "    <path d=\"M18.56 5.44l.94 2.06.94-2.06 2.06-.94-2.06-.94-.94-2.06-.94 2.06-2.06.94zm-11 1L8.5 8.5l.94-2.06 2.06-.94-2.06-.94L8.5 2.5l-.94 2.06-2.06.94zm10 10l.94 2.06.94-2.06 2.06-.94-2.06-.94-.94-2.06-.94 2.06-2.06.94z\"/><path d=\"M17.41 7.96l-1.37-1.37c-.4-.4-.92-.59-1.43-.59-.52 0-1.04.2-1.43.59L10.3 9.45l-7.72 7.72c-.78.78-.78 2.05 0 2.83L4 21.41c.39.39.9.59 1.41.59.51 0 1.02-.2 1.41-.59l7.78-7.78 2.81-2.81c.8-.78.8-2.07 0-2.86zM5.41 20L4 18.59l7.72-7.72 1.47 1.35L5.41 20z\"/>\n",
              "  </svg>\n",
              "      </button>\n",
              "      \n",
              "  <style>\n",
              "    .colab-df-container {\n",
              "      display:flex;\n",
              "      flex-wrap:wrap;\n",
              "      gap: 12px;\n",
              "    }\n",
              "\n",
              "    .colab-df-convert {\n",
              "      background-color: #E8F0FE;\n",
              "      border: none;\n",
              "      border-radius: 50%;\n",
              "      cursor: pointer;\n",
              "      display: none;\n",
              "      fill: #1967D2;\n",
              "      height: 32px;\n",
              "      padding: 0 0 0 0;\n",
              "      width: 32px;\n",
              "    }\n",
              "\n",
              "    .colab-df-convert:hover {\n",
              "      background-color: #E2EBFA;\n",
              "      box-shadow: 0px 1px 2px rgba(60, 64, 67, 0.3), 0px 1px 3px 1px rgba(60, 64, 67, 0.15);\n",
              "      fill: #174EA6;\n",
              "    }\n",
              "\n",
              "    [theme=dark] .colab-df-convert {\n",
              "      background-color: #3B4455;\n",
              "      fill: #D2E3FC;\n",
              "    }\n",
              "\n",
              "    [theme=dark] .colab-df-convert:hover {\n",
              "      background-color: #434B5C;\n",
              "      box-shadow: 0px 1px 3px 1px rgba(0, 0, 0, 0.15);\n",
              "      filter: drop-shadow(0px 1px 2px rgba(0, 0, 0, 0.3));\n",
              "      fill: #FFFFFF;\n",
              "    }\n",
              "  </style>\n",
              "\n",
              "      <script>\n",
              "        const buttonEl =\n",
              "          document.querySelector('#df-2a695b9a-4e70-4e34-8fa5-88a83b1f7113 button.colab-df-convert');\n",
              "        buttonEl.style.display =\n",
              "          google.colab.kernel.accessAllowed ? 'block' : 'none';\n",
              "\n",
              "        async function convertToInteractive(key) {\n",
              "          const element = document.querySelector('#df-2a695b9a-4e70-4e34-8fa5-88a83b1f7113');\n",
              "          const dataTable =\n",
              "            await google.colab.kernel.invokeFunction('convertToInteractive',\n",
              "                                                     [key], {});\n",
              "          if (!dataTable) return;\n",
              "\n",
              "          const docLinkHtml = 'Like what you see? Visit the ' +\n",
              "            '<a target=\"_blank\" href=https://colab.research.google.com/notebooks/data_table.ipynb>data table notebook</a>'\n",
              "            + ' to learn more about interactive tables.';\n",
              "          element.innerHTML = '';\n",
              "          dataTable['output_type'] = 'display_data';\n",
              "          await google.colab.output.renderOutput(dataTable, element);\n",
              "          const docLink = document.createElement('div');\n",
              "          docLink.innerHTML = docLinkHtml;\n",
              "          element.appendChild(docLink);\n",
              "        }\n",
              "      </script>\n",
              "    </div>\n",
              "  </div>\n",
              "  "
            ]
          },
          "metadata": {}
        }
      ]
    },
    {
      "cell_type": "markdown",
      "source": [
        "### Utilize os recursos relativos a manipulação de strings para responder aos seguintes questionamentos."
      ],
      "metadata": {
        "id": "tthHbl225Z4f"
      }
    },
    {
      "cell_type": "markdown",
      "source": [
        "1) Transforme a data ‘2022/09/21’ em ‘21-09-2022’.\n"
      ],
      "metadata": {
        "id": "2Oc-Mon15iby"
      }
    },
    {
      "cell_type": "code",
      "source": [
        "data = '2022/09/21'\n",
        "data_formatada = datetime.strptime(data, '%Y/%m/%d').date()\n",
        "\n",
        "print(data_formatada.strftime('%d-%m-%Y'))"
      ],
      "metadata": {
        "colab": {
          "base_uri": "https://localhost:8080/"
        },
        "id": "OSWMDKRL5aBx",
        "outputId": "f0158bfa-e341-47d4-bfe6-8a814d999fce"
      },
      "execution_count": null,
      "outputs": [
        {
          "output_type": "stream",
          "name": "stdout",
          "text": [
            "21-09-2022\n"
          ]
        }
      ]
    },
    {
      "cell_type": "markdown",
      "source": [
        "2) Faça um programa que verifique quais caracteres são diferentes entre duas\n",
        "strings, apontando quais são e em que posição estão. A comparação deve\n",
        "ser caracter por caracter.\n"
      ],
      "metadata": {
        "id": "_E9NmldD5aIZ"
      }
    },
    {
      "cell_type": "code",
      "source": [],
      "metadata": {
        "id": "07_NDrJk5aOX"
      },
      "execution_count": null,
      "outputs": []
    },
    {
      "cell_type": "markdown",
      "source": [
        "3) Faça um programa que solicite a data de nascimento (dd/mm/aaaa) do\n",
        "usuário e imprima a data com o nome do mês por extenso.\n"
      ],
      "metadata": {
        "id": "FM-2vuS45aU5"
      }
    },
    {
      "cell_type": "code",
      "source": [
        "data = str(input('Insira sua data de nascimento (dd/mm/aaaa):'))"
      ],
      "metadata": {
        "colab": {
          "base_uri": "https://localhost:8080/"
        },
        "id": "6G1qJ-rs5aah",
        "outputId": "8ef5e0ce-66e0-4702-a1ac-3d77fe729d3a"
      },
      "execution_count": null,
      "outputs": [
        {
          "name": "stdout",
          "output_type": "stream",
          "text": [
            "Insira sua data de nascimento (dd/mm/aaaa):24/04/1989\n"
          ]
        }
      ]
    },
    {
      "cell_type": "markdown",
      "source": [
        "4) Verifique se uma string é um palíndromo. Um palíndromo é uma seqüência\n",
        "de caracteres cuja leitura é idêntica se feita da direita para esquerda ou\n",
        "vice−versa.\n"
      ],
      "metadata": {
        "id": "Iz987Cee5aga"
      }
    },
    {
      "cell_type": "code",
      "source": [],
      "metadata": {
        "id": "W_g3VNyX5alh"
      },
      "execution_count": null,
      "outputs": []
    },
    {
      "cell_type": "markdown",
      "source": [
        "5) Desenvolva um programa que solicite a digitação de um número de CPF no\n",
        "formato xxx.xxx.xxx-xx e verifique se o número realmente foi digitado no\n",
        "formato correto."
      ],
      "metadata": {
        "id": "AIV5871y5aqf"
      }
    },
    {
      "cell_type": "code",
      "source": [],
      "metadata": {
        "id": "eI-dGQEq5avo"
      },
      "execution_count": null,
      "outputs": []
    }
  ]
}