{
  "nbformat": 4,
  "nbformat_minor": 0,
  "metadata": {
    "colab": {
      "provenance": [],
      "authorship_tag": "ABX9TyNs6GYaz2xBOQQrX9y4hyur",
      "include_colab_link": true
    },
    "kernelspec": {
      "name": "python3",
      "display_name": "Python 3"
    },
    "language_info": {
      "name": "python"
    }
  },
  "cells": [
    {
      "cell_type": "markdown",
      "metadata": {
        "id": "view-in-github",
        "colab_type": "text"
      },
      "source": [
        "<a href=\"https://colab.research.google.com/github/AlexsonT/Prog_DS2_Growdev/blob/main/exercicios_aula04.ipynb\" target=\"_parent\"><img src=\"https://colab.research.google.com/assets/colab-badge.svg\" alt=\"Open In Colab\"/></a>"
      ]
    },
    {
      "cell_type": "markdown",
      "source": [
        "## Exercícios - Programação para Data Science II\n"
      ],
      "metadata": {
        "id": "pKNd-YbSr8Np"
      }
    },
    {
      "cell_type": "markdown",
      "source": [
        "### Utilize os arquivos funcionarios.csv, cargos.csv e setores.csv como entrada para o processamento requerido nos seguintes exercícios."
      ],
      "metadata": {
        "id": "da31fk_Q593I"
      }
    },
    {
      "cell_type": "markdown",
      "source": [
        "**Bibliotecas**"
      ],
      "metadata": {
        "id": "iqvsGceWCKfA"
      }
    },
    {
      "cell_type": "code",
      "source": [
        "import pandas as pd"
      ],
      "metadata": {
        "id": "XV0gx4WqCJ2O"
      },
      "execution_count": 2,
      "outputs": []
    },
    {
      "cell_type": "markdown",
      "source": [
        "Execução de arquivos"
      ],
      "metadata": {
        "id": "NO5nRLPHCcDg"
      }
    },
    {
      "cell_type": "code",
      "source": [
        "df_cargos = pd.read_csv('cargos.csv')"
      ],
      "metadata": {
        "id": "cx2zGlglCghi"
      },
      "execution_count": 5,
      "outputs": []
    },
    {
      "cell_type": "code",
      "source": [
        "df_funcionarios = pd.read_csv('funcionarios.csv')"
      ],
      "metadata": {
        "id": "Usj6L-6vC3FI"
      },
      "execution_count": 6,
      "outputs": []
    },
    {
      "cell_type": "code",
      "source": [
        "df_setores = pd.read_csv('setores.csv')"
      ],
      "metadata": {
        "id": "bJohKe98C3OY"
      },
      "execution_count": 7,
      "outputs": []
    },
    {
      "cell_type": "markdown",
      "source": [
        "1) Faça o pivoteamento de forma a mostrar a relação entre cargos e setores com a média salarial."
      ],
      "metadata": {
        "id": "wqDN5s0P5Ef1"
      }
    },
    {
      "cell_type": "code",
      "execution_count": null,
      "metadata": {
        "id": "72v52uL8r7r9"
      },
      "outputs": [],
      "source": []
    },
    {
      "cell_type": "markdown",
      "source": [
        " 2) Faça um pivoteamento para elucidar quais setores possuem mais de 5 funcionários acima de 55 anos?"
      ],
      "metadata": {
        "id": "R9xteyHj5LRV"
      }
    },
    {
      "cell_type": "code",
      "source": [],
      "metadata": {
        "id": "Pt9Xwedm5P9a"
      },
      "execution_count": null,
      "outputs": []
    },
    {
      "cell_type": "markdown",
      "source": [
        "3) Faça um pivoteamento para mostrar a relação entre os níveis dos cargos e os salários dos funcionários com a média salarial."
      ],
      "metadata": {
        "id": "KuCCYPD95Tm8"
      }
    },
    {
      "cell_type": "code",
      "source": [],
      "metadata": {
        "id": "QP2h0K0A5Oak"
      },
      "execution_count": null,
      "outputs": []
    },
    {
      "cell_type": "markdown",
      "source": [
        "### Utilize os recursos relativos a manipulação de strings para responder aos seguintes questionamentos."
      ],
      "metadata": {
        "id": "tthHbl225Z4f"
      }
    },
    {
      "cell_type": "markdown",
      "source": [
        "1) Transforme a data ‘2022/09/21’ em ‘21-09-2022’.\n"
      ],
      "metadata": {
        "id": "2Oc-Mon15iby"
      }
    },
    {
      "cell_type": "code",
      "source": [],
      "metadata": {
        "id": "OSWMDKRL5aBx"
      },
      "execution_count": null,
      "outputs": []
    },
    {
      "cell_type": "markdown",
      "source": [
        "2) Faça um programa que verifique quais caracteres são diferentes entre duas\n",
        "strings, apontando quais são e em que posição estão. A comparação deve\n",
        "ser caracter por caracter.\n"
      ],
      "metadata": {
        "id": "_E9NmldD5aIZ"
      }
    },
    {
      "cell_type": "code",
      "source": [],
      "metadata": {
        "id": "07_NDrJk5aOX"
      },
      "execution_count": null,
      "outputs": []
    },
    {
      "cell_type": "markdown",
      "source": [
        "3) Faça um programa que solicite a data de nascimento (dd/mm/aaaa) do\n",
        "usuário e imprima a data com o nome do mês por extenso.\n"
      ],
      "metadata": {
        "id": "FM-2vuS45aU5"
      }
    },
    {
      "cell_type": "code",
      "source": [],
      "metadata": {
        "id": "6G1qJ-rs5aah"
      },
      "execution_count": null,
      "outputs": []
    },
    {
      "cell_type": "markdown",
      "source": [
        "4) Verifique se uma string é um palíndromo. Um palíndromo é uma seqüência\n",
        "de caracteres cuja leitura é idêntica se feita da direita para esquerda ou\n",
        "vice−versa.\n"
      ],
      "metadata": {
        "id": "Iz987Cee5aga"
      }
    },
    {
      "cell_type": "code",
      "source": [],
      "metadata": {
        "id": "W_g3VNyX5alh"
      },
      "execution_count": null,
      "outputs": []
    },
    {
      "cell_type": "markdown",
      "source": [
        "5) Desenvolva um programa que solicite a digitação de um número de CPF no\n",
        "formato xxx.xxx.xxx-xx e verifique se o número realmente foi digitado no\n",
        "formato correto."
      ],
      "metadata": {
        "id": "AIV5871y5aqf"
      }
    },
    {
      "cell_type": "code",
      "source": [],
      "metadata": {
        "id": "eI-dGQEq5avo"
      },
      "execution_count": null,
      "outputs": []
    }
  ]
}