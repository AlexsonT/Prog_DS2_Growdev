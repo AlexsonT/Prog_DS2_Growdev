{
  "nbformat": 4,
  "nbformat_minor": 0,
  "metadata": {
    "colab": {
      "provenance": [],
      "collapsed_sections": [],
      "authorship_tag": "ABX9TyNDRrXkTMmrcgbsj26hUA0M",
      "include_colab_link": true
    },
    "kernelspec": {
      "name": "python3",
      "display_name": "Python 3"
    },
    "language_info": {
      "name": "python"
    }
  },
  "cells": [
    {
      "cell_type": "markdown",
      "metadata": {
        "id": "view-in-github",
        "colab_type": "text"
      },
      "source": [
        "<a href=\"https://colab.research.google.com/github/AlexsonT/Prog_DS2_Growdev/blob/main/exercicios_aula_03.ipynb\" target=\"_parent\"><img src=\"https://colab.research.google.com/assets/colab-badge.svg\" alt=\"Open In Colab\"/></a>"
      ]
    },
    {
      "cell_type": "markdown",
      "source": [
        "### O dataset [clientes.csv](https://drive.google.com/file/d/1I4987Fvr0dy6DxE6-medv3MhbTWFyzjW/view) possui dados sobre clientes de uma determinada loja.Porém esse dataset possui alguns problemas e devem ser tratados antes de quaisquer processamentos. Você deve:\n",
        "  ###### 1) Realizar a limpeza desses dados, sempre analisando qual a melhor decisão a ser tomada em cada situação de acordo com seu julgamento.\n",
        "  ###### 2) Faça anotações do porquê de cada ação tomada para tratar a base de dados, explicando a decisão.\n",
        "  ###### 3) Procure explicar quais as vantagens e/ou desvantagens de suas ações sobre o dataset.  \n",
        "  \n",
        "  \n",
        "**Tome como base as funções `info()` e `describe()` e os processamentos de:**\n",
        "\n",
        "● Duplicações  \n",
        "● Inconsistências  \n",
        "● Tipagem de dados  \n",
        "● Outliers  \n",
        "● Colunas desnecessárias  \n",
        "● Valores faltantes  "
      ],
      "metadata": {
        "id": "5HFMfO2b8rsU"
      }
    },
    {
      "cell_type": "markdown",
      "source": [
        "# **Imports**"
      ],
      "metadata": {
        "id": "unEc6T4__FAk"
      }
    },
    {
      "cell_type": "code",
      "execution_count": 272,
      "metadata": {
        "id": "CHd5T0fv8oTn"
      },
      "outputs": [],
      "source": [
        "import pandas as pd\n",
        "import plotly.express as px\n",
        "import seaborn as sns"
      ]
    },
    {
      "cell_type": "markdown",
      "source": [
        "# **Open Dataset**"
      ],
      "metadata": {
        "id": "xiVtKiWT_I70"
      }
    },
    {
      "cell_type": "code",
      "source": [
        "df = pd.read_csv('clientes.csv')"
      ],
      "metadata": {
        "id": "vOtnIxDJ_O3K"
      },
      "execution_count": 273,
      "outputs": []
    },
    {
      "cell_type": "markdown",
      "source": [
        "# **Análise dos Dados**"
      ],
      "metadata": {
        "id": "8O4JJwnX_OJq"
      }
    },
    {
      "cell_type": "markdown",
      "source": [
        "###### **Análise dos primeiros e dos últimos 10 dados do dataframe.**\n",
        "* Com essa análise já é possível observar que, nesse caso, temos uma idade fora do padrão (acompanhada da palavra \"anos\").\n",
        "\n",
        "* Também observa-se que o cpf está fora do padrão numérico e que contém muitos dígitos. \n",
        "\n",
        "* Ainda nota-se que temos no dataset uma coluna com nome completo e outra coluna com nome e sobrenome separado, algo que precisaria ser analisado levando em conta perante as necessidades de uso do dataframe, pois por conter as mesmas informações podem estar apenas utiliozando memória em vão."
      ],
      "metadata": {
        "id": "BLL9Smn8__EH"
      }
    },
    {
      "cell_type": "code",
      "source": [
        "df.head(10)"
      ],
      "metadata": {
        "colab": {
          "base_uri": "https://localhost:8080/",
          "height": 363
        },
        "id": "zDRmwtfR_Umd",
        "outputId": "73927df1-4928-4a30-80f1-2ea63f778d9c"
      },
      "execution_count": 274,
      "outputs": [
        {
          "output_type": "execute_result",
          "data": {
            "text/plain": [
              "  cliente_nome_completo   cliente_cpf cliente_idade  \\\n",
              "0      Fernando Andrade  2.946012e+10            51   \n",
              "1       Vanessa Andrade  7.428947e+10            47   \n",
              "2        Maria Barcelos  9.301411e+10       23 anos   \n",
              "3      Vanessa Carvalho  2.482485e+10            30   \n",
              "4         Ana Rodrigues  5.314509e+10            44   \n",
              "5        Marcia Antunes  3.905199e+10            40   \n",
              "6       Andre Rodrigues  2.712804e+10            31   \n",
              "7     Claudia Rodrigues  9.585728e+10            56   \n",
              "8       Pedro Rodrigues  2.590338e+10            58   \n",
              "9         Andre Antunes  6.481352e+10            48   \n",
              "\n",
              "   cliente_frequencia_compra cliente_nome cliente_sobrenome  \n",
              "0                         26     Fernando           Andrade  \n",
              "1                          6      Vanessa           Andrade  \n",
              "2                         91        Maria          Barcelos  \n",
              "3                         54      Vanessa          Carvalho  \n",
              "4                         81          Ana         Rodrigues  \n",
              "5                        105       Marcia           Antunes  \n",
              "6                        100        Andre         Rodrigues  \n",
              "7                         51      Claudia         Rodrigues  \n",
              "8                         87        Pedro         Rodrigues  \n",
              "9                         97        Andre           Antunes  "
            ],
            "text/html": [
              "\n",
              "  <div id=\"df-5cae4898-4658-4cf2-8d63-7cf65d23d33c\">\n",
              "    <div class=\"colab-df-container\">\n",
              "      <div>\n",
              "<style scoped>\n",
              "    .dataframe tbody tr th:only-of-type {\n",
              "        vertical-align: middle;\n",
              "    }\n",
              "\n",
              "    .dataframe tbody tr th {\n",
              "        vertical-align: top;\n",
              "    }\n",
              "\n",
              "    .dataframe thead th {\n",
              "        text-align: right;\n",
              "    }\n",
              "</style>\n",
              "<table border=\"1\" class=\"dataframe\">\n",
              "  <thead>\n",
              "    <tr style=\"text-align: right;\">\n",
              "      <th></th>\n",
              "      <th>cliente_nome_completo</th>\n",
              "      <th>cliente_cpf</th>\n",
              "      <th>cliente_idade</th>\n",
              "      <th>cliente_frequencia_compra</th>\n",
              "      <th>cliente_nome</th>\n",
              "      <th>cliente_sobrenome</th>\n",
              "    </tr>\n",
              "  </thead>\n",
              "  <tbody>\n",
              "    <tr>\n",
              "      <th>0</th>\n",
              "      <td>Fernando Andrade</td>\n",
              "      <td>2.946012e+10</td>\n",
              "      <td>51</td>\n",
              "      <td>26</td>\n",
              "      <td>Fernando</td>\n",
              "      <td>Andrade</td>\n",
              "    </tr>\n",
              "    <tr>\n",
              "      <th>1</th>\n",
              "      <td>Vanessa Andrade</td>\n",
              "      <td>7.428947e+10</td>\n",
              "      <td>47</td>\n",
              "      <td>6</td>\n",
              "      <td>Vanessa</td>\n",
              "      <td>Andrade</td>\n",
              "    </tr>\n",
              "    <tr>\n",
              "      <th>2</th>\n",
              "      <td>Maria Barcelos</td>\n",
              "      <td>9.301411e+10</td>\n",
              "      <td>23 anos</td>\n",
              "      <td>91</td>\n",
              "      <td>Maria</td>\n",
              "      <td>Barcelos</td>\n",
              "    </tr>\n",
              "    <tr>\n",
              "      <th>3</th>\n",
              "      <td>Vanessa Carvalho</td>\n",
              "      <td>2.482485e+10</td>\n",
              "      <td>30</td>\n",
              "      <td>54</td>\n",
              "      <td>Vanessa</td>\n",
              "      <td>Carvalho</td>\n",
              "    </tr>\n",
              "    <tr>\n",
              "      <th>4</th>\n",
              "      <td>Ana Rodrigues</td>\n",
              "      <td>5.314509e+10</td>\n",
              "      <td>44</td>\n",
              "      <td>81</td>\n",
              "      <td>Ana</td>\n",
              "      <td>Rodrigues</td>\n",
              "    </tr>\n",
              "    <tr>\n",
              "      <th>5</th>\n",
              "      <td>Marcia Antunes</td>\n",
              "      <td>3.905199e+10</td>\n",
              "      <td>40</td>\n",
              "      <td>105</td>\n",
              "      <td>Marcia</td>\n",
              "      <td>Antunes</td>\n",
              "    </tr>\n",
              "    <tr>\n",
              "      <th>6</th>\n",
              "      <td>Andre Rodrigues</td>\n",
              "      <td>2.712804e+10</td>\n",
              "      <td>31</td>\n",
              "      <td>100</td>\n",
              "      <td>Andre</td>\n",
              "      <td>Rodrigues</td>\n",
              "    </tr>\n",
              "    <tr>\n",
              "      <th>7</th>\n",
              "      <td>Claudia Rodrigues</td>\n",
              "      <td>9.585728e+10</td>\n",
              "      <td>56</td>\n",
              "      <td>51</td>\n",
              "      <td>Claudia</td>\n",
              "      <td>Rodrigues</td>\n",
              "    </tr>\n",
              "    <tr>\n",
              "      <th>8</th>\n",
              "      <td>Pedro Rodrigues</td>\n",
              "      <td>2.590338e+10</td>\n",
              "      <td>58</td>\n",
              "      <td>87</td>\n",
              "      <td>Pedro</td>\n",
              "      <td>Rodrigues</td>\n",
              "    </tr>\n",
              "    <tr>\n",
              "      <th>9</th>\n",
              "      <td>Andre Antunes</td>\n",
              "      <td>6.481352e+10</td>\n",
              "      <td>48</td>\n",
              "      <td>97</td>\n",
              "      <td>Andre</td>\n",
              "      <td>Antunes</td>\n",
              "    </tr>\n",
              "  </tbody>\n",
              "</table>\n",
              "</div>\n",
              "      <button class=\"colab-df-convert\" onclick=\"convertToInteractive('df-5cae4898-4658-4cf2-8d63-7cf65d23d33c')\"\n",
              "              title=\"Convert this dataframe to an interactive table.\"\n",
              "              style=\"display:none;\">\n",
              "        \n",
              "  <svg xmlns=\"http://www.w3.org/2000/svg\" height=\"24px\"viewBox=\"0 0 24 24\"\n",
              "       width=\"24px\">\n",
              "    <path d=\"M0 0h24v24H0V0z\" fill=\"none\"/>\n",
              "    <path d=\"M18.56 5.44l.94 2.06.94-2.06 2.06-.94-2.06-.94-.94-2.06-.94 2.06-2.06.94zm-11 1L8.5 8.5l.94-2.06 2.06-.94-2.06-.94L8.5 2.5l-.94 2.06-2.06.94zm10 10l.94 2.06.94-2.06 2.06-.94-2.06-.94-.94-2.06-.94 2.06-2.06.94z\"/><path d=\"M17.41 7.96l-1.37-1.37c-.4-.4-.92-.59-1.43-.59-.52 0-1.04.2-1.43.59L10.3 9.45l-7.72 7.72c-.78.78-.78 2.05 0 2.83L4 21.41c.39.39.9.59 1.41.59.51 0 1.02-.2 1.41-.59l7.78-7.78 2.81-2.81c.8-.78.8-2.07 0-2.86zM5.41 20L4 18.59l7.72-7.72 1.47 1.35L5.41 20z\"/>\n",
              "  </svg>\n",
              "      </button>\n",
              "      \n",
              "  <style>\n",
              "    .colab-df-container {\n",
              "      display:flex;\n",
              "      flex-wrap:wrap;\n",
              "      gap: 12px;\n",
              "    }\n",
              "\n",
              "    .colab-df-convert {\n",
              "      background-color: #E8F0FE;\n",
              "      border: none;\n",
              "      border-radius: 50%;\n",
              "      cursor: pointer;\n",
              "      display: none;\n",
              "      fill: #1967D2;\n",
              "      height: 32px;\n",
              "      padding: 0 0 0 0;\n",
              "      width: 32px;\n",
              "    }\n",
              "\n",
              "    .colab-df-convert:hover {\n",
              "      background-color: #E2EBFA;\n",
              "      box-shadow: 0px 1px 2px rgba(60, 64, 67, 0.3), 0px 1px 3px 1px rgba(60, 64, 67, 0.15);\n",
              "      fill: #174EA6;\n",
              "    }\n",
              "\n",
              "    [theme=dark] .colab-df-convert {\n",
              "      background-color: #3B4455;\n",
              "      fill: #D2E3FC;\n",
              "    }\n",
              "\n",
              "    [theme=dark] .colab-df-convert:hover {\n",
              "      background-color: #434B5C;\n",
              "      box-shadow: 0px 1px 3px 1px rgba(0, 0, 0, 0.15);\n",
              "      filter: drop-shadow(0px 1px 2px rgba(0, 0, 0, 0.3));\n",
              "      fill: #FFFFFF;\n",
              "    }\n",
              "  </style>\n",
              "\n",
              "      <script>\n",
              "        const buttonEl =\n",
              "          document.querySelector('#df-5cae4898-4658-4cf2-8d63-7cf65d23d33c button.colab-df-convert');\n",
              "        buttonEl.style.display =\n",
              "          google.colab.kernel.accessAllowed ? 'block' : 'none';\n",
              "\n",
              "        async function convertToInteractive(key) {\n",
              "          const element = document.querySelector('#df-5cae4898-4658-4cf2-8d63-7cf65d23d33c');\n",
              "          const dataTable =\n",
              "            await google.colab.kernel.invokeFunction('convertToInteractive',\n",
              "                                                     [key], {});\n",
              "          if (!dataTable) return;\n",
              "\n",
              "          const docLinkHtml = 'Like what you see? Visit the ' +\n",
              "            '<a target=\"_blank\" href=https://colab.research.google.com/notebooks/data_table.ipynb>data table notebook</a>'\n",
              "            + ' to learn more about interactive tables.';\n",
              "          element.innerHTML = '';\n",
              "          dataTable['output_type'] = 'display_data';\n",
              "          await google.colab.output.renderOutput(dataTable, element);\n",
              "          const docLink = document.createElement('div');\n",
              "          docLink.innerHTML = docLinkHtml;\n",
              "          element.appendChild(docLink);\n",
              "        }\n",
              "      </script>\n",
              "    </div>\n",
              "  </div>\n",
              "  "
            ]
          },
          "metadata": {},
          "execution_count": 274
        }
      ]
    },
    {
      "cell_type": "code",
      "source": [
        "df.tail(10)"
      ],
      "metadata": {
        "colab": {
          "base_uri": "https://localhost:8080/",
          "height": 363
        },
        "id": "JV3HX1PQ_4Ei",
        "outputId": "12b72f87-40d5-4419-dd69-2100e54c7475"
      },
      "execution_count": 275,
      "outputs": [
        {
          "output_type": "execute_result",
          "data": {
            "text/plain": [
              "     cliente_nome_completo   cliente_cpf cliente_idade  \\\n",
              "992        Fernando Santos  9.185593e+10            37   \n",
              "993          Maria Andrade  5.589949e+10            36   \n",
              "994       Marcia Fernandes  1.591411e+10            18   \n",
              "995            Osmar Rocha  9.373069e+10            36   \n",
              "996          Claudia Silva  6.602334e+10            54   \n",
              "997          Vanessa Nunes  7.988690e+10            43   \n",
              "998      Claudia Fernandes  6.854702e+10            58   \n",
              "999       Valter Fernandes  2.490824e+10            51   \n",
              "1000         Leonardo Melo  8.286605e+10            20   \n",
              "1001            Ana Santos  8.457643e+10            51   \n",
              "\n",
              "      cliente_frequencia_compra cliente_nome cliente_sobrenome  \n",
              "992                          75     Fernando            Santos  \n",
              "993                          70        Maria           Andrade  \n",
              "994                          11       Marcia         Fernandes  \n",
              "995                          25        Osmar             Rocha  \n",
              "996                          69      Claudia             Silva  \n",
              "997                          89      Vanessa             Nunes  \n",
              "998                          11      Claudia         Fernandes  \n",
              "999                          94       Valter         Fernandes  \n",
              "1000                         10     Leonardo              Melo  \n",
              "1001                          7          Ana            Santos  "
            ],
            "text/html": [
              "\n",
              "  <div id=\"df-11b016e9-b32a-4f9d-8ce5-d2a7d576761b\">\n",
              "    <div class=\"colab-df-container\">\n",
              "      <div>\n",
              "<style scoped>\n",
              "    .dataframe tbody tr th:only-of-type {\n",
              "        vertical-align: middle;\n",
              "    }\n",
              "\n",
              "    .dataframe tbody tr th {\n",
              "        vertical-align: top;\n",
              "    }\n",
              "\n",
              "    .dataframe thead th {\n",
              "        text-align: right;\n",
              "    }\n",
              "</style>\n",
              "<table border=\"1\" class=\"dataframe\">\n",
              "  <thead>\n",
              "    <tr style=\"text-align: right;\">\n",
              "      <th></th>\n",
              "      <th>cliente_nome_completo</th>\n",
              "      <th>cliente_cpf</th>\n",
              "      <th>cliente_idade</th>\n",
              "      <th>cliente_frequencia_compra</th>\n",
              "      <th>cliente_nome</th>\n",
              "      <th>cliente_sobrenome</th>\n",
              "    </tr>\n",
              "  </thead>\n",
              "  <tbody>\n",
              "    <tr>\n",
              "      <th>992</th>\n",
              "      <td>Fernando Santos</td>\n",
              "      <td>9.185593e+10</td>\n",
              "      <td>37</td>\n",
              "      <td>75</td>\n",
              "      <td>Fernando</td>\n",
              "      <td>Santos</td>\n",
              "    </tr>\n",
              "    <tr>\n",
              "      <th>993</th>\n",
              "      <td>Maria Andrade</td>\n",
              "      <td>5.589949e+10</td>\n",
              "      <td>36</td>\n",
              "      <td>70</td>\n",
              "      <td>Maria</td>\n",
              "      <td>Andrade</td>\n",
              "    </tr>\n",
              "    <tr>\n",
              "      <th>994</th>\n",
              "      <td>Marcia Fernandes</td>\n",
              "      <td>1.591411e+10</td>\n",
              "      <td>18</td>\n",
              "      <td>11</td>\n",
              "      <td>Marcia</td>\n",
              "      <td>Fernandes</td>\n",
              "    </tr>\n",
              "    <tr>\n",
              "      <th>995</th>\n",
              "      <td>Osmar Rocha</td>\n",
              "      <td>9.373069e+10</td>\n",
              "      <td>36</td>\n",
              "      <td>25</td>\n",
              "      <td>Osmar</td>\n",
              "      <td>Rocha</td>\n",
              "    </tr>\n",
              "    <tr>\n",
              "      <th>996</th>\n",
              "      <td>Claudia Silva</td>\n",
              "      <td>6.602334e+10</td>\n",
              "      <td>54</td>\n",
              "      <td>69</td>\n",
              "      <td>Claudia</td>\n",
              "      <td>Silva</td>\n",
              "    </tr>\n",
              "    <tr>\n",
              "      <th>997</th>\n",
              "      <td>Vanessa Nunes</td>\n",
              "      <td>7.988690e+10</td>\n",
              "      <td>43</td>\n",
              "      <td>89</td>\n",
              "      <td>Vanessa</td>\n",
              "      <td>Nunes</td>\n",
              "    </tr>\n",
              "    <tr>\n",
              "      <th>998</th>\n",
              "      <td>Claudia Fernandes</td>\n",
              "      <td>6.854702e+10</td>\n",
              "      <td>58</td>\n",
              "      <td>11</td>\n",
              "      <td>Claudia</td>\n",
              "      <td>Fernandes</td>\n",
              "    </tr>\n",
              "    <tr>\n",
              "      <th>999</th>\n",
              "      <td>Valter Fernandes</td>\n",
              "      <td>2.490824e+10</td>\n",
              "      <td>51</td>\n",
              "      <td>94</td>\n",
              "      <td>Valter</td>\n",
              "      <td>Fernandes</td>\n",
              "    </tr>\n",
              "    <tr>\n",
              "      <th>1000</th>\n",
              "      <td>Leonardo Melo</td>\n",
              "      <td>8.286605e+10</td>\n",
              "      <td>20</td>\n",
              "      <td>10</td>\n",
              "      <td>Leonardo</td>\n",
              "      <td>Melo</td>\n",
              "    </tr>\n",
              "    <tr>\n",
              "      <th>1001</th>\n",
              "      <td>Ana Santos</td>\n",
              "      <td>8.457643e+10</td>\n",
              "      <td>51</td>\n",
              "      <td>7</td>\n",
              "      <td>Ana</td>\n",
              "      <td>Santos</td>\n",
              "    </tr>\n",
              "  </tbody>\n",
              "</table>\n",
              "</div>\n",
              "      <button class=\"colab-df-convert\" onclick=\"convertToInteractive('df-11b016e9-b32a-4f9d-8ce5-d2a7d576761b')\"\n",
              "              title=\"Convert this dataframe to an interactive table.\"\n",
              "              style=\"display:none;\">\n",
              "        \n",
              "  <svg xmlns=\"http://www.w3.org/2000/svg\" height=\"24px\"viewBox=\"0 0 24 24\"\n",
              "       width=\"24px\">\n",
              "    <path d=\"M0 0h24v24H0V0z\" fill=\"none\"/>\n",
              "    <path d=\"M18.56 5.44l.94 2.06.94-2.06 2.06-.94-2.06-.94-.94-2.06-.94 2.06-2.06.94zm-11 1L8.5 8.5l.94-2.06 2.06-.94-2.06-.94L8.5 2.5l-.94 2.06-2.06.94zm10 10l.94 2.06.94-2.06 2.06-.94-2.06-.94-.94-2.06-.94 2.06-2.06.94z\"/><path d=\"M17.41 7.96l-1.37-1.37c-.4-.4-.92-.59-1.43-.59-.52 0-1.04.2-1.43.59L10.3 9.45l-7.72 7.72c-.78.78-.78 2.05 0 2.83L4 21.41c.39.39.9.59 1.41.59.51 0 1.02-.2 1.41-.59l7.78-7.78 2.81-2.81c.8-.78.8-2.07 0-2.86zM5.41 20L4 18.59l7.72-7.72 1.47 1.35L5.41 20z\"/>\n",
              "  </svg>\n",
              "      </button>\n",
              "      \n",
              "  <style>\n",
              "    .colab-df-container {\n",
              "      display:flex;\n",
              "      flex-wrap:wrap;\n",
              "      gap: 12px;\n",
              "    }\n",
              "\n",
              "    .colab-df-convert {\n",
              "      background-color: #E8F0FE;\n",
              "      border: none;\n",
              "      border-radius: 50%;\n",
              "      cursor: pointer;\n",
              "      display: none;\n",
              "      fill: #1967D2;\n",
              "      height: 32px;\n",
              "      padding: 0 0 0 0;\n",
              "      width: 32px;\n",
              "    }\n",
              "\n",
              "    .colab-df-convert:hover {\n",
              "      background-color: #E2EBFA;\n",
              "      box-shadow: 0px 1px 2px rgba(60, 64, 67, 0.3), 0px 1px 3px 1px rgba(60, 64, 67, 0.15);\n",
              "      fill: #174EA6;\n",
              "    }\n",
              "\n",
              "    [theme=dark] .colab-df-convert {\n",
              "      background-color: #3B4455;\n",
              "      fill: #D2E3FC;\n",
              "    }\n",
              "\n",
              "    [theme=dark] .colab-df-convert:hover {\n",
              "      background-color: #434B5C;\n",
              "      box-shadow: 0px 1px 3px 1px rgba(0, 0, 0, 0.15);\n",
              "      filter: drop-shadow(0px 1px 2px rgba(0, 0, 0, 0.3));\n",
              "      fill: #FFFFFF;\n",
              "    }\n",
              "  </style>\n",
              "\n",
              "      <script>\n",
              "        const buttonEl =\n",
              "          document.querySelector('#df-11b016e9-b32a-4f9d-8ce5-d2a7d576761b button.colab-df-convert');\n",
              "        buttonEl.style.display =\n",
              "          google.colab.kernel.accessAllowed ? 'block' : 'none';\n",
              "\n",
              "        async function convertToInteractive(key) {\n",
              "          const element = document.querySelector('#df-11b016e9-b32a-4f9d-8ce5-d2a7d576761b');\n",
              "          const dataTable =\n",
              "            await google.colab.kernel.invokeFunction('convertToInteractive',\n",
              "                                                     [key], {});\n",
              "          if (!dataTable) return;\n",
              "\n",
              "          const docLinkHtml = 'Like what you see? Visit the ' +\n",
              "            '<a target=\"_blank\" href=https://colab.research.google.com/notebooks/data_table.ipynb>data table notebook</a>'\n",
              "            + ' to learn more about interactive tables.';\n",
              "          element.innerHTML = '';\n",
              "          dataTable['output_type'] = 'display_data';\n",
              "          await google.colab.output.renderOutput(dataTable, element);\n",
              "          const docLink = document.createElement('div');\n",
              "          docLink.innerHTML = docLinkHtml;\n",
              "          element.appendChild(docLink);\n",
              "        }\n",
              "      </script>\n",
              "    </div>\n",
              "  </div>\n",
              "  "
            ]
          },
          "metadata": {},
          "execution_count": 275
        }
      ]
    },
    {
      "cell_type": "markdown",
      "source": [
        "###### **Verificando informações básicas com describe e info**.  \n",
        "\n",
        "* Devido ao describe analisar colunas numéricas, podemos observar que temos apenas duas colunas que podem ser analisadas com esta função, isso ocorre porque as demais colunas provavelmente contém números e alguma informação com texto no mesmo dado. Essa informação também fica exposta na função info onde temos um item float64, um item int64 e os demais dados como object.   \n",
        "* Também é notório na função describe que a coluna \"cliente_frequencia_compra\", possui um mínimo negativo, o que não faz muito sentido.\n",
        "* Outro ponto que fica evidente na função info é que, em algumas colunas, temos itens não nulos com quantidade inferior ao total de dados, o que significa que temos dados não preenchidos nestas colunas. \n",
        "* Ainda é possível observar que na coluna \"cliente_frequencia_compra\" temos um desvio padrão considerado alto o que nos permite avaliar que a amostra é um tanto quanto dispera em seus dados. \n",
        "\n"
      ],
      "metadata": {
        "id": "vo8ldaK4KSMA"
      }
    },
    {
      "cell_type": "code",
      "source": [
        "df.info()"
      ],
      "metadata": {
        "colab": {
          "base_uri": "https://localhost:8080/"
        },
        "id": "RHS0WY-M_vlu",
        "outputId": "ea8158dd-3a49-4fe3-87f3-8f44035de290"
      },
      "execution_count": 276,
      "outputs": [
        {
          "output_type": "stream",
          "name": "stdout",
          "text": [
            "<class 'pandas.core.frame.DataFrame'>\n",
            "RangeIndex: 1002 entries, 0 to 1001\n",
            "Data columns (total 6 columns):\n",
            " #   Column                     Non-Null Count  Dtype  \n",
            "---  ------                     --------------  -----  \n",
            " 0   cliente_nome_completo      1002 non-null   object \n",
            " 1   cliente_cpf                1000 non-null   float64\n",
            " 2   cliente_idade              1002 non-null   object \n",
            " 3   cliente_frequencia_compra  1002 non-null   int64  \n",
            " 4   cliente_nome               1002 non-null   object \n",
            " 5   cliente_sobrenome          1001 non-null   object \n",
            "dtypes: float64(1), int64(1), object(4)\n",
            "memory usage: 47.1+ KB\n"
          ]
        }
      ]
    },
    {
      "cell_type": "code",
      "source": [
        "df.describe()"
      ],
      "metadata": {
        "colab": {
          "base_uri": "https://localhost:8080/",
          "height": 300
        },
        "id": "C8qDFlN5J5Qb",
        "outputId": "6727639d-ed49-4142-8e20-2bb1a9f90e43"
      },
      "execution_count": 277,
      "outputs": [
        {
          "output_type": "execute_result",
          "data": {
            "text/plain": [
              "        cliente_cpf  cliente_frequencia_compra\n",
              "count  1.000000e+03                1002.000000\n",
              "mean   4.971137e+10                  49.941118\n",
              "std    2.874325e+10                  29.426274\n",
              "min    2.277302e+08                  -5.000000\n",
              "25%    2.488739e+10                  24.000000\n",
              "50%    4.841568e+10                  50.000000\n",
              "75%    7.459796e+10                  75.000000\n",
              "max    9.988003e+10                 150.000000"
            ],
            "text/html": [
              "\n",
              "  <div id=\"df-f7366d41-3c0c-4952-98cf-ab173e46575f\">\n",
              "    <div class=\"colab-df-container\">\n",
              "      <div>\n",
              "<style scoped>\n",
              "    .dataframe tbody tr th:only-of-type {\n",
              "        vertical-align: middle;\n",
              "    }\n",
              "\n",
              "    .dataframe tbody tr th {\n",
              "        vertical-align: top;\n",
              "    }\n",
              "\n",
              "    .dataframe thead th {\n",
              "        text-align: right;\n",
              "    }\n",
              "</style>\n",
              "<table border=\"1\" class=\"dataframe\">\n",
              "  <thead>\n",
              "    <tr style=\"text-align: right;\">\n",
              "      <th></th>\n",
              "      <th>cliente_cpf</th>\n",
              "      <th>cliente_frequencia_compra</th>\n",
              "    </tr>\n",
              "  </thead>\n",
              "  <tbody>\n",
              "    <tr>\n",
              "      <th>count</th>\n",
              "      <td>1.000000e+03</td>\n",
              "      <td>1002.000000</td>\n",
              "    </tr>\n",
              "    <tr>\n",
              "      <th>mean</th>\n",
              "      <td>4.971137e+10</td>\n",
              "      <td>49.941118</td>\n",
              "    </tr>\n",
              "    <tr>\n",
              "      <th>std</th>\n",
              "      <td>2.874325e+10</td>\n",
              "      <td>29.426274</td>\n",
              "    </tr>\n",
              "    <tr>\n",
              "      <th>min</th>\n",
              "      <td>2.277302e+08</td>\n",
              "      <td>-5.000000</td>\n",
              "    </tr>\n",
              "    <tr>\n",
              "      <th>25%</th>\n",
              "      <td>2.488739e+10</td>\n",
              "      <td>24.000000</td>\n",
              "    </tr>\n",
              "    <tr>\n",
              "      <th>50%</th>\n",
              "      <td>4.841568e+10</td>\n",
              "      <td>50.000000</td>\n",
              "    </tr>\n",
              "    <tr>\n",
              "      <th>75%</th>\n",
              "      <td>7.459796e+10</td>\n",
              "      <td>75.000000</td>\n",
              "    </tr>\n",
              "    <tr>\n",
              "      <th>max</th>\n",
              "      <td>9.988003e+10</td>\n",
              "      <td>150.000000</td>\n",
              "    </tr>\n",
              "  </tbody>\n",
              "</table>\n",
              "</div>\n",
              "      <button class=\"colab-df-convert\" onclick=\"convertToInteractive('df-f7366d41-3c0c-4952-98cf-ab173e46575f')\"\n",
              "              title=\"Convert this dataframe to an interactive table.\"\n",
              "              style=\"display:none;\">\n",
              "        \n",
              "  <svg xmlns=\"http://www.w3.org/2000/svg\" height=\"24px\"viewBox=\"0 0 24 24\"\n",
              "       width=\"24px\">\n",
              "    <path d=\"M0 0h24v24H0V0z\" fill=\"none\"/>\n",
              "    <path d=\"M18.56 5.44l.94 2.06.94-2.06 2.06-.94-2.06-.94-.94-2.06-.94 2.06-2.06.94zm-11 1L8.5 8.5l.94-2.06 2.06-.94-2.06-.94L8.5 2.5l-.94 2.06-2.06.94zm10 10l.94 2.06.94-2.06 2.06-.94-2.06-.94-.94-2.06-.94 2.06-2.06.94z\"/><path d=\"M17.41 7.96l-1.37-1.37c-.4-.4-.92-.59-1.43-.59-.52 0-1.04.2-1.43.59L10.3 9.45l-7.72 7.72c-.78.78-.78 2.05 0 2.83L4 21.41c.39.39.9.59 1.41.59.51 0 1.02-.2 1.41-.59l7.78-7.78 2.81-2.81c.8-.78.8-2.07 0-2.86zM5.41 20L4 18.59l7.72-7.72 1.47 1.35L5.41 20z\"/>\n",
              "  </svg>\n",
              "      </button>\n",
              "      \n",
              "  <style>\n",
              "    .colab-df-container {\n",
              "      display:flex;\n",
              "      flex-wrap:wrap;\n",
              "      gap: 12px;\n",
              "    }\n",
              "\n",
              "    .colab-df-convert {\n",
              "      background-color: #E8F0FE;\n",
              "      border: none;\n",
              "      border-radius: 50%;\n",
              "      cursor: pointer;\n",
              "      display: none;\n",
              "      fill: #1967D2;\n",
              "      height: 32px;\n",
              "      padding: 0 0 0 0;\n",
              "      width: 32px;\n",
              "    }\n",
              "\n",
              "    .colab-df-convert:hover {\n",
              "      background-color: #E2EBFA;\n",
              "      box-shadow: 0px 1px 2px rgba(60, 64, 67, 0.3), 0px 1px 3px 1px rgba(60, 64, 67, 0.15);\n",
              "      fill: #174EA6;\n",
              "    }\n",
              "\n",
              "    [theme=dark] .colab-df-convert {\n",
              "      background-color: #3B4455;\n",
              "      fill: #D2E3FC;\n",
              "    }\n",
              "\n",
              "    [theme=dark] .colab-df-convert:hover {\n",
              "      background-color: #434B5C;\n",
              "      box-shadow: 0px 1px 3px 1px rgba(0, 0, 0, 0.15);\n",
              "      filter: drop-shadow(0px 1px 2px rgba(0, 0, 0, 0.3));\n",
              "      fill: #FFFFFF;\n",
              "    }\n",
              "  </style>\n",
              "\n",
              "      <script>\n",
              "        const buttonEl =\n",
              "          document.querySelector('#df-f7366d41-3c0c-4952-98cf-ab173e46575f button.colab-df-convert');\n",
              "        buttonEl.style.display =\n",
              "          google.colab.kernel.accessAllowed ? 'block' : 'none';\n",
              "\n",
              "        async function convertToInteractive(key) {\n",
              "          const element = document.querySelector('#df-f7366d41-3c0c-4952-98cf-ab173e46575f');\n",
              "          const dataTable =\n",
              "            await google.colab.kernel.invokeFunction('convertToInteractive',\n",
              "                                                     [key], {});\n",
              "          if (!dataTable) return;\n",
              "\n",
              "          const docLinkHtml = 'Like what you see? Visit the ' +\n",
              "            '<a target=\"_blank\" href=https://colab.research.google.com/notebooks/data_table.ipynb>data table notebook</a>'\n",
              "            + ' to learn more about interactive tables.';\n",
              "          element.innerHTML = '';\n",
              "          dataTable['output_type'] = 'display_data';\n",
              "          await google.colab.output.renderOutput(dataTable, element);\n",
              "          const docLink = document.createElement('div');\n",
              "          docLink.innerHTML = docLinkHtml;\n",
              "          element.appendChild(docLink);\n",
              "        }\n",
              "      </script>\n",
              "    </div>\n",
              "  </div>\n",
              "  "
            ]
          },
          "metadata": {},
          "execution_count": 277
        }
      ]
    },
    {
      "cell_type": "markdown",
      "source": [
        "# **Limpeza dos Dados**"
      ],
      "metadata": {
        "id": "t7IPwmqc_RK7"
      }
    },
    {
      "cell_type": "markdown",
      "source": [
        "Verificando se há registros duplicados."
      ],
      "metadata": {
        "id": "9Z4-kCEIWYvc"
      }
    },
    {
      "cell_type": "code",
      "source": [
        "df.duplicated()"
      ],
      "metadata": {
        "id": "pbIRZ5XoJ4rq",
        "colab": {
          "base_uri": "https://localhost:8080/"
        },
        "outputId": "f60b3c22-8fa9-4ad4-8389-2f343d4c5946"
      },
      "execution_count": 278,
      "outputs": [
        {
          "output_type": "execute_result",
          "data": {
            "text/plain": [
              "0       False\n",
              "1       False\n",
              "2       False\n",
              "3       False\n",
              "4       False\n",
              "        ...  \n",
              "997     False\n",
              "998     False\n",
              "999     False\n",
              "1000    False\n",
              "1001    False\n",
              "Length: 1002, dtype: bool"
            ]
          },
          "metadata": {},
          "execution_count": 278
        }
      ]
    },
    {
      "cell_type": "code",
      "source": [
        "df.rename(columns = {'cliente_idade':'cliente_idade_2'}, inplace = True) #alternado o nome da coluna para editá-la."
      ],
      "metadata": {
        "id": "QoPUmw_X_YxG"
      },
      "execution_count": 279,
      "outputs": []
    },
    {
      "cell_type": "code",
      "source": [
        "df['cliente_idade'] = df.cliente_idade_2.str.split(' ').str.get(0) #criando nova coluna retirando a palavra anos."
      ],
      "metadata": {
        "id": "vd0B8rFNUteU"
      },
      "execution_count": 280,
      "outputs": []
    },
    {
      "cell_type": "code",
      "source": [
        "df = df[['cliente_nome_completo',\t'cliente_cpf',\t'cliente_idade',\t'cliente_frequencia_compra']] # ordenadno e extraindo as colunas('cliente_nome',\t'cliente_sobrenome')."
      ],
      "metadata": {
        "id": "5LoWY-ZgX5UP"
      },
      "execution_count": 281,
      "outputs": []
    },
    {
      "cell_type": "code",
      "source": [
        "df['cliente_idade'] = pd.to_numeric(df['cliente_idade']) #alterando a coluna com idade par o tipo int64.\n",
        "df['cliente_idade'] = df['cliente_idade'].astype(np.int16) # reduzindo o tamanho dos dados da coluna.\n",
        "df.info()"
      ],
      "metadata": {
        "colab": {
          "base_uri": "https://localhost:8080/"
        },
        "id": "NLZ1bkVocQbT",
        "outputId": "eec4b418-e6e0-4d1c-ff76-f373ea8b2c72"
      },
      "execution_count": 282,
      "outputs": [
        {
          "output_type": "stream",
          "name": "stdout",
          "text": [
            "<class 'pandas.core.frame.DataFrame'>\n",
            "RangeIndex: 1002 entries, 0 to 1001\n",
            "Data columns (total 4 columns):\n",
            " #   Column                     Non-Null Count  Dtype  \n",
            "---  ------                     --------------  -----  \n",
            " 0   cliente_nome_completo      1002 non-null   object \n",
            " 1   cliente_cpf                1000 non-null   float64\n",
            " 2   cliente_idade              1002 non-null   int16  \n",
            " 3   cliente_frequencia_compra  1002 non-null   int64  \n",
            "dtypes: float64(1), int16(1), int64(1), object(1)\n",
            "memory usage: 25.6+ KB\n"
          ]
        }
      ]
    },
    {
      "cell_type": "code",
      "source": [
        "df.head()"
      ],
      "metadata": {
        "colab": {
          "base_uri": "https://localhost:8080/",
          "height": 206
        },
        "id": "0ZWVuBosJVT3",
        "outputId": "7c435b1e-e320-4f7a-ef8e-7f87ae7f2c5f"
      },
      "execution_count": 283,
      "outputs": [
        {
          "output_type": "execute_result",
          "data": {
            "text/plain": [
              "  cliente_nome_completo   cliente_cpf  cliente_idade  \\\n",
              "0      Fernando Andrade  2.946012e+10             51   \n",
              "1       Vanessa Andrade  7.428947e+10             47   \n",
              "2        Maria Barcelos  9.301411e+10             23   \n",
              "3      Vanessa Carvalho  2.482485e+10             30   \n",
              "4         Ana Rodrigues  5.314509e+10             44   \n",
              "\n",
              "   cliente_frequencia_compra  \n",
              "0                         26  \n",
              "1                          6  \n",
              "2                         91  \n",
              "3                         54  \n",
              "4                         81  "
            ],
            "text/html": [
              "\n",
              "  <div id=\"df-f77e6b48-5dbf-47f0-9ea7-7867f12e45e5\">\n",
              "    <div class=\"colab-df-container\">\n",
              "      <div>\n",
              "<style scoped>\n",
              "    .dataframe tbody tr th:only-of-type {\n",
              "        vertical-align: middle;\n",
              "    }\n",
              "\n",
              "    .dataframe tbody tr th {\n",
              "        vertical-align: top;\n",
              "    }\n",
              "\n",
              "    .dataframe thead th {\n",
              "        text-align: right;\n",
              "    }\n",
              "</style>\n",
              "<table border=\"1\" class=\"dataframe\">\n",
              "  <thead>\n",
              "    <tr style=\"text-align: right;\">\n",
              "      <th></th>\n",
              "      <th>cliente_nome_completo</th>\n",
              "      <th>cliente_cpf</th>\n",
              "      <th>cliente_idade</th>\n",
              "      <th>cliente_frequencia_compra</th>\n",
              "    </tr>\n",
              "  </thead>\n",
              "  <tbody>\n",
              "    <tr>\n",
              "      <th>0</th>\n",
              "      <td>Fernando Andrade</td>\n",
              "      <td>2.946012e+10</td>\n",
              "      <td>51</td>\n",
              "      <td>26</td>\n",
              "    </tr>\n",
              "    <tr>\n",
              "      <th>1</th>\n",
              "      <td>Vanessa Andrade</td>\n",
              "      <td>7.428947e+10</td>\n",
              "      <td>47</td>\n",
              "      <td>6</td>\n",
              "    </tr>\n",
              "    <tr>\n",
              "      <th>2</th>\n",
              "      <td>Maria Barcelos</td>\n",
              "      <td>9.301411e+10</td>\n",
              "      <td>23</td>\n",
              "      <td>91</td>\n",
              "    </tr>\n",
              "    <tr>\n",
              "      <th>3</th>\n",
              "      <td>Vanessa Carvalho</td>\n",
              "      <td>2.482485e+10</td>\n",
              "      <td>30</td>\n",
              "      <td>54</td>\n",
              "    </tr>\n",
              "    <tr>\n",
              "      <th>4</th>\n",
              "      <td>Ana Rodrigues</td>\n",
              "      <td>5.314509e+10</td>\n",
              "      <td>44</td>\n",
              "      <td>81</td>\n",
              "    </tr>\n",
              "  </tbody>\n",
              "</table>\n",
              "</div>\n",
              "      <button class=\"colab-df-convert\" onclick=\"convertToInteractive('df-f77e6b48-5dbf-47f0-9ea7-7867f12e45e5')\"\n",
              "              title=\"Convert this dataframe to an interactive table.\"\n",
              "              style=\"display:none;\">\n",
              "        \n",
              "  <svg xmlns=\"http://www.w3.org/2000/svg\" height=\"24px\"viewBox=\"0 0 24 24\"\n",
              "       width=\"24px\">\n",
              "    <path d=\"M0 0h24v24H0V0z\" fill=\"none\"/>\n",
              "    <path d=\"M18.56 5.44l.94 2.06.94-2.06 2.06-.94-2.06-.94-.94-2.06-.94 2.06-2.06.94zm-11 1L8.5 8.5l.94-2.06 2.06-.94-2.06-.94L8.5 2.5l-.94 2.06-2.06.94zm10 10l.94 2.06.94-2.06 2.06-.94-2.06-.94-.94-2.06-.94 2.06-2.06.94z\"/><path d=\"M17.41 7.96l-1.37-1.37c-.4-.4-.92-.59-1.43-.59-.52 0-1.04.2-1.43.59L10.3 9.45l-7.72 7.72c-.78.78-.78 2.05 0 2.83L4 21.41c.39.39.9.59 1.41.59.51 0 1.02-.2 1.41-.59l7.78-7.78 2.81-2.81c.8-.78.8-2.07 0-2.86zM5.41 20L4 18.59l7.72-7.72 1.47 1.35L5.41 20z\"/>\n",
              "  </svg>\n",
              "      </button>\n",
              "      \n",
              "  <style>\n",
              "    .colab-df-container {\n",
              "      display:flex;\n",
              "      flex-wrap:wrap;\n",
              "      gap: 12px;\n",
              "    }\n",
              "\n",
              "    .colab-df-convert {\n",
              "      background-color: #E8F0FE;\n",
              "      border: none;\n",
              "      border-radius: 50%;\n",
              "      cursor: pointer;\n",
              "      display: none;\n",
              "      fill: #1967D2;\n",
              "      height: 32px;\n",
              "      padding: 0 0 0 0;\n",
              "      width: 32px;\n",
              "    }\n",
              "\n",
              "    .colab-df-convert:hover {\n",
              "      background-color: #E2EBFA;\n",
              "      box-shadow: 0px 1px 2px rgba(60, 64, 67, 0.3), 0px 1px 3px 1px rgba(60, 64, 67, 0.15);\n",
              "      fill: #174EA6;\n",
              "    }\n",
              "\n",
              "    [theme=dark] .colab-df-convert {\n",
              "      background-color: #3B4455;\n",
              "      fill: #D2E3FC;\n",
              "    }\n",
              "\n",
              "    [theme=dark] .colab-df-convert:hover {\n",
              "      background-color: #434B5C;\n",
              "      box-shadow: 0px 1px 3px 1px rgba(0, 0, 0, 0.15);\n",
              "      filter: drop-shadow(0px 1px 2px rgba(0, 0, 0, 0.3));\n",
              "      fill: #FFFFFF;\n",
              "    }\n",
              "  </style>\n",
              "\n",
              "      <script>\n",
              "        const buttonEl =\n",
              "          document.querySelector('#df-f77e6b48-5dbf-47f0-9ea7-7867f12e45e5 button.colab-df-convert');\n",
              "        buttonEl.style.display =\n",
              "          google.colab.kernel.accessAllowed ? 'block' : 'none';\n",
              "\n",
              "        async function convertToInteractive(key) {\n",
              "          const element = document.querySelector('#df-f77e6b48-5dbf-47f0-9ea7-7867f12e45e5');\n",
              "          const dataTable =\n",
              "            await google.colab.kernel.invokeFunction('convertToInteractive',\n",
              "                                                     [key], {});\n",
              "          if (!dataTable) return;\n",
              "\n",
              "          const docLinkHtml = 'Like what you see? Visit the ' +\n",
              "            '<a target=\"_blank\" href=https://colab.research.google.com/notebooks/data_table.ipynb>data table notebook</a>'\n",
              "            + ' to learn more about interactive tables.';\n",
              "          element.innerHTML = '';\n",
              "          dataTable['output_type'] = 'display_data';\n",
              "          await google.colab.output.renderOutput(dataTable, element);\n",
              "          const docLink = document.createElement('div');\n",
              "          docLink.innerHTML = docLinkHtml;\n",
              "          element.appendChild(docLink);\n",
              "        }\n",
              "      </script>\n",
              "    </div>\n",
              "  </div>\n",
              "  "
            ]
          },
          "metadata": {},
          "execution_count": 283
        }
      ]
    },
    {
      "cell_type": "markdown",
      "source": [
        "# **Alterando os valores faltantes e negativos**"
      ],
      "metadata": {
        "id": "zd3AkEuggzOL"
      }
    },
    {
      "cell_type": "markdown",
      "source": [
        "Alterado os valores faltantes para '0'. Levando em consideração que não podemos ter uma frequencia negativa foi alterada para 0, porém em situação real caberia uma análise mais profunda."
      ],
      "metadata": {
        "id": "PqHoxaZ4bn7u"
      }
    },
    {
      "cell_type": "code",
      "source": [
        "negativo = df[df['cliente_frequencia_compra'] < 0]\n",
        "display(negativo)"
      ],
      "metadata": {
        "colab": {
          "base_uri": "https://localhost:8080/",
          "height": 81
        },
        "id": "TjCcJNMHUEIq",
        "outputId": "12236970-9bdf-4ac4-d267-ba3f76a683ac"
      },
      "execution_count": 284,
      "outputs": [
        {
          "output_type": "display_data",
          "data": {
            "text/plain": [
              "   cliente_nome_completo   cliente_cpf  cliente_idade  \\\n",
              "89      Marcia Rodrigues  7.097256e+09             38   \n",
              "\n",
              "    cliente_frequencia_compra  \n",
              "89                         -5  "
            ],
            "text/html": [
              "\n",
              "  <div id=\"df-e1524ad2-0a59-4cb5-8bc8-a82ee02cdb23\">\n",
              "    <div class=\"colab-df-container\">\n",
              "      <div>\n",
              "<style scoped>\n",
              "    .dataframe tbody tr th:only-of-type {\n",
              "        vertical-align: middle;\n",
              "    }\n",
              "\n",
              "    .dataframe tbody tr th {\n",
              "        vertical-align: top;\n",
              "    }\n",
              "\n",
              "    .dataframe thead th {\n",
              "        text-align: right;\n",
              "    }\n",
              "</style>\n",
              "<table border=\"1\" class=\"dataframe\">\n",
              "  <thead>\n",
              "    <tr style=\"text-align: right;\">\n",
              "      <th></th>\n",
              "      <th>cliente_nome_completo</th>\n",
              "      <th>cliente_cpf</th>\n",
              "      <th>cliente_idade</th>\n",
              "      <th>cliente_frequencia_compra</th>\n",
              "    </tr>\n",
              "  </thead>\n",
              "  <tbody>\n",
              "    <tr>\n",
              "      <th>89</th>\n",
              "      <td>Marcia Rodrigues</td>\n",
              "      <td>7.097256e+09</td>\n",
              "      <td>38</td>\n",
              "      <td>-5</td>\n",
              "    </tr>\n",
              "  </tbody>\n",
              "</table>\n",
              "</div>\n",
              "      <button class=\"colab-df-convert\" onclick=\"convertToInteractive('df-e1524ad2-0a59-4cb5-8bc8-a82ee02cdb23')\"\n",
              "              title=\"Convert this dataframe to an interactive table.\"\n",
              "              style=\"display:none;\">\n",
              "        \n",
              "  <svg xmlns=\"http://www.w3.org/2000/svg\" height=\"24px\"viewBox=\"0 0 24 24\"\n",
              "       width=\"24px\">\n",
              "    <path d=\"M0 0h24v24H0V0z\" fill=\"none\"/>\n",
              "    <path d=\"M18.56 5.44l.94 2.06.94-2.06 2.06-.94-2.06-.94-.94-2.06-.94 2.06-2.06.94zm-11 1L8.5 8.5l.94-2.06 2.06-.94-2.06-.94L8.5 2.5l-.94 2.06-2.06.94zm10 10l.94 2.06.94-2.06 2.06-.94-2.06-.94-.94-2.06-.94 2.06-2.06.94z\"/><path d=\"M17.41 7.96l-1.37-1.37c-.4-.4-.92-.59-1.43-.59-.52 0-1.04.2-1.43.59L10.3 9.45l-7.72 7.72c-.78.78-.78 2.05 0 2.83L4 21.41c.39.39.9.59 1.41.59.51 0 1.02-.2 1.41-.59l7.78-7.78 2.81-2.81c.8-.78.8-2.07 0-2.86zM5.41 20L4 18.59l7.72-7.72 1.47 1.35L5.41 20z\"/>\n",
              "  </svg>\n",
              "      </button>\n",
              "      \n",
              "  <style>\n",
              "    .colab-df-container {\n",
              "      display:flex;\n",
              "      flex-wrap:wrap;\n",
              "      gap: 12px;\n",
              "    }\n",
              "\n",
              "    .colab-df-convert {\n",
              "      background-color: #E8F0FE;\n",
              "      border: none;\n",
              "      border-radius: 50%;\n",
              "      cursor: pointer;\n",
              "      display: none;\n",
              "      fill: #1967D2;\n",
              "      height: 32px;\n",
              "      padding: 0 0 0 0;\n",
              "      width: 32px;\n",
              "    }\n",
              "\n",
              "    .colab-df-convert:hover {\n",
              "      background-color: #E2EBFA;\n",
              "      box-shadow: 0px 1px 2px rgba(60, 64, 67, 0.3), 0px 1px 3px 1px rgba(60, 64, 67, 0.15);\n",
              "      fill: #174EA6;\n",
              "    }\n",
              "\n",
              "    [theme=dark] .colab-df-convert {\n",
              "      background-color: #3B4455;\n",
              "      fill: #D2E3FC;\n",
              "    }\n",
              "\n",
              "    [theme=dark] .colab-df-convert:hover {\n",
              "      background-color: #434B5C;\n",
              "      box-shadow: 0px 1px 3px 1px rgba(0, 0, 0, 0.15);\n",
              "      filter: drop-shadow(0px 1px 2px rgba(0, 0, 0, 0.3));\n",
              "      fill: #FFFFFF;\n",
              "    }\n",
              "  </style>\n",
              "\n",
              "      <script>\n",
              "        const buttonEl =\n",
              "          document.querySelector('#df-e1524ad2-0a59-4cb5-8bc8-a82ee02cdb23 button.colab-df-convert');\n",
              "        buttonEl.style.display =\n",
              "          google.colab.kernel.accessAllowed ? 'block' : 'none';\n",
              "\n",
              "        async function convertToInteractive(key) {\n",
              "          const element = document.querySelector('#df-e1524ad2-0a59-4cb5-8bc8-a82ee02cdb23');\n",
              "          const dataTable =\n",
              "            await google.colab.kernel.invokeFunction('convertToInteractive',\n",
              "                                                     [key], {});\n",
              "          if (!dataTable) return;\n",
              "\n",
              "          const docLinkHtml = 'Like what you see? Visit the ' +\n",
              "            '<a target=\"_blank\" href=https://colab.research.google.com/notebooks/data_table.ipynb>data table notebook</a>'\n",
              "            + ' to learn more about interactive tables.';\n",
              "          element.innerHTML = '';\n",
              "          dataTable['output_type'] = 'display_data';\n",
              "          await google.colab.output.renderOutput(dataTable, element);\n",
              "          const docLink = document.createElement('div');\n",
              "          docLink.innerHTML = docLinkHtml;\n",
              "          element.appendChild(docLink);\n",
              "        }\n",
              "      </script>\n",
              "    </div>\n",
              "  </div>\n",
              "  "
            ]
          },
          "metadata": {}
        }
      ]
    },
    {
      "cell_type": "code",
      "source": [
        "df['cliente_frequencia_compra'] = df['cliente_frequencia_compra'].replace(-5 , 0) "
      ],
      "metadata": {
        "id": "5JHmelxVUEMC"
      },
      "execution_count": 285,
      "outputs": []
    },
    {
      "cell_type": "code",
      "source": [
        "display(df.iloc[89])"
      ],
      "metadata": {
        "colab": {
          "base_uri": "https://localhost:8080/",
          "height": 104
        },
        "id": "RGIvCy_MVs99",
        "outputId": "c7894fa5-d230-4c02-b19b-dcc2da80d76d"
      },
      "execution_count": 286,
      "outputs": [
        {
          "output_type": "display_data",
          "data": {
            "text/plain": [
              "cliente_nome_completo        Marcia Rodrigues\n",
              "cliente_cpf                      7097255955.0\n",
              "cliente_idade                              38\n",
              "cliente_frequencia_compra                   0\n",
              "Name: 89, dtype: object"
            ]
          },
          "metadata": {}
        }
      ]
    },
    {
      "cell_type": "code",
      "source": [
        "df.fillna(0, inplace=True) #alterando os valores faltantes para '0'.\n",
        "df.info()"
      ],
      "metadata": {
        "colab": {
          "base_uri": "https://localhost:8080/"
        },
        "id": "UF8jBw01MHQG",
        "outputId": "2014d52f-25f3-4aa1-b3f7-a3e8233615b0"
      },
      "execution_count": 287,
      "outputs": [
        {
          "output_type": "stream",
          "name": "stdout",
          "text": [
            "<class 'pandas.core.frame.DataFrame'>\n",
            "RangeIndex: 1002 entries, 0 to 1001\n",
            "Data columns (total 4 columns):\n",
            " #   Column                     Non-Null Count  Dtype  \n",
            "---  ------                     --------------  -----  \n",
            " 0   cliente_nome_completo      1002 non-null   object \n",
            " 1   cliente_cpf                1002 non-null   float64\n",
            " 2   cliente_idade              1002 non-null   int16  \n",
            " 3   cliente_frequencia_compra  1002 non-null   int64  \n",
            "dtypes: float64(1), int16(1), int64(1), object(1)\n",
            "memory usage: 25.6+ KB\n"
          ]
        }
      ]
    },
    {
      "cell_type": "markdown",
      "source": [
        "# **Outliers**"
      ],
      "metadata": {
        "id": "zROoA7o5eN5a"
      }
    },
    {
      "cell_type": "markdown",
      "source": [
        "*Foi analisado a informação de outlier através de três tipos de gráficos, afim de promvover melhor visualização da informação. Após a identificação do outlier o mesmo foi removido do dataframe original.*"
      ],
      "metadata": {
        "id": "qHn1H1W2Slp4"
      }
    },
    {
      "cell_type": "code",
      "source": [
        "y = df['cliente_frequencia_compra']\n",
        "x = pd.Series(list(range(y.shape[0])))\n",
        "\n",
        "new_df = pd.DataFrame({'Cliente': x, 'Frequência' : y})\n",
        "\n",
        "new_df.plot(x = 'Cliente', y ='Frequência', kind='scatter', figsize=(20, 10))"
      ],
      "metadata": {
        "colab": {
          "base_uri": "https://localhost:8080/",
          "height": 623
        },
        "id": "RyRxL-WYJX2h",
        "outputId": "315ba42b-6648-4def-e1ee-8b5f40ed35c4"
      },
      "execution_count": 288,
      "outputs": [
        {
          "output_type": "execute_result",
          "data": {
            "text/plain": [
              "<matplotlib.axes._subplots.AxesSubplot at 0x7f6304971b10>"
            ]
          },
          "metadata": {},
          "execution_count": 288
        },
        {
          "output_type": "display_data",
          "data": {
            "text/plain": [
              "<Figure size 1440x720 with 1 Axes>"
            ],
            "image/png": "[encoded data removed]"
          },
          "metadata": {
            "needs_background": "light"
          }
        }
      ]
    },
    {
      "cell_type": "code",
      "source": [
        "px.histogram(df, x = 'cliente_frequencia_compra', histnorm='probability density', marginal='box')"
      ],
      "metadata": {
        "colab": {
          "base_uri": "https://localhost:8080/",
          "height": 542
        },
        "id": "bwm7ww7W-mu7",
        "outputId": "605d6430-2c4f-4f2b-f833-102dcf8d8bdf"
      },
      "execution_count": 289,
      "outputs": [
        {
          "output_type": "display_data",
          "data": {
            "text/html": [
              "<html>\n",
              "<head><meta charset=\"utf-8\" /></head>\n",
              "<body>\n",
              "    <div>            <script src=\"https://cdnjs.cloudflare.com/ajax/libs/mathjax/2.7.5/MathJax.js?config=TeX-AMS-MML_SVG\"></script><script type=\"text/javascript\">if (window.MathJax) {MathJax.Hub.Config({SVG: {font: \"STIX-Web\"}});}</script>                <script type=\"text/javascript\">window.PlotlyConfig = {MathJaxConfig: 'local'};</script>\n",
              "        <script src=\"https://cdn.plot.ly/plotly-2.8.3.min.js\"></script>                <div id=\"264b366e-5c4e-413f-82a4-ec1477bdbba3\" class=\"plotly-graph-div\" style=\"height:525px; width:100%;\"></div>            <script type=\"text/javascript\">                                    window.PLOTLYENV=window.PLOTLYENV || {};                                    if (document.getElementById(\"264b366e-5c4e-413f-82a4-ec1477bdbba3\")) {                    Plotly.newPlot(                        \"264b366e-5c4e-413f-82a4-ec1477bdbba3\",                        [{\"alignmentgroup\":\"True\",\"bingroup\":\"x\",\"histnorm\":\"probability density\",\"hovertemplate\":\"cliente_frequencia_compra=%{x}<br>probability density=%{y}<extra></extra>\",\"legendgroup\":\"\",\"marker\":{\"color\":\"#636efa\",\"pattern\":{\"shape\":\"\"}},\"name\":\"\",\"offsetgroup\":\"\",\"orientation\":\"v\",\"showlegend\":false,\"x\":[26,6,91,54,81,105,100,51,87,97,66,72,41,87,92,100,58,1,70,27,76,13,45,22,84,93,4,45,97,68,85,59,15,94,65,10,69,22,69,94,15,3,6,58,45,46,58,68,38,7,42,66,50,55,12,98,42,15,56,39,53,23,38,57,44,100,91,45,66,96,85,90,89,37,2,150,44,93,12,1,88,49,63,98,20,6,53,61,68,0,48,45,53,63,13,37,51,48,2,86,85,61,10,66,21,29,66,60,32,49,98,16,95,23,60,50,14,100,94,14,79,45,15,0,93,59,8,26,73,82,20,55,20,37,10,74,25,63,48,52,90,77,16,85,87,78,75,26,30,82,72,61,93,10,41,45,58,89,99,45,85,35,68,3,35,22,86,21,96,16,39,8,45,37,65,52,35,1,36,67,45,44,25,18,15,69,11,5,46,98,73,58,77,49,71,27,27,61,23,61,13,67,36,80,9,71,54,73,77,39,21,38,21,12,0,95,21,13,1,93,15,55,27,1,63,9,63,22,76,77,69,38,53,75,30,5,99,30,8,3,79,55,6,14,75,49,14,90,54,86,22,5,61,94,87,99,49,27,95,14,28,92,62,13,46,51,5,13,60,55,8,17,3,100,32,74,15,21,31,19,42,26,45,13,84,9,33,32,28,85,35,100,19,74,64,38,21,23,3,98,48,25,43,57,95,97,48,66,43,67,35,62,14,100,0,20,99,36,19,51,1,100,73,59,16,93,45,0,17,32,67,15,0,50,93,24,93,85,98,42,95,48,28,78,78,26,78,53,36,50,28,94,7,59,52,87,73,37,36,0,95,57,83,6,54,71,79,30,78,75,67,84,99,24,80,66,81,13,39,17,39,27,12,1,15,48,83,40,89,47,56,80,34,75,0,68,44,38,89,97,62,24,55,94,31,85,74,1,72,78,25,52,20,5,70,1,70,81,69,15,48,9,88,94,74,37,21,17,74,66,85,12,44,32,33,65,24,92,94,84,7,27,33,58,94,81,31,78,57,44,72,22,59,13,25,64,1,68,5,26,89,76,23,59,79,41,27,95,66,3,26,61,77,54,79,36,51,55,3,67,44,90,31,48,64,50,41,38,35,76,59,95,20,41,23,71,21,18,100,86,98,1,34,14,59,92,43,44,68,19,85,95,81,17,67,56,38,98,86,66,38,29,76,99,42,8,6,5,14,41,16,58,12,55,97,72,76,67,60,58,4,49,40,68,38,74,71,83,46,31,42,52,67,82,50,76,57,34,29,3,95,57,35,14,10,79,39,22,7,46,55,12,50,19,73,92,82,17,89,37,64,15,30,74,85,30,71,19,0,9,18,75,30,37,74,80,96,5,83,39,63,86,37,70,53,46,59,27,6,30,99,55,78,20,98,74,15,45,33,45,60,89,26,8,50,75,84,40,8,80,75,53,10,33,51,1,42,54,19,61,80,59,32,49,73,38,17,62,12,32,31,35,61,32,86,19,60,46,55,55,63,43,10,96,81,67,24,64,45,93,3,21,39,4,0,24,48,68,55,41,10,50,38,62,91,74,2,29,65,44,49,23,51,8,70,53,6,88,62,76,43,24,34,42,84,90,65,90,82,63,95,100,36,67,87,70,15,55,20,2,74,59,8,48,42,0,36,91,91,25,0,13,28,0,47,68,33,5,40,49,61,64,57,70,40,0,25,46,70,88,21,4,0,12,77,31,5,59,88,46,30,54,88,21,3,84,85,94,37,51,91,82,15,79,38,99,89,95,86,35,71,29,57,12,69,34,31,80,55,29,77,80,0,20,24,47,2,47,44,75,28,77,95,37,84,54,52,38,18,74,99,81,27,98,23,47,10,91,12,23,93,52,44,74,75,14,92,92,35,11,53,45,86,82,14,80,76,2,27,63,85,25,14,29,56,15,21,12,48,12,54,92,68,85,54,14,3,9,82,30,100,14,56,58,24,63,24,19,50,76,65,68,53,72,8,15,41,1,97,85,79,30,99,51,78,94,67,38,9,20,39,23,77,61,15,78,82,86,95,100,78,31,81,96,95,91,95,29,63,28,55,31,4,0,34,64,20,2,12,18,46,61,74,4,93,68,11,50,4,12,20,94,35,86,79,50,84,49,81,22,49,69,46,62,51,51,7,48,57,53,26,44,72,81,31,56,48,31,21,21,11,24,96,97,40,88,17,48,77,57,60,15,95,34,74,55,92,23,61,25,74,25,76,64,51,91,40,90,83,83,72,47,75,70,11,25,69,89,11,94,10,7],\"xaxis\":\"x\",\"yaxis\":\"y\",\"type\":\"histogram\"},{\"alignmentgroup\":\"True\",\"hovertemplate\":\"cliente_frequencia_compra=%{x}<extra></extra>\",\"legendgroup\":\"\",\"marker\":{\"color\":\"#636efa\"},\"name\":\"\",\"notched\":true,\"offsetgroup\":\"\",\"showlegend\":false,\"x\":[26,6,91,54,81,105,100,51,87,97,66,72,41,87,92,100,58,1,70,27,76,13,45,22,84,93,4,45,97,68,85,59,15,94,65,10,69,22,69,94,15,3,6,58,45,46,58,68,38,7,42,66,50,55,12,98,42,15,56,39,53,23,38,57,44,100,91,45,66,96,85,90,89,37,2,150,44,93,12,1,88,49,63,98,20,6,53,61,68,0,48,45,53,63,13,37,51,48,2,86,85,61,10,66,21,29,66,60,32,49,98,16,95,23,60,50,14,100,94,14,79,45,15,0,93,59,8,26,73,82,20,55,20,37,10,74,25,63,48,52,90,77,16,85,87,78,75,26,30,82,72,61,93,10,41,45,58,89,99,45,85,35,68,3,35,22,86,21,96,16,39,8,45,37,65,52,35,1,36,67,45,44,25,18,15,69,11,5,46,98,73,58,77,49,71,27,27,61,23,61,13,67,36,80,9,71,54,73,77,39,21,38,21,12,0,95,21,13,1,93,15,55,27,1,63,9,63,22,76,77,69,38,53,75,30,5,99,30,8,3,79,55,6,14,75,49,14,90,54,86,22,5,61,94,87,99,49,27,95,14,28,92,62,13,46,51,5,13,60,55,8,17,3,100,32,74,15,21,31,19,42,26,45,13,84,9,33,32,28,85,35,100,19,74,64,38,21,23,3,98,48,25,43,57,95,97,48,66,43,67,35,62,14,100,0,20,99,36,19,51,1,100,73,59,16,93,45,0,17,32,67,15,0,50,93,24,93,85,98,42,95,48,28,78,78,26,78,53,36,50,28,94,7,59,52,87,73,37,36,0,95,57,83,6,54,71,79,30,78,75,67,84,99,24,80,66,81,13,39,17,39,27,12,1,15,48,83,40,89,47,56,80,34,75,0,68,44,38,89,97,62,24,55,94,31,85,74,1,72,78,25,52,20,5,70,1,70,81,69,15,48,9,88,94,74,37,21,17,74,66,85,12,44,32,33,65,24,92,94,84,7,27,33,58,94,81,31,78,57,44,72,22,59,13,25,64,1,68,5,26,89,76,23,59,79,41,27,95,66,3,26,61,77,54,79,36,51,55,3,67,44,90,31,48,64,50,41,38,35,76,59,95,20,41,23,71,21,18,100,86,98,1,34,14,59,92,43,44,68,19,85,95,81,17,67,56,38,98,86,66,38,29,76,99,42,8,6,5,14,41,16,58,12,55,97,72,76,67,60,58,4,49,40,68,38,74,71,83,46,31,42,52,67,82,50,76,57,34,29,3,95,57,35,14,10,79,39,22,7,46,55,12,50,19,73,92,82,17,89,37,64,15,30,74,85,30,71,19,0,9,18,75,30,37,74,80,96,5,83,39,63,86,37,70,53,46,59,27,6,30,99,55,78,20,98,74,15,45,33,45,60,89,26,8,50,75,84,40,8,80,75,53,10,33,51,1,42,54,19,61,80,59,32,49,73,38,17,62,12,32,31,35,61,32,86,19,60,46,55,55,63,43,10,96,81,67,24,64,45,93,3,21,39,4,0,24,48,68,55,41,10,50,38,62,91,74,2,29,65,44,49,23,51,8,70,53,6,88,62,76,43,24,34,42,84,90,65,90,82,63,95,100,36,67,87,70,15,55,20,2,74,59,8,48,42,0,36,91,91,25,0,13,28,0,47,68,33,5,40,49,61,64,57,70,40,0,25,46,70,88,21,4,0,12,77,31,5,59,88,46,30,54,88,21,3,84,85,94,37,51,91,82,15,79,38,99,89,95,86,35,71,29,57,12,69,34,31,80,55,29,77,80,0,20,24,47,2,47,44,75,28,77,95,37,84,54,52,38,18,74,99,81,27,98,23,47,10,91,12,23,93,52,44,74,75,14,92,92,35,11,53,45,86,82,14,80,76,2,27,63,85,25,14,29,56,15,21,12,48,12,54,92,68,85,54,14,3,9,82,30,100,14,56,58,24,63,24,19,50,76,65,68,53,72,8,15,41,1,97,85,79,30,99,51,78,94,67,38,9,20,39,23,77,61,15,78,82,86,95,100,78,31,81,96,95,91,95,29,63,28,55,31,4,0,34,64,20,2,12,18,46,61,74,4,93,68,11,50,4,12,20,94,35,86,79,50,84,49,81,22,49,69,46,62,51,51,7,48,57,53,26,44,72,81,31,56,48,31,21,21,11,24,96,97,40,88,17,48,77,57,60,15,95,34,74,55,92,23,61,25,74,25,76,64,51,91,40,90,83,83,72,47,75,70,11,25,69,89,11,94,10,7],\"xaxis\":\"x2\",\"yaxis\":\"y2\",\"type\":\"box\"}],                        {\"template\":{\"data\":{\"bar\":[{\"error_x\":{\"color\":\"#2a3f5f\"},\"error_y\":{\"color\":\"#2a3f5f\"},\"marker\":{\"line\":{\"color\":\"#E5ECF6\",\"width\":0.5},\"pattern\":{\"fillmode\":\"overlay\",\"size\":10,\"solidity\":0.2}},\"type\":\"bar\"}],\"barpolar\":[{\"marker\":{\"line\":{\"color\":\"#E5ECF6\",\"width\":0.5},\"pattern\":{\"fillmode\":\"overlay\",\"size\":10,\"solidity\":0.2}},\"type\":\"barpolar\"}],\"carpet\":[{\"aaxis\":{\"endlinecolor\":\"#2a3f5f\",\"gridcolor\":\"white\",\"linecolor\":\"white\",\"minorgridcolor\":\"white\",\"startlinecolor\":\"#2a3f5f\"},\"baxis\":{\"endlinecolor\":\"#2a3f5f\",\"gridcolor\":\"white\",\"linecolor\":\"white\",\"minorgridcolor\":\"white\",\"startlinecolor\":\"#2a3f5f\"},\"type\":\"carpet\"}],\"choropleth\":[{\"colorbar\":{\"outlinewidth\":0,\"ticks\":\"\"},\"type\":\"choropleth\"}],\"contour\":[{\"colorbar\":{\"outlinewidth\":0,\"ticks\":\"\"},\"colorscale\":[[0.0,\"#0d0887\"],[0.1111111111111111,\"#46039f\"],[0.2222222222222222,\"#7201a8\"],[0.3333333333333333,\"#9c179e\"],[0.4444444444444444,\"#bd3786\"],[0.5555555555555556,\"#d8576b\"],[0.6666666666666666,\"#ed7953\"],[0.7777777777777778,\"#fb9f3a\"],[0.8888888888888888,\"#fdca26\"],[1.0,\"#f0f921\"]],\"type\":\"contour\"}],\"contourcarpet\":[{\"colorbar\":{\"outlinewidth\":0,\"ticks\":\"\"},\"type\":\"contourcarpet\"}],\"heatmap\":[{\"colorbar\":{\"outlinewidth\":0,\"ticks\":\"\"},\"colorscale\":[[0.0,\"#0d0887\"],[0.1111111111111111,\"#46039f\"],[0.2222222222222222,\"#7201a8\"],[0.3333333333333333,\"#9c179e\"],[0.4444444444444444,\"#bd3786\"],[0.5555555555555556,\"#d8576b\"],[0.6666666666666666,\"#ed7953\"],[0.7777777777777778,\"#fb9f3a\"],[0.8888888888888888,\"#fdca26\"],[1.0,\"#f0f921\"]],\"type\":\"heatmap\"}],\"heatmapgl\":[{\"colorbar\":{\"outlinewidth\":0,\"ticks\":\"\"},\"colorscale\":[[0.0,\"#0d0887\"],[0.1111111111111111,\"#46039f\"],[0.2222222222222222,\"#7201a8\"],[0.3333333333333333,\"#9c179e\"],[0.4444444444444444,\"#bd3786\"],[0.5555555555555556,\"#d8576b\"],[0.6666666666666666,\"#ed7953\"],[0.7777777777777778,\"#fb9f3a\"],[0.8888888888888888,\"#fdca26\"],[1.0,\"#f0f921\"]],\"type\":\"heatmapgl\"}],\"histogram\":[{\"marker\":{\"pattern\":{\"fillmode\":\"overlay\",\"size\":10,\"solidity\":0.2}},\"type\":\"histogram\"}],\"histogram2d\":[{\"colorbar\":{\"outlinewidth\":0,\"ticks\":\"\"},\"colorscale\":[[0.0,\"#0d0887\"],[0.1111111111111111,\"#46039f\"],[0.2222222222222222,\"#7201a8\"],[0.3333333333333333,\"#9c179e\"],[0.4444444444444444,\"#bd3786\"],[0.5555555555555556,\"#d8576b\"],[0.6666666666666666,\"#ed7953\"],[0.7777777777777778,\"#fb9f3a\"],[0.8888888888888888,\"#fdca26\"],[1.0,\"#f0f921\"]],\"type\":\"histogram2d\"}],\"histogram2dcontour\":[{\"colorbar\":{\"outlinewidth\":0,\"ticks\":\"\"},\"colorscale\":[[0.0,\"#0d0887\"],[0.1111111111111111,\"#46039f\"],[0.2222222222222222,\"#7201a8\"],[0.3333333333333333,\"#9c179e\"],[0.4444444444444444,\"#bd3786\"],[0.5555555555555556,\"#d8576b\"],[0.6666666666666666,\"#ed7953\"],[0.7777777777777778,\"#fb9f3a\"],[0.8888888888888888,\"#fdca26\"],[1.0,\"#f0f921\"]],\"type\":\"histogram2dcontour\"}],\"mesh3d\":[{\"colorbar\":{\"outlinewidth\":0,\"ticks\":\"\"},\"type\":\"mesh3d\"}],\"parcoords\":[{\"line\":{\"colorbar\":{\"outlinewidth\":0,\"ticks\":\"\"}},\"type\":\"parcoords\"}],\"pie\":[{\"automargin\":true,\"type\":\"pie\"}],\"scatter\":[{\"marker\":{\"colorbar\":{\"outlinewidth\":0,\"ticks\":\"\"}},\"type\":\"scatter\"}],\"scatter3d\":[{\"line\":{\"colorbar\":{\"outlinewidth\":0,\"ticks\":\"\"}},\"marker\":{\"colorbar\":{\"outlinewidth\":0,\"ticks\":\"\"}},\"type\":\"scatter3d\"}],\"scattercarpet\":[{\"marker\":{\"colorbar\":{\"outlinewidth\":0,\"ticks\":\"\"}},\"type\":\"scattercarpet\"}],\"scattergeo\":[{\"marker\":{\"colorbar\":{\"outlinewidth\":0,\"ticks\":\"\"}},\"type\":\"scattergeo\"}],\"scattergl\":[{\"marker\":{\"colorbar\":{\"outlinewidth\":0,\"ticks\":\"\"}},\"type\":\"scattergl\"}],\"scattermapbox\":[{\"marker\":{\"colorbar\":{\"outlinewidth\":0,\"ticks\":\"\"}},\"type\":\"scattermapbox\"}],\"scatterpolar\":[{\"marker\":{\"colorbar\":{\"outlinewidth\":0,\"ticks\":\"\"}},\"type\":\"scatterpolar\"}],\"scatterpolargl\":[{\"marker\":{\"colorbar\":{\"outlinewidth\":0,\"ticks\":\"\"}},\"type\":\"scatterpolargl\"}],\"scatterternary\":[{\"marker\":{\"colorbar\":{\"outlinewidth\":0,\"ticks\":\"\"}},\"type\":\"scatterternary\"}],\"surface\":[{\"colorbar\":{\"outlinewidth\":0,\"ticks\":\"\"},\"colorscale\":[[0.0,\"#0d0887\"],[0.1111111111111111,\"#46039f\"],[0.2222222222222222,\"#7201a8\"],[0.3333333333333333,\"#9c179e\"],[0.4444444444444444,\"#bd3786\"],[0.5555555555555556,\"#d8576b\"],[0.6666666666666666,\"#ed7953\"],[0.7777777777777778,\"#fb9f3a\"],[0.8888888888888888,\"#fdca26\"],[1.0,\"#f0f921\"]],\"type\":\"surface\"}],\"table\":[{\"cells\":{\"fill\":{\"color\":\"#EBF0F8\"},\"line\":{\"color\":\"white\"}},\"header\":{\"fill\":{\"color\":\"#C8D4E3\"},\"line\":{\"color\":\"white\"}},\"type\":\"table\"}]},\"layout\":{\"annotationdefaults\":{\"arrowcolor\":\"#2a3f5f\",\"arrowhead\":0,\"arrowwidth\":1},\"autotypenumbers\":\"strict\",\"coloraxis\":{\"colorbar\":{\"outlinewidth\":0,\"ticks\":\"\"}},\"colorscale\":{\"diverging\":[[0,\"#8e0152\"],[0.1,\"#c51b7d\"],[0.2,\"#de77ae\"],[0.3,\"#f1b6da\"],[0.4,\"#fde0ef\"],[0.5,\"#f7f7f7\"],[0.6,\"#e6f5d0\"],[0.7,\"#b8e186\"],[0.8,\"#7fbc41\"],[0.9,\"#4d9221\"],[1,\"#276419\"]],\"sequential\":[[0.0,\"#0d0887\"],[0.1111111111111111,\"#46039f\"],[0.2222222222222222,\"#7201a8\"],[0.3333333333333333,\"#9c179e\"],[0.4444444444444444,\"#bd3786\"],[0.5555555555555556,\"#d8576b\"],[0.6666666666666666,\"#ed7953\"],[0.7777777777777778,\"#fb9f3a\"],[0.8888888888888888,\"#fdca26\"],[1.0,\"#f0f921\"]],\"sequentialminus\":[[0.0,\"#0d0887\"],[0.1111111111111111,\"#46039f\"],[0.2222222222222222,\"#7201a8\"],[0.3333333333333333,\"#9c179e\"],[0.4444444444444444,\"#bd3786\"],[0.5555555555555556,\"#d8576b\"],[0.6666666666666666,\"#ed7953\"],[0.7777777777777778,\"#fb9f3a\"],[0.8888888888888888,\"#fdca26\"],[1.0,\"#f0f921\"]]},\"colorway\":[\"#636efa\",\"#EF553B\",\"#00cc96\",\"#ab63fa\",\"#FFA15A\",\"#19d3f3\",\"#FF6692\",\"#B6E880\",\"#FF97FF\",\"#FECB52\"],\"font\":{\"color\":\"#2a3f5f\"},\"geo\":{\"bgcolor\":\"white\",\"lakecolor\":\"white\",\"landcolor\":\"#E5ECF6\",\"showlakes\":true,\"showland\":true,\"subunitcolor\":\"white\"},\"hoverlabel\":{\"align\":\"left\"},\"hovermode\":\"closest\",\"mapbox\":{\"style\":\"light\"},\"paper_bgcolor\":\"white\",\"plot_bgcolor\":\"#E5ECF6\",\"polar\":{\"angularaxis\":{\"gridcolor\":\"white\",\"linecolor\":\"white\",\"ticks\":\"\"},\"bgcolor\":\"#E5ECF6\",\"radialaxis\":{\"gridcolor\":\"white\",\"linecolor\":\"white\",\"ticks\":\"\"}},\"scene\":{\"xaxis\":{\"backgroundcolor\":\"#E5ECF6\",\"gridcolor\":\"white\",\"gridwidth\":2,\"linecolor\":\"white\",\"showbackground\":true,\"ticks\":\"\",\"zerolinecolor\":\"white\"},\"yaxis\":{\"backgroundcolor\":\"#E5ECF6\",\"gridcolor\":\"white\",\"gridwidth\":2,\"linecolor\":\"white\",\"showbackground\":true,\"ticks\":\"\",\"zerolinecolor\":\"white\"},\"zaxis\":{\"backgroundcolor\":\"#E5ECF6\",\"gridcolor\":\"white\",\"gridwidth\":2,\"linecolor\":\"white\",\"showbackground\":true,\"ticks\":\"\",\"zerolinecolor\":\"white\"}},\"shapedefaults\":{\"line\":{\"color\":\"#2a3f5f\"}},\"ternary\":{\"aaxis\":{\"gridcolor\":\"white\",\"linecolor\":\"white\",\"ticks\":\"\"},\"baxis\":{\"gridcolor\":\"white\",\"linecolor\":\"white\",\"ticks\":\"\"},\"bgcolor\":\"#E5ECF6\",\"caxis\":{\"gridcolor\":\"white\",\"linecolor\":\"white\",\"ticks\":\"\"}},\"title\":{\"x\":0.05},\"xaxis\":{\"automargin\":true,\"gridcolor\":\"white\",\"linecolor\":\"white\",\"ticks\":\"\",\"title\":{\"standoff\":15},\"zerolinecolor\":\"white\",\"zerolinewidth\":2},\"yaxis\":{\"automargin\":true,\"gridcolor\":\"white\",\"linecolor\":\"white\",\"ticks\":\"\",\"title\":{\"standoff\":15},\"zerolinecolor\":\"white\",\"zerolinewidth\":2}}},\"xaxis\":{\"anchor\":\"y\",\"domain\":[0.0,1.0],\"title\":{\"text\":\"cliente_frequencia_compra\"}},\"yaxis\":{\"anchor\":\"x\",\"domain\":[0.0,0.8316],\"title\":{\"text\":\"probability density\"}},\"xaxis2\":{\"anchor\":\"y2\",\"domain\":[0.0,1.0],\"matches\":\"x\",\"showticklabels\":false,\"showgrid\":true},\"yaxis2\":{\"anchor\":\"x2\",\"domain\":[0.8416,1.0],\"matches\":\"y2\",\"showticklabels\":false,\"showline\":false,\"ticks\":\"\",\"showgrid\":false},\"legend\":{\"tracegroupgap\":0},\"margin\":{\"t\":60},\"barmode\":\"relative\"},                        {\"responsive\": true}                    ).then(function(){\n",
              "                            \n",
              "var gd = document.getElementById('264b366e-5c4e-413f-82a4-ec1477bdbba3');\n",
              "var x = new MutationObserver(function (mutations, observer) {{\n",
              "        var display = window.getComputedStyle(gd).display;\n",
              "        if (!display || display === 'none') {{\n",
              "            console.log([gd, 'removed!']);\n",
              "            Plotly.purge(gd);\n",
              "            observer.disconnect();\n",
              "        }}\n",
              "}});\n",
              "\n",
              "// Listen for the removal of the full notebook cells\n",
              "var notebookContainer = gd.closest('#notebook-container');\n",
              "if (notebookContainer) {{\n",
              "    x.observe(notebookContainer, {childList: true});\n",
              "}}\n",
              "\n",
              "// Listen for the clearing of the current output cell\n",
              "var outputEl = gd.closest('.output');\n",
              "if (outputEl) {{\n",
              "    x.observe(outputEl, {childList: true});\n",
              "}}\n",
              "\n",
              "                        })                };                            </script>        </div>\n",
              "</body>\n",
              "</html>"
            ]
          },
          "metadata": {}
        }
      ]
    },
    {
      "cell_type": "code",
      "source": [
        "sns.displot(df['cliente_frequencia_compra'])"
      ],
      "metadata": {
        "colab": {
          "base_uri": "https://localhost:8080/",
          "height": 386
        },
        "id": "1HF0etBQ_ovS",
        "outputId": "8c7a9dd4-a4ab-4de6-9923-8798f5a749fc"
      },
      "execution_count": 290,
      "outputs": [
        {
          "output_type": "execute_result",
          "data": {
            "text/plain": [
              "<seaborn.axisgrid.FacetGrid at 0x7f630485a250>"
            ]
          },
          "metadata": {},
          "execution_count": 290
        },
        {
          "output_type": "display_data",
          "data": {
            "text/plain": [
              "<Figure size 360x360 with 1 Axes>"
            ],
            "image/png": "[encoded data removed]"
          },
          "metadata": {
            "needs_background": "light"
          }
        }
      ]
    },
    {
      "cell_type": "code",
      "source": [
        "# definindo o intervalo de confiança da amostra.\n",
        "intervalo_confianca_positivo = df['cliente_frequencia_compra'].mean() + 2.5 * df['cliente_frequencia_compra'].std()\n",
        "intervalo_confianca_negativo = df['cliente_frequencia_compra'].mean() - 2.5 * df['cliente_frequencia_compra'].std()\n",
        "print(intervalo_confianca_positivo)\n",
        "print(intervalo_confianca_negativo)"
      ],
      "metadata": {
        "colab": {
          "base_uri": "https://localhost:8080/"
        },
        "id": "34SFBMT7FcmK",
        "outputId": "29b85e87-5f1d-445c-fa8a-8e07edd235e3"
      },
      "execution_count": 291,
      "outputs": [
        {
          "output_type": "stream",
          "name": "stdout",
          "text": [
            "123.48953492582524\n",
            "-23.59731935696297\n"
          ]
        }
      ]
    },
    {
      "cell_type": "code",
      "source": [
        "df.loc[(df['cliente_frequencia_compra'] > intervalo_confianca_positivo) | (df['cliente_frequencia_compra'] < intervalo_confianca_negativo)] # encontrando a linha do outlier."
      ],
      "metadata": {
        "colab": {
          "base_uri": "https://localhost:8080/",
          "height": 81
        },
        "id": "nCDgK4jPHIRQ",
        "outputId": "ec6bbe02-3de9-4e99-9fec-5219e2989ac7"
      },
      "execution_count": 292,
      "outputs": [
        {
          "output_type": "execute_result",
          "data": {
            "text/plain": [
              "   cliente_nome_completo   cliente_cpf  cliente_idade  \\\n",
              "75     Claudia Fernandes  5.296403e+10             26   \n",
              "\n",
              "    cliente_frequencia_compra  \n",
              "75                        150  "
            ],
            "text/html": [
              "\n",
              "  <div id=\"df-bff80574-2469-4a69-95d3-94789bfbffc7\">\n",
              "    <div class=\"colab-df-container\">\n",
              "      <div>\n",
              "<style scoped>\n",
              "    .dataframe tbody tr th:only-of-type {\n",
              "        vertical-align: middle;\n",
              "    }\n",
              "\n",
              "    .dataframe tbody tr th {\n",
              "        vertical-align: top;\n",
              "    }\n",
              "\n",
              "    .dataframe thead th {\n",
              "        text-align: right;\n",
              "    }\n",
              "</style>\n",
              "<table border=\"1\" class=\"dataframe\">\n",
              "  <thead>\n",
              "    <tr style=\"text-align: right;\">\n",
              "      <th></th>\n",
              "      <th>cliente_nome_completo</th>\n",
              "      <th>cliente_cpf</th>\n",
              "      <th>cliente_idade</th>\n",
              "      <th>cliente_frequencia_compra</th>\n",
              "    </tr>\n",
              "  </thead>\n",
              "  <tbody>\n",
              "    <tr>\n",
              "      <th>75</th>\n",
              "      <td>Claudia Fernandes</td>\n",
              "      <td>5.296403e+10</td>\n",
              "      <td>26</td>\n",
              "      <td>150</td>\n",
              "    </tr>\n",
              "  </tbody>\n",
              "</table>\n",
              "</div>\n",
              "      <button class=\"colab-df-convert\" onclick=\"convertToInteractive('df-bff80574-2469-4a69-95d3-94789bfbffc7')\"\n",
              "              title=\"Convert this dataframe to an interactive table.\"\n",
              "              style=\"display:none;\">\n",
              "        \n",
              "  <svg xmlns=\"http://www.w3.org/2000/svg\" height=\"24px\"viewBox=\"0 0 24 24\"\n",
              "       width=\"24px\">\n",
              "    <path d=\"M0 0h24v24H0V0z\" fill=\"none\"/>\n",
              "    <path d=\"M18.56 5.44l.94 2.06.94-2.06 2.06-.94-2.06-.94-.94-2.06-.94 2.06-2.06.94zm-11 1L8.5 8.5l.94-2.06 2.06-.94-2.06-.94L8.5 2.5l-.94 2.06-2.06.94zm10 10l.94 2.06.94-2.06 2.06-.94-2.06-.94-.94-2.06-.94 2.06-2.06.94z\"/><path d=\"M17.41 7.96l-1.37-1.37c-.4-.4-.92-.59-1.43-.59-.52 0-1.04.2-1.43.59L10.3 9.45l-7.72 7.72c-.78.78-.78 2.05 0 2.83L4 21.41c.39.39.9.59 1.41.59.51 0 1.02-.2 1.41-.59l7.78-7.78 2.81-2.81c.8-.78.8-2.07 0-2.86zM5.41 20L4 18.59l7.72-7.72 1.47 1.35L5.41 20z\"/>\n",
              "  </svg>\n",
              "      </button>\n",
              "      \n",
              "  <style>\n",
              "    .colab-df-container {\n",
              "      display:flex;\n",
              "      flex-wrap:wrap;\n",
              "      gap: 12px;\n",
              "    }\n",
              "\n",
              "    .colab-df-convert {\n",
              "      background-color: #E8F0FE;\n",
              "      border: none;\n",
              "      border-radius: 50%;\n",
              "      cursor: pointer;\n",
              "      display: none;\n",
              "      fill: #1967D2;\n",
              "      height: 32px;\n",
              "      padding: 0 0 0 0;\n",
              "      width: 32px;\n",
              "    }\n",
              "\n",
              "    .colab-df-convert:hover {\n",
              "      background-color: #E2EBFA;\n",
              "      box-shadow: 0px 1px 2px rgba(60, 64, 67, 0.3), 0px 1px 3px 1px rgba(60, 64, 67, 0.15);\n",
              "      fill: #174EA6;\n",
              "    }\n",
              "\n",
              "    [theme=dark] .colab-df-convert {\n",
              "      background-color: #3B4455;\n",
              "      fill: #D2E3FC;\n",
              "    }\n",
              "\n",
              "    [theme=dark] .colab-df-convert:hover {\n",
              "      background-color: #434B5C;\n",
              "      box-shadow: 0px 1px 3px 1px rgba(0, 0, 0, 0.15);\n",
              "      filter: drop-shadow(0px 1px 2px rgba(0, 0, 0, 0.3));\n",
              "      fill: #FFFFFF;\n",
              "    }\n",
              "  </style>\n",
              "\n",
              "      <script>\n",
              "        const buttonEl =\n",
              "          document.querySelector('#df-bff80574-2469-4a69-95d3-94789bfbffc7 button.colab-df-convert');\n",
              "        buttonEl.style.display =\n",
              "          google.colab.kernel.accessAllowed ? 'block' : 'none';\n",
              "\n",
              "        async function convertToInteractive(key) {\n",
              "          const element = document.querySelector('#df-bff80574-2469-4a69-95d3-94789bfbffc7');\n",
              "          const dataTable =\n",
              "            await google.colab.kernel.invokeFunction('convertToInteractive',\n",
              "                                                     [key], {});\n",
              "          if (!dataTable) return;\n",
              "\n",
              "          const docLinkHtml = 'Like what you see? Visit the ' +\n",
              "            '<a target=\"_blank\" href=https://colab.research.google.com/notebooks/data_table.ipynb>data table notebook</a>'\n",
              "            + ' to learn more about interactive tables.';\n",
              "          element.innerHTML = '';\n",
              "          dataTable['output_type'] = 'display_data';\n",
              "          await google.colab.output.renderOutput(dataTable, element);\n",
              "          const docLink = document.createElement('div');\n",
              "          docLink.innerHTML = docLinkHtml;\n",
              "          element.appendChild(docLink);\n",
              "        }\n",
              "      </script>\n",
              "    </div>\n",
              "  </div>\n",
              "  "
            ]
          },
          "metadata": {},
          "execution_count": 292
        }
      ]
    },
    {
      "cell_type": "code",
      "source": [
        "novo_df = df.loc[(df['cliente_frequencia_compra'] < intervalo_confianca_positivo) & (df['cliente_frequencia_compra'] > intervalo_confianca_negativo)] # craindo novo data frame sem o outlier encontrado.\n",
        "display(novo_df)"
      ],
      "metadata": {
        "colab": {
          "base_uri": "https://localhost:8080/",
          "height": 424
        },
        "id": "UlmiPys7IHUT",
        "outputId": "be9a0b20-b593-41d3-bb19-f44f09780853"
      },
      "execution_count": 293,
      "outputs": [
        {
          "output_type": "display_data",
          "data": {
            "text/plain": [
              "     cliente_nome_completo   cliente_cpf  cliente_idade  \\\n",
              "0         Fernando Andrade  2.946012e+10             51   \n",
              "1          Vanessa Andrade  7.428947e+10             47   \n",
              "2           Maria Barcelos  9.301411e+10             23   \n",
              "3         Vanessa Carvalho  2.482485e+10             30   \n",
              "4            Ana Rodrigues  5.314509e+10             44   \n",
              "...                    ...           ...            ...   \n",
              "997          Vanessa Nunes  7.988690e+10             43   \n",
              "998      Claudia Fernandes  6.854702e+10             58   \n",
              "999       Valter Fernandes  2.490824e+10             51   \n",
              "1000         Leonardo Melo  8.286605e+10             20   \n",
              "1001            Ana Santos  8.457643e+10             51   \n",
              "\n",
              "      cliente_frequencia_compra  \n",
              "0                            26  \n",
              "1                             6  \n",
              "2                            91  \n",
              "3                            54  \n",
              "4                            81  \n",
              "...                         ...  \n",
              "997                          89  \n",
              "998                          11  \n",
              "999                          94  \n",
              "1000                         10  \n",
              "1001                          7  \n",
              "\n",
              "[1001 rows x 4 columns]"
            ],
            "text/html": [
              "\n",
              "  <div id=\"df-706d168c-a02b-4acf-a898-ced9f192ac48\">\n",
              "    <div class=\"colab-df-container\">\n",
              "      <div>\n",
              "<style scoped>\n",
              "    .dataframe tbody tr th:only-of-type {\n",
              "        vertical-align: middle;\n",
              "    }\n",
              "\n",
              "    .dataframe tbody tr th {\n",
              "        vertical-align: top;\n",
              "    }\n",
              "\n",
              "    .dataframe thead th {\n",
              "        text-align: right;\n",
              "    }\n",
              "</style>\n",
              "<table border=\"1\" class=\"dataframe\">\n",
              "  <thead>\n",
              "    <tr style=\"text-align: right;\">\n",
              "      <th></th>\n",
              "      <th>cliente_nome_completo</th>\n",
              "      <th>cliente_cpf</th>\n",
              "      <th>cliente_idade</th>\n",
              "      <th>cliente_frequencia_compra</th>\n",
              "    </tr>\n",
              "  </thead>\n",
              "  <tbody>\n",
              "    <tr>\n",
              "      <th>0</th>\n",
              "      <td>Fernando Andrade</td>\n",
              "      <td>2.946012e+10</td>\n",
              "      <td>51</td>\n",
              "      <td>26</td>\n",
              "    </tr>\n",
              "    <tr>\n",
              "      <th>1</th>\n",
              "      <td>Vanessa Andrade</td>\n",
              "      <td>7.428947e+10</td>\n",
              "      <td>47</td>\n",
              "      <td>6</td>\n",
              "    </tr>\n",
              "    <tr>\n",
              "      <th>2</th>\n",
              "      <td>Maria Barcelos</td>\n",
              "      <td>9.301411e+10</td>\n",
              "      <td>23</td>\n",
              "      <td>91</td>\n",
              "    </tr>\n",
              "    <tr>\n",
              "      <th>3</th>\n",
              "      <td>Vanessa Carvalho</td>\n",
              "      <td>2.482485e+10</td>\n",
              "      <td>30</td>\n",
              "      <td>54</td>\n",
              "    </tr>\n",
              "    <tr>\n",
              "      <th>4</th>\n",
              "      <td>Ana Rodrigues</td>\n",
              "      <td>5.314509e+10</td>\n",
              "      <td>44</td>\n",
              "      <td>81</td>\n",
              "    </tr>\n",
              "    <tr>\n",
              "      <th>...</th>\n",
              "      <td>...</td>\n",
              "      <td>...</td>\n",
              "      <td>...</td>\n",
              "      <td>...</td>\n",
              "    </tr>\n",
              "    <tr>\n",
              "      <th>997</th>\n",
              "      <td>Vanessa Nunes</td>\n",
              "      <td>7.988690e+10</td>\n",
              "      <td>43</td>\n",
              "      <td>89</td>\n",
              "    </tr>\n",
              "    <tr>\n",
              "      <th>998</th>\n",
              "      <td>Claudia Fernandes</td>\n",
              "      <td>6.854702e+10</td>\n",
              "      <td>58</td>\n",
              "      <td>11</td>\n",
              "    </tr>\n",
              "    <tr>\n",
              "      <th>999</th>\n",
              "      <td>Valter Fernandes</td>\n",
              "      <td>2.490824e+10</td>\n",
              "      <td>51</td>\n",
              "      <td>94</td>\n",
              "    </tr>\n",
              "    <tr>\n",
              "      <th>1000</th>\n",
              "      <td>Leonardo Melo</td>\n",
              "      <td>8.286605e+10</td>\n",
              "      <td>20</td>\n",
              "      <td>10</td>\n",
              "    </tr>\n",
              "    <tr>\n",
              "      <th>1001</th>\n",
              "      <td>Ana Santos</td>\n",
              "      <td>8.457643e+10</td>\n",
              "      <td>51</td>\n",
              "      <td>7</td>\n",
              "    </tr>\n",
              "  </tbody>\n",
              "</table>\n",
              "<p>1001 rows × 4 columns</p>\n",
              "</div>\n",
              "      <button class=\"colab-df-convert\" onclick=\"convertToInteractive('df-706d168c-a02b-4acf-a898-ced9f192ac48')\"\n",
              "              title=\"Convert this dataframe to an interactive table.\"\n",
              "              style=\"display:none;\">\n",
              "        \n",
              "  <svg xmlns=\"http://www.w3.org/2000/svg\" height=\"24px\"viewBox=\"0 0 24 24\"\n",
              "       width=\"24px\">\n",
              "    <path d=\"M0 0h24v24H0V0z\" fill=\"none\"/>\n",
              "    <path d=\"M18.56 5.44l.94 2.06.94-2.06 2.06-.94-2.06-.94-.94-2.06-.94 2.06-2.06.94zm-11 1L8.5 8.5l.94-2.06 2.06-.94-2.06-.94L8.5 2.5l-.94 2.06-2.06.94zm10 10l.94 2.06.94-2.06 2.06-.94-2.06-.94-.94-2.06-.94 2.06-2.06.94z\"/><path d=\"M17.41 7.96l-1.37-1.37c-.4-.4-.92-.59-1.43-.59-.52 0-1.04.2-1.43.59L10.3 9.45l-7.72 7.72c-.78.78-.78 2.05 0 2.83L4 21.41c.39.39.9.59 1.41.59.51 0 1.02-.2 1.41-.59l7.78-7.78 2.81-2.81c.8-.78.8-2.07 0-2.86zM5.41 20L4 18.59l7.72-7.72 1.47 1.35L5.41 20z\"/>\n",
              "  </svg>\n",
              "      </button>\n",
              "      \n",
              "  <style>\n",
              "    .colab-df-container {\n",
              "      display:flex;\n",
              "      flex-wrap:wrap;\n",
              "      gap: 12px;\n",
              "    }\n",
              "\n",
              "    .colab-df-convert {\n",
              "      background-color: #E8F0FE;\n",
              "      border: none;\n",
              "      border-radius: 50%;\n",
              "      cursor: pointer;\n",
              "      display: none;\n",
              "      fill: #1967D2;\n",
              "      height: 32px;\n",
              "      padding: 0 0 0 0;\n",
              "      width: 32px;\n",
              "    }\n",
              "\n",
              "    .colab-df-convert:hover {\n",
              "      background-color: #E2EBFA;\n",
              "      box-shadow: 0px 1px 2px rgba(60, 64, 67, 0.3), 0px 1px 3px 1px rgba(60, 64, 67, 0.15);\n",
              "      fill: #174EA6;\n",
              "    }\n",
              "\n",
              "    [theme=dark] .colab-df-convert {\n",
              "      background-color: #3B4455;\n",
              "      fill: #D2E3FC;\n",
              "    }\n",
              "\n",
              "    [theme=dark] .colab-df-convert:hover {\n",
              "      background-color: #434B5C;\n",
              "      box-shadow: 0px 1px 3px 1px rgba(0, 0, 0, 0.15);\n",
              "      filter: drop-shadow(0px 1px 2px rgba(0, 0, 0, 0.3));\n",
              "      fill: #FFFFFF;\n",
              "    }\n",
              "  </style>\n",
              "\n",
              "      <script>\n",
              "        const buttonEl =\n",
              "          document.querySelector('#df-706d168c-a02b-4acf-a898-ced9f192ac48 button.colab-df-convert');\n",
              "        buttonEl.style.display =\n",
              "          google.colab.kernel.accessAllowed ? 'block' : 'none';\n",
              "\n",
              "        async function convertToInteractive(key) {\n",
              "          const element = document.querySelector('#df-706d168c-a02b-4acf-a898-ced9f192ac48');\n",
              "          const dataTable =\n",
              "            await google.colab.kernel.invokeFunction('convertToInteractive',\n",
              "                                                     [key], {});\n",
              "          if (!dataTable) return;\n",
              "\n",
              "          const docLinkHtml = 'Like what you see? Visit the ' +\n",
              "            '<a target=\"_blank\" href=https://colab.research.google.com/notebooks/data_table.ipynb>data table notebook</a>'\n",
              "            + ' to learn more about interactive tables.';\n",
              "          element.innerHTML = '';\n",
              "          dataTable['output_type'] = 'display_data';\n",
              "          await google.colab.output.renderOutput(dataTable, element);\n",
              "          const docLink = document.createElement('div');\n",
              "          docLink.innerHTML = docLinkHtml;\n",
              "          element.appendChild(docLink);\n",
              "        }\n",
              "      </script>\n",
              "    </div>\n",
              "  </div>\n",
              "  "
            ]
          },
          "metadata": {}
        }
      ]
    },
    {
      "cell_type": "code",
      "source": [
        "print('df = ', len(df)) # Verificando o tamanho do df original e o novo, afim de verificar a exlusão da linha faltante.\n",
        "print('novo_df = ', len(novo_df))"
      ],
      "metadata": {
        "colab": {
          "base_uri": "https://localhost:8080/"
        },
        "id": "TKZmAp71Ip3A",
        "outputId": "ae379559-6dc6-4a3d-b57b-d34f27ce1e99"
      },
      "execution_count": 294,
      "outputs": [
        {
          "output_type": "stream",
          "name": "stdout",
          "text": [
            "df =  1002\n",
            "novo_df =  1001\n"
          ]
        }
      ]
    },
    {
      "cell_type": "code",
      "source": [
        "px.histogram(novo_df, x = 'cliente_frequencia_compra', histnorm='probability density', marginal='box')"
      ],
      "metadata": {
        "colab": {
          "base_uri": "https://localhost:8080/",
          "height": 542
        },
        "id": "ntV2CCwuIqC-",
        "outputId": "36547a5e-0a1b-43dd-81e0-75b1d2f3bb8c"
      },
      "execution_count": 295,
      "outputs": [
        {
          "output_type": "display_data",
          "data": {
            "text/html": [
              "<html>\n",
              "<head><meta charset=\"utf-8\" /></head>\n",
              "<body>\n",
              "    <div>            <script src=\"https://cdnjs.cloudflare.com/ajax/libs/mathjax/2.7.5/MathJax.js?config=TeX-AMS-MML_SVG\"></script><script type=\"text/javascript\">if (window.MathJax) {MathJax.Hub.Config({SVG: {font: \"STIX-Web\"}});}</script>                <script type=\"text/javascript\">window.PlotlyConfig = {MathJaxConfig: 'local'};</script>\n",
              "        <script src=\"https://cdn.plot.ly/plotly-2.8.3.min.js\"></script>                <div id=\"de2aef87-a8c8-40b4-b0f8-93cd0ddcc832\" class=\"plotly-graph-div\" style=\"height:525px; width:100%;\"></div>            <script type=\"text/javascript\">                                    window.PLOTLYENV=window.PLOTLYENV || {};                                    if (document.getElementById(\"de2aef87-a8c8-40b4-b0f8-93cd0ddcc832\")) {                    Plotly.newPlot(                        \"de2aef87-a8c8-40b4-b0f8-93cd0ddcc832\",                        [{\"alignmentgroup\":\"True\",\"bingroup\":\"x\",\"histnorm\":\"probability density\",\"hovertemplate\":\"cliente_frequencia_compra=%{x}<br>probability density=%{y}<extra></extra>\",\"legendgroup\":\"\",\"marker\":{\"color\":\"#636efa\",\"pattern\":{\"shape\":\"\"}},\"name\":\"\",\"offsetgroup\":\"\",\"orientation\":\"v\",\"showlegend\":false,\"x\":[26,6,91,54,81,105,100,51,87,97,66,72,41,87,92,100,58,1,70,27,76,13,45,22,84,93,4,45,97,68,85,59,15,94,65,10,69,22,69,94,15,3,6,58,45,46,58,68,38,7,42,66,50,55,12,98,42,15,56,39,53,23,38,57,44,100,91,45,66,96,85,90,89,37,2,44,93,12,1,88,49,63,98,20,6,53,61,68,0,48,45,53,63,13,37,51,48,2,86,85,61,10,66,21,29,66,60,32,49,98,16,95,23,60,50,14,100,94,14,79,45,15,0,93,59,8,26,73,82,20,55,20,37,10,74,25,63,48,52,90,77,16,85,87,78,75,26,30,82,72,61,93,10,41,45,58,89,99,45,85,35,68,3,35,22,86,21,96,16,39,8,45,37,65,52,35,1,36,67,45,44,25,18,15,69,11,5,46,98,73,58,77,49,71,27,27,61,23,61,13,67,36,80,9,71,54,73,77,39,21,38,21,12,0,95,21,13,1,93,15,55,27,1,63,9,63,22,76,77,69,38,53,75,30,5,99,30,8,3,79,55,6,14,75,49,14,90,54,86,22,5,61,94,87,99,49,27,95,14,28,92,62,13,46,51,5,13,60,55,8,17,3,100,32,74,15,21,31,19,42,26,45,13,84,9,33,32,28,85,35,100,19,74,64,38,21,23,3,98,48,25,43,57,95,97,48,66,43,67,35,62,14,100,0,20,99,36,19,51,1,100,73,59,16,93,45,0,17,32,67,15,0,50,93,24,93,85,98,42,95,48,28,78,78,26,78,53,36,50,28,94,7,59,52,87,73,37,36,0,95,57,83,6,54,71,79,30,78,75,67,84,99,24,80,66,81,13,39,17,39,27,12,1,15,48,83,40,89,47,56,80,34,75,0,68,44,38,89,97,62,24,55,94,31,85,74,1,72,78,25,52,20,5,70,1,70,81,69,15,48,9,88,94,74,37,21,17,74,66,85,12,44,32,33,65,24,92,94,84,7,27,33,58,94,81,31,78,57,44,72,22,59,13,25,64,1,68,5,26,89,76,23,59,79,41,27,95,66,3,26,61,77,54,79,36,51,55,3,67,44,90,31,48,64,50,41,38,35,76,59,95,20,41,23,71,21,18,100,86,98,1,34,14,59,92,43,44,68,19,85,95,81,17,67,56,38,98,86,66,38,29,76,99,42,8,6,5,14,41,16,58,12,55,97,72,76,67,60,58,4,49,40,68,38,74,71,83,46,31,42,52,67,82,50,76,57,34,29,3,95,57,35,14,10,79,39,22,7,46,55,12,50,19,73,92,82,17,89,37,64,15,30,74,85,30,71,19,0,9,18,75,30,37,74,80,96,5,83,39,63,86,37,70,53,46,59,27,6,30,99,55,78,20,98,74,15,45,33,45,60,89,26,8,50,75,84,40,8,80,75,53,10,33,51,1,42,54,19,61,80,59,32,49,73,38,17,62,12,32,31,35,61,32,86,19,60,46,55,55,63,43,10,96,81,67,24,64,45,93,3,21,39,4,0,24,48,68,55,41,10,50,38,62,91,74,2,29,65,44,49,23,51,8,70,53,6,88,62,76,43,24,34,42,84,90,65,90,82,63,95,100,36,67,87,70,15,55,20,2,74,59,8,48,42,0,36,91,91,25,0,13,28,0,47,68,33,5,40,49,61,64,57,70,40,0,25,46,70,88,21,4,0,12,77,31,5,59,88,46,30,54,88,21,3,84,85,94,37,51,91,82,15,79,38,99,89,95,86,35,71,29,57,12,69,34,31,80,55,29,77,80,0,20,24,47,2,47,44,75,28,77,95,37,84,54,52,38,18,74,99,81,27,98,23,47,10,91,12,23,93,52,44,74,75,14,92,92,35,11,53,45,86,82,14,80,76,2,27,63,85,25,14,29,56,15,21,12,48,12,54,92,68,85,54,14,3,9,82,30,100,14,56,58,24,63,24,19,50,76,65,68,53,72,8,15,41,1,97,85,79,30,99,51,78,94,67,38,9,20,39,23,77,61,15,78,82,86,95,100,78,31,81,96,95,91,95,29,63,28,55,31,4,0,34,64,20,2,12,18,46,61,74,4,93,68,11,50,4,12,20,94,35,86,79,50,84,49,81,22,49,69,46,62,51,51,7,48,57,53,26,44,72,81,31,56,48,31,21,21,11,24,96,97,40,88,17,48,77,57,60,15,95,34,74,55,92,23,61,25,74,25,76,64,51,91,40,90,83,83,72,47,75,70,11,25,69,89,11,94,10,7],\"xaxis\":\"x\",\"yaxis\":\"y\",\"type\":\"histogram\"},{\"alignmentgroup\":\"True\",\"hovertemplate\":\"cliente_frequencia_compra=%{x}<extra></extra>\",\"legendgroup\":\"\",\"marker\":{\"color\":\"#636efa\"},\"name\":\"\",\"notched\":true,\"offsetgroup\":\"\",\"showlegend\":false,\"x\":[26,6,91,54,81,105,100,51,87,97,66,72,41,87,92,100,58,1,70,27,76,13,45,22,84,93,4,45,97,68,85,59,15,94,65,10,69,22,69,94,15,3,6,58,45,46,58,68,38,7,42,66,50,55,12,98,42,15,56,39,53,23,38,57,44,100,91,45,66,96,85,90,89,37,2,44,93,12,1,88,49,63,98,20,6,53,61,68,0,48,45,53,63,13,37,51,48,2,86,85,61,10,66,21,29,66,60,32,49,98,16,95,23,60,50,14,100,94,14,79,45,15,0,93,59,8,26,73,82,20,55,20,37,10,74,25,63,48,52,90,77,16,85,87,78,75,26,30,82,72,61,93,10,41,45,58,89,99,45,85,35,68,3,35,22,86,21,96,16,39,8,45,37,65,52,35,1,36,67,45,44,25,18,15,69,11,5,46,98,73,58,77,49,71,27,27,61,23,61,13,67,36,80,9,71,54,73,77,39,21,38,21,12,0,95,21,13,1,93,15,55,27,1,63,9,63,22,76,77,69,38,53,75,30,5,99,30,8,3,79,55,6,14,75,49,14,90,54,86,22,5,61,94,87,99,49,27,95,14,28,92,62,13,46,51,5,13,60,55,8,17,3,100,32,74,15,21,31,19,42,26,45,13,84,9,33,32,28,85,35,100,19,74,64,38,21,23,3,98,48,25,43,57,95,97,48,66,43,67,35,62,14,100,0,20,99,36,19,51,1,100,73,59,16,93,45,0,17,32,67,15,0,50,93,24,93,85,98,42,95,48,28,78,78,26,78,53,36,50,28,94,7,59,52,87,73,37,36,0,95,57,83,6,54,71,79,30,78,75,67,84,99,24,80,66,81,13,39,17,39,27,12,1,15,48,83,40,89,47,56,80,34,75,0,68,44,38,89,97,62,24,55,94,31,85,74,1,72,78,25,52,20,5,70,1,70,81,69,15,48,9,88,94,74,37,21,17,74,66,85,12,44,32,33,65,24,92,94,84,7,27,33,58,94,81,31,78,57,44,72,22,59,13,25,64,1,68,5,26,89,76,23,59,79,41,27,95,66,3,26,61,77,54,79,36,51,55,3,67,44,90,31,48,64,50,41,38,35,76,59,95,20,41,23,71,21,18,100,86,98,1,34,14,59,92,43,44,68,19,85,95,81,17,67,56,38,98,86,66,38,29,76,99,42,8,6,5,14,41,16,58,12,55,97,72,76,67,60,58,4,49,40,68,38,74,71,83,46,31,42,52,67,82,50,76,57,34,29,3,95,57,35,14,10,79,39,22,7,46,55,12,50,19,73,92,82,17,89,37,64,15,30,74,85,30,71,19,0,9,18,75,30,37,74,80,96,5,83,39,63,86,37,70,53,46,59,27,6,30,99,55,78,20,98,74,15,45,33,45,60,89,26,8,50,75,84,40,8,80,75,53,10,33,51,1,42,54,19,61,80,59,32,49,73,38,17,62,12,32,31,35,61,32,86,19,60,46,55,55,63,43,10,96,81,67,24,64,45,93,3,21,39,4,0,24,48,68,55,41,10,50,38,62,91,74,2,29,65,44,49,23,51,8,70,53,6,88,62,76,43,24,34,42,84,90,65,90,82,63,95,100,36,67,87,70,15,55,20,2,74,59,8,48,42,0,36,91,91,25,0,13,28,0,47,68,33,5,40,49,61,64,57,70,40,0,25,46,70,88,21,4,0,12,77,31,5,59,88,46,30,54,88,21,3,84,85,94,37,51,91,82,15,79,38,99,89,95,86,35,71,29,57,12,69,34,31,80,55,29,77,80,0,20,24,47,2,47,44,75,28,77,95,37,84,54,52,38,18,74,99,81,27,98,23,47,10,91,12,23,93,52,44,74,75,14,92,92,35,11,53,45,86,82,14,80,76,2,27,63,85,25,14,29,56,15,21,12,48,12,54,92,68,85,54,14,3,9,82,30,100,14,56,58,24,63,24,19,50,76,65,68,53,72,8,15,41,1,97,85,79,30,99,51,78,94,67,38,9,20,39,23,77,61,15,78,82,86,95,100,78,31,81,96,95,91,95,29,63,28,55,31,4,0,34,64,20,2,12,18,46,61,74,4,93,68,11,50,4,12,20,94,35,86,79,50,84,49,81,22,49,69,46,62,51,51,7,48,57,53,26,44,72,81,31,56,48,31,21,21,11,24,96,97,40,88,17,48,77,57,60,15,95,34,74,55,92,23,61,25,74,25,76,64,51,91,40,90,83,83,72,47,75,70,11,25,69,89,11,94,10,7],\"xaxis\":\"x2\",\"yaxis\":\"y2\",\"type\":\"box\"}],                        {\"template\":{\"data\":{\"bar\":[{\"error_x\":{\"color\":\"#2a3f5f\"},\"error_y\":{\"color\":\"#2a3f5f\"},\"marker\":{\"line\":{\"color\":\"#E5ECF6\",\"width\":0.5},\"pattern\":{\"fillmode\":\"overlay\",\"size\":10,\"solidity\":0.2}},\"type\":\"bar\"}],\"barpolar\":[{\"marker\":{\"line\":{\"color\":\"#E5ECF6\",\"width\":0.5},\"pattern\":{\"fillmode\":\"overlay\",\"size\":10,\"solidity\":0.2}},\"type\":\"barpolar\"}],\"carpet\":[{\"aaxis\":{\"endlinecolor\":\"#2a3f5f\",\"gridcolor\":\"white\",\"linecolor\":\"white\",\"minorgridcolor\":\"white\",\"startlinecolor\":\"#2a3f5f\"},\"baxis\":{\"endlinecolor\":\"#2a3f5f\",\"gridcolor\":\"white\",\"linecolor\":\"white\",\"minorgridcolor\":\"white\",\"startlinecolor\":\"#2a3f5f\"},\"type\":\"carpet\"}],\"choropleth\":[{\"colorbar\":{\"outlinewidth\":0,\"ticks\":\"\"},\"type\":\"choropleth\"}],\"contour\":[{\"colorbar\":{\"outlinewidth\":0,\"ticks\":\"\"},\"colorscale\":[[0.0,\"#0d0887\"],[0.1111111111111111,\"#46039f\"],[0.2222222222222222,\"#7201a8\"],[0.3333333333333333,\"#9c179e\"],[0.4444444444444444,\"#bd3786\"],[0.5555555555555556,\"#d8576b\"],[0.6666666666666666,\"#ed7953\"],[0.7777777777777778,\"#fb9f3a\"],[0.8888888888888888,\"#fdca26\"],[1.0,\"#f0f921\"]],\"type\":\"contour\"}],\"contourcarpet\":[{\"colorbar\":{\"outlinewidth\":0,\"ticks\":\"\"},\"type\":\"contourcarpet\"}],\"heatmap\":[{\"colorbar\":{\"outlinewidth\":0,\"ticks\":\"\"},\"colorscale\":[[0.0,\"#0d0887\"],[0.1111111111111111,\"#46039f\"],[0.2222222222222222,\"#7201a8\"],[0.3333333333333333,\"#9c179e\"],[0.4444444444444444,\"#bd3786\"],[0.5555555555555556,\"#d8576b\"],[0.6666666666666666,\"#ed7953\"],[0.7777777777777778,\"#fb9f3a\"],[0.8888888888888888,\"#fdca26\"],[1.0,\"#f0f921\"]],\"type\":\"heatmap\"}],\"heatmapgl\":[{\"colorbar\":{\"outlinewidth\":0,\"ticks\":\"\"},\"colorscale\":[[0.0,\"#0d0887\"],[0.1111111111111111,\"#46039f\"],[0.2222222222222222,\"#7201a8\"],[0.3333333333333333,\"#9c179e\"],[0.4444444444444444,\"#bd3786\"],[0.5555555555555556,\"#d8576b\"],[0.6666666666666666,\"#ed7953\"],[0.7777777777777778,\"#fb9f3a\"],[0.8888888888888888,\"#fdca26\"],[1.0,\"#f0f921\"]],\"type\":\"heatmapgl\"}],\"histogram\":[{\"marker\":{\"pattern\":{\"fillmode\":\"overlay\",\"size\":10,\"solidity\":0.2}},\"type\":\"histogram\"}],\"histogram2d\":[{\"colorbar\":{\"outlinewidth\":0,\"ticks\":\"\"},\"colorscale\":[[0.0,\"#0d0887\"],[0.1111111111111111,\"#46039f\"],[0.2222222222222222,\"#7201a8\"],[0.3333333333333333,\"#9c179e\"],[0.4444444444444444,\"#bd3786\"],[0.5555555555555556,\"#d8576b\"],[0.6666666666666666,\"#ed7953\"],[0.7777777777777778,\"#fb9f3a\"],[0.8888888888888888,\"#fdca26\"],[1.0,\"#f0f921\"]],\"type\":\"histogram2d\"}],\"histogram2dcontour\":[{\"colorbar\":{\"outlinewidth\":0,\"ticks\":\"\"},\"colorscale\":[[0.0,\"#0d0887\"],[0.1111111111111111,\"#46039f\"],[0.2222222222222222,\"#7201a8\"],[0.3333333333333333,\"#9c179e\"],[0.4444444444444444,\"#bd3786\"],[0.5555555555555556,\"#d8576b\"],[0.6666666666666666,\"#ed7953\"],[0.7777777777777778,\"#fb9f3a\"],[0.8888888888888888,\"#fdca26\"],[1.0,\"#f0f921\"]],\"type\":\"histogram2dcontour\"}],\"mesh3d\":[{\"colorbar\":{\"outlinewidth\":0,\"ticks\":\"\"},\"type\":\"mesh3d\"}],\"parcoords\":[{\"line\":{\"colorbar\":{\"outlinewidth\":0,\"ticks\":\"\"}},\"type\":\"parcoords\"}],\"pie\":[{\"automargin\":true,\"type\":\"pie\"}],\"scatter\":[{\"marker\":{\"colorbar\":{\"outlinewidth\":0,\"ticks\":\"\"}},\"type\":\"scatter\"}],\"scatter3d\":[{\"line\":{\"colorbar\":{\"outlinewidth\":0,\"ticks\":\"\"}},\"marker\":{\"colorbar\":{\"outlinewidth\":0,\"ticks\":\"\"}},\"type\":\"scatter3d\"}],\"scattercarpet\":[{\"marker\":{\"colorbar\":{\"outlinewidth\":0,\"ticks\":\"\"}},\"type\":\"scattercarpet\"}],\"scattergeo\":[{\"marker\":{\"colorbar\":{\"outlinewidth\":0,\"ticks\":\"\"}},\"type\":\"scattergeo\"}],\"scattergl\":[{\"marker\":{\"colorbar\":{\"outlinewidth\":0,\"ticks\":\"\"}},\"type\":\"scattergl\"}],\"scattermapbox\":[{\"marker\":{\"colorbar\":{\"outlinewidth\":0,\"ticks\":\"\"}},\"type\":\"scattermapbox\"}],\"scatterpolar\":[{\"marker\":{\"colorbar\":{\"outlinewidth\":0,\"ticks\":\"\"}},\"type\":\"scatterpolar\"}],\"scatterpolargl\":[{\"marker\":{\"colorbar\":{\"outlinewidth\":0,\"ticks\":\"\"}},\"type\":\"scatterpolargl\"}],\"scatterternary\":[{\"marker\":{\"colorbar\":{\"outlinewidth\":0,\"ticks\":\"\"}},\"type\":\"scatterternary\"}],\"surface\":[{\"colorbar\":{\"outlinewidth\":0,\"ticks\":\"\"},\"colorscale\":[[0.0,\"#0d0887\"],[0.1111111111111111,\"#46039f\"],[0.2222222222222222,\"#7201a8\"],[0.3333333333333333,\"#9c179e\"],[0.4444444444444444,\"#bd3786\"],[0.5555555555555556,\"#d8576b\"],[0.6666666666666666,\"#ed7953\"],[0.7777777777777778,\"#fb9f3a\"],[0.8888888888888888,\"#fdca26\"],[1.0,\"#f0f921\"]],\"type\":\"surface\"}],\"table\":[{\"cells\":{\"fill\":{\"color\":\"#EBF0F8\"},\"line\":{\"color\":\"white\"}},\"header\":{\"fill\":{\"color\":\"#C8D4E3\"},\"line\":{\"color\":\"white\"}},\"type\":\"table\"}]},\"layout\":{\"annotationdefaults\":{\"arrowcolor\":\"#2a3f5f\",\"arrowhead\":0,\"arrowwidth\":1},\"autotypenumbers\":\"strict\",\"coloraxis\":{\"colorbar\":{\"outlinewidth\":0,\"ticks\":\"\"}},\"colorscale\":{\"diverging\":[[0,\"#8e0152\"],[0.1,\"#c51b7d\"],[0.2,\"#de77ae\"],[0.3,\"#f1b6da\"],[0.4,\"#fde0ef\"],[0.5,\"#f7f7f7\"],[0.6,\"#e6f5d0\"],[0.7,\"#b8e186\"],[0.8,\"#7fbc41\"],[0.9,\"#4d9221\"],[1,\"#276419\"]],\"sequential\":[[0.0,\"#0d0887\"],[0.1111111111111111,\"#46039f\"],[0.2222222222222222,\"#7201a8\"],[0.3333333333333333,\"#9c179e\"],[0.4444444444444444,\"#bd3786\"],[0.5555555555555556,\"#d8576b\"],[0.6666666666666666,\"#ed7953\"],[0.7777777777777778,\"#fb9f3a\"],[0.8888888888888888,\"#fdca26\"],[1.0,\"#f0f921\"]],\"sequentialminus\":[[0.0,\"#0d0887\"],[0.1111111111111111,\"#46039f\"],[0.2222222222222222,\"#7201a8\"],[0.3333333333333333,\"#9c179e\"],[0.4444444444444444,\"#bd3786\"],[0.5555555555555556,\"#d8576b\"],[0.6666666666666666,\"#ed7953\"],[0.7777777777777778,\"#fb9f3a\"],[0.8888888888888888,\"#fdca26\"],[1.0,\"#f0f921\"]]},\"colorway\":[\"#636efa\",\"#EF553B\",\"#00cc96\",\"#ab63fa\",\"#FFA15A\",\"#19d3f3\",\"#FF6692\",\"#B6E880\",\"#FF97FF\",\"#FECB52\"],\"font\":{\"color\":\"#2a3f5f\"},\"geo\":{\"bgcolor\":\"white\",\"lakecolor\":\"white\",\"landcolor\":\"#E5ECF6\",\"showlakes\":true,\"showland\":true,\"subunitcolor\":\"white\"},\"hoverlabel\":{\"align\":\"left\"},\"hovermode\":\"closest\",\"mapbox\":{\"style\":\"light\"},\"paper_bgcolor\":\"white\",\"plot_bgcolor\":\"#E5ECF6\",\"polar\":{\"angularaxis\":{\"gridcolor\":\"white\",\"linecolor\":\"white\",\"ticks\":\"\"},\"bgcolor\":\"#E5ECF6\",\"radialaxis\":{\"gridcolor\":\"white\",\"linecolor\":\"white\",\"ticks\":\"\"}},\"scene\":{\"xaxis\":{\"backgroundcolor\":\"#E5ECF6\",\"gridcolor\":\"white\",\"gridwidth\":2,\"linecolor\":\"white\",\"showbackground\":true,\"ticks\":\"\",\"zerolinecolor\":\"white\"},\"yaxis\":{\"backgroundcolor\":\"#E5ECF6\",\"gridcolor\":\"white\",\"gridwidth\":2,\"linecolor\":\"white\",\"showbackground\":true,\"ticks\":\"\",\"zerolinecolor\":\"white\"},\"zaxis\":{\"backgroundcolor\":\"#E5ECF6\",\"gridcolor\":\"white\",\"gridwidth\":2,\"linecolor\":\"white\",\"showbackground\":true,\"ticks\":\"\",\"zerolinecolor\":\"white\"}},\"shapedefaults\":{\"line\":{\"color\":\"#2a3f5f\"}},\"ternary\":{\"aaxis\":{\"gridcolor\":\"white\",\"linecolor\":\"white\",\"ticks\":\"\"},\"baxis\":{\"gridcolor\":\"white\",\"linecolor\":\"white\",\"ticks\":\"\"},\"bgcolor\":\"#E5ECF6\",\"caxis\":{\"gridcolor\":\"white\",\"linecolor\":\"white\",\"ticks\":\"\"}},\"title\":{\"x\":0.05},\"xaxis\":{\"automargin\":true,\"gridcolor\":\"white\",\"linecolor\":\"white\",\"ticks\":\"\",\"title\":{\"standoff\":15},\"zerolinecolor\":\"white\",\"zerolinewidth\":2},\"yaxis\":{\"automargin\":true,\"gridcolor\":\"white\",\"linecolor\":\"white\",\"ticks\":\"\",\"title\":{\"standoff\":15},\"zerolinecolor\":\"white\",\"zerolinewidth\":2}}},\"xaxis\":{\"anchor\":\"y\",\"domain\":[0.0,1.0],\"title\":{\"text\":\"cliente_frequencia_compra\"}},\"yaxis\":{\"anchor\":\"x\",\"domain\":[0.0,0.8316],\"title\":{\"text\":\"probability density\"}},\"xaxis2\":{\"anchor\":\"y2\",\"domain\":[0.0,1.0],\"matches\":\"x\",\"showticklabels\":false,\"showgrid\":true},\"yaxis2\":{\"anchor\":\"x2\",\"domain\":[0.8416,1.0],\"matches\":\"y2\",\"showticklabels\":false,\"showline\":false,\"ticks\":\"\",\"showgrid\":false},\"legend\":{\"tracegroupgap\":0},\"margin\":{\"t\":60},\"barmode\":\"relative\"},                        {\"responsive\": true}                    ).then(function(){\n",
              "                            \n",
              "var gd = document.getElementById('de2aef87-a8c8-40b4-b0f8-93cd0ddcc832');\n",
              "var x = new MutationObserver(function (mutations, observer) {{\n",
              "        var display = window.getComputedStyle(gd).display;\n",
              "        if (!display || display === 'none') {{\n",
              "            console.log([gd, 'removed!']);\n",
              "            Plotly.purge(gd);\n",
              "            observer.disconnect();\n",
              "        }}\n",
              "}});\n",
              "\n",
              "// Listen for the removal of the full notebook cells\n",
              "var notebookContainer = gd.closest('#notebook-container');\n",
              "if (notebookContainer) {{\n",
              "    x.observe(notebookContainer, {childList: true});\n",
              "}}\n",
              "\n",
              "// Listen for the clearing of the current output cell\n",
              "var outputEl = gd.closest('.output');\n",
              "if (outputEl) {{\n",
              "    x.observe(outputEl, {childList: true});\n",
              "}}\n",
              "\n",
              "                        })                };                            </script>        </div>\n",
              "</body>\n",
              "</html>"
            ]
          },
          "metadata": {}
        }
      ]
    }
  ]
}