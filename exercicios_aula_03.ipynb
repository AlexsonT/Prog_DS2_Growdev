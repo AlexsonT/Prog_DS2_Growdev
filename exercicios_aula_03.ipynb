{
  "nbformat": 4,
  "nbformat_minor": 0,
  "metadata": {
    "colab": {
      "provenance": [],
      "collapsed_sections": [],
      "authorship_tag": "ABX9TyMXjDPJHVABFyHmH68Y4ccg",
      "include_colab_link": true
    },
    "kernelspec": {
      "name": "python3",
      "display_name": "Python 3"
    },
    "language_info": {
      "name": "python"
    }
  },
  "cells": [
    {
      "cell_type": "markdown",
      "metadata": {
        "id": "view-in-github",
        "colab_type": "text"
      },
      "source": [
        "<a href=\"https://colab.research.google.com/github/AlexsonT/Prog_DS2_Growdev/blob/main/exercicios_aula_03.ipynb\" target=\"_parent\"><img src=\"https://colab.research.google.com/assets/colab-badge.svg\" alt=\"Open In Colab\"/></a>"
      ]
    },
    {
      "cell_type": "markdown",
      "source": [
        "### O dataset [clientes.csv](https://drive.google.com/file/d/1I4987Fvr0dy6DxE6-medv3MhbTWFyzjW/view) possui dados sobre clientes de uma determinada loja.Porém esse dataset possui alguns problemas e devem ser tratados antes de quaisquer processamentos. Você deve:\n",
        "  ###### 1) Realizar a limpeza desses dados, sempre analisando qual a melhor decisão a ser tomada em cada situação de acordo com seu julgamento.\n",
        "  ###### 2) Faça anotações do porquê de cada ação tomada para tratar a base de dados, explicando a decisão.\n",
        "  ###### 3) Procure explicar quais as vantagens e/ou desvantagens de suas ações sobre o dataset.  \n",
        "  \n",
        "  \n",
        "**Tome como base as funções `info()` e `describe()` e os processamentos de:**\n",
        "\n",
        "● Duplicações  \n",
        "● Inconsistências  \n",
        "● Tipagem de dados  \n",
        "● Outliers  \n",
        "● Colunas desnecessárias  \n",
        "● Valores faltantes  "
      ],
      "metadata": {
        "id": "5HFMfO2b8rsU"
      }
    },
    {
      "cell_type": "markdown",
      "source": [
        "## Imports"
      ],
      "metadata": {
        "id": "unEc6T4__FAk"
      }
    },
    {
      "cell_type": "code",
      "execution_count": 39,
      "metadata": {
        "id": "CHd5T0fv8oTn"
      },
      "outputs": [],
      "source": [
        "import pandas as pd\n",
        "import numpy as np  "
      ]
    },
    {
      "cell_type": "markdown",
      "source": [
        "## Open Dataset"
      ],
      "metadata": {
        "id": "xiVtKiWT_I70"
      }
    },
    {
      "cell_type": "code",
      "source": [
        "df = pd.read_csv('clientes.csv')"
      ],
      "metadata": {
        "id": "vOtnIxDJ_O3K"
      },
      "execution_count": 40,
      "outputs": []
    },
    {
      "cell_type": "markdown",
      "source": [
        "## Análise dos Dados"
      ],
      "metadata": {
        "id": "8O4JJwnX_OJq"
      }
    },
    {
      "cell_type": "markdown",
      "source": [
        "###### **Análise dos primeiros e dos últimos 10 dados do dataframe.**\n",
        "* Com essa análise já é possível observar que, nesse caso, temos uma idade fora do padrão (acompanhada da palavra \"anos\").\n",
        "\n",
        "* Também observa-se que o cpf está fora do padrão numérico e que contém muitos dígitos. \n",
        "\n",
        "* Ainda nota-se que temos no dataset uma coluna com nome completo e outra coluna com nome e sobrenome separado, algo que precisaria ser analisado levando em conta perante as necessidades de uso do dataframe, pois por conter as mesmas informações podem estar apenas utiliozando memória em vão."
      ],
      "metadata": {
        "id": "BLL9Smn8__EH"
      }
    },
    {
      "cell_type": "code",
      "source": [
        "df.head(10)"
      ],
      "metadata": {
        "colab": {
          "base_uri": "https://localhost:8080/",
          "height": 363
        },
        "id": "zDRmwtfR_Umd",
        "outputId": "f57bf1bb-aaaf-402a-92b4-2acfa5157178"
      },
      "execution_count": 41,
      "outputs": [
        {
          "output_type": "execute_result",
          "data": {
            "text/plain": [
              "  cliente_nome_completo   cliente_cpf cliente_idade  \\\n",
              "0      Fernando Andrade  2.946012e+10            51   \n",
              "1       Vanessa Andrade  7.428947e+10            47   \n",
              "2        Maria Barcelos  9.301411e+10       23 anos   \n",
              "3      Vanessa Carvalho  2.482485e+10            30   \n",
              "4         Ana Rodrigues  5.314509e+10            44   \n",
              "5        Marcia Antunes  3.905199e+10            40   \n",
              "6       Andre Rodrigues  2.712804e+10            31   \n",
              "7     Claudia Rodrigues  9.585728e+10            56   \n",
              "8       Pedro Rodrigues  2.590338e+10            58   \n",
              "9         Andre Antunes  6.481352e+10            48   \n",
              "\n",
              "   cliente_frequencia_compra cliente_nome cliente_sobrenome  \n",
              "0                         26     Fernando           Andrade  \n",
              "1                          6      Vanessa           Andrade  \n",
              "2                         91        Maria          Barcelos  \n",
              "3                         54      Vanessa          Carvalho  \n",
              "4                         81          Ana         Rodrigues  \n",
              "5                        105       Marcia           Antunes  \n",
              "6                        100        Andre         Rodrigues  \n",
              "7                         51      Claudia         Rodrigues  \n",
              "8                         87        Pedro         Rodrigues  \n",
              "9                         97        Andre           Antunes  "
            ],
            "text/html": [
              "\n",
              "  <div id=\"df-9417d93f-19fd-4faa-bdd6-0eee2f39a220\">\n",
              "    <div class=\"colab-df-container\">\n",
              "      <div>\n",
              "<style scoped>\n",
              "    .dataframe tbody tr th:only-of-type {\n",
              "        vertical-align: middle;\n",
              "    }\n",
              "\n",
              "    .dataframe tbody tr th {\n",
              "        vertical-align: top;\n",
              "    }\n",
              "\n",
              "    .dataframe thead th {\n",
              "        text-align: right;\n",
              "    }\n",
              "</style>\n",
              "<table border=\"1\" class=\"dataframe\">\n",
              "  <thead>\n",
              "    <tr style=\"text-align: right;\">\n",
              "      <th></th>\n",
              "      <th>cliente_nome_completo</th>\n",
              "      <th>cliente_cpf</th>\n",
              "      <th>cliente_idade</th>\n",
              "      <th>cliente_frequencia_compra</th>\n",
              "      <th>cliente_nome</th>\n",
              "      <th>cliente_sobrenome</th>\n",
              "    </tr>\n",
              "  </thead>\n",
              "  <tbody>\n",
              "    <tr>\n",
              "      <th>0</th>\n",
              "      <td>Fernando Andrade</td>\n",
              "      <td>2.946012e+10</td>\n",
              "      <td>51</td>\n",
              "      <td>26</td>\n",
              "      <td>Fernando</td>\n",
              "      <td>Andrade</td>\n",
              "    </tr>\n",
              "    <tr>\n",
              "      <th>1</th>\n",
              "      <td>Vanessa Andrade</td>\n",
              "      <td>7.428947e+10</td>\n",
              "      <td>47</td>\n",
              "      <td>6</td>\n",
              "      <td>Vanessa</td>\n",
              "      <td>Andrade</td>\n",
              "    </tr>\n",
              "    <tr>\n",
              "      <th>2</th>\n",
              "      <td>Maria Barcelos</td>\n",
              "      <td>9.301411e+10</td>\n",
              "      <td>23 anos</td>\n",
              "      <td>91</td>\n",
              "      <td>Maria</td>\n",
              "      <td>Barcelos</td>\n",
              "    </tr>\n",
              "    <tr>\n",
              "      <th>3</th>\n",
              "      <td>Vanessa Carvalho</td>\n",
              "      <td>2.482485e+10</td>\n",
              "      <td>30</td>\n",
              "      <td>54</td>\n",
              "      <td>Vanessa</td>\n",
              "      <td>Carvalho</td>\n",
              "    </tr>\n",
              "    <tr>\n",
              "      <th>4</th>\n",
              "      <td>Ana Rodrigues</td>\n",
              "      <td>5.314509e+10</td>\n",
              "      <td>44</td>\n",
              "      <td>81</td>\n",
              "      <td>Ana</td>\n",
              "      <td>Rodrigues</td>\n",
              "    </tr>\n",
              "    <tr>\n",
              "      <th>5</th>\n",
              "      <td>Marcia Antunes</td>\n",
              "      <td>3.905199e+10</td>\n",
              "      <td>40</td>\n",
              "      <td>105</td>\n",
              "      <td>Marcia</td>\n",
              "      <td>Antunes</td>\n",
              "    </tr>\n",
              "    <tr>\n",
              "      <th>6</th>\n",
              "      <td>Andre Rodrigues</td>\n",
              "      <td>2.712804e+10</td>\n",
              "      <td>31</td>\n",
              "      <td>100</td>\n",
              "      <td>Andre</td>\n",
              "      <td>Rodrigues</td>\n",
              "    </tr>\n",
              "    <tr>\n",
              "      <th>7</th>\n",
              "      <td>Claudia Rodrigues</td>\n",
              "      <td>9.585728e+10</td>\n",
              "      <td>56</td>\n",
              "      <td>51</td>\n",
              "      <td>Claudia</td>\n",
              "      <td>Rodrigues</td>\n",
              "    </tr>\n",
              "    <tr>\n",
              "      <th>8</th>\n",
              "      <td>Pedro Rodrigues</td>\n",
              "      <td>2.590338e+10</td>\n",
              "      <td>58</td>\n",
              "      <td>87</td>\n",
              "      <td>Pedro</td>\n",
              "      <td>Rodrigues</td>\n",
              "    </tr>\n",
              "    <tr>\n",
              "      <th>9</th>\n",
              "      <td>Andre Antunes</td>\n",
              "      <td>6.481352e+10</td>\n",
              "      <td>48</td>\n",
              "      <td>97</td>\n",
              "      <td>Andre</td>\n",
              "      <td>Antunes</td>\n",
              "    </tr>\n",
              "  </tbody>\n",
              "</table>\n",
              "</div>\n",
              "      <button class=\"colab-df-convert\" onclick=\"convertToInteractive('df-9417d93f-19fd-4faa-bdd6-0eee2f39a220')\"\n",
              "              title=\"Convert this dataframe to an interactive table.\"\n",
              "              style=\"display:none;\">\n",
              "        \n",
              "  <svg xmlns=\"http://www.w3.org/2000/svg\" height=\"24px\"viewBox=\"0 0 24 24\"\n",
              "       width=\"24px\">\n",
              "    <path d=\"M0 0h24v24H0V0z\" fill=\"none\"/>\n",
              "    <path d=\"M18.56 5.44l.94 2.06.94-2.06 2.06-.94-2.06-.94-.94-2.06-.94 2.06-2.06.94zm-11 1L8.5 8.5l.94-2.06 2.06-.94-2.06-.94L8.5 2.5l-.94 2.06-2.06.94zm10 10l.94 2.06.94-2.06 2.06-.94-2.06-.94-.94-2.06-.94 2.06-2.06.94z\"/><path d=\"M17.41 7.96l-1.37-1.37c-.4-.4-.92-.59-1.43-.59-.52 0-1.04.2-1.43.59L10.3 9.45l-7.72 7.72c-.78.78-.78 2.05 0 2.83L4 21.41c.39.39.9.59 1.41.59.51 0 1.02-.2 1.41-.59l7.78-7.78 2.81-2.81c.8-.78.8-2.07 0-2.86zM5.41 20L4 18.59l7.72-7.72 1.47 1.35L5.41 20z\"/>\n",
              "  </svg>\n",
              "      </button>\n",
              "      \n",
              "  <style>\n",
              "    .colab-df-container {\n",
              "      display:flex;\n",
              "      flex-wrap:wrap;\n",
              "      gap: 12px;\n",
              "    }\n",
              "\n",
              "    .colab-df-convert {\n",
              "      background-color: #E8F0FE;\n",
              "      border: none;\n",
              "      border-radius: 50%;\n",
              "      cursor: pointer;\n",
              "      display: none;\n",
              "      fill: #1967D2;\n",
              "      height: 32px;\n",
              "      padding: 0 0 0 0;\n",
              "      width: 32px;\n",
              "    }\n",
              "\n",
              "    .colab-df-convert:hover {\n",
              "      background-color: #E2EBFA;\n",
              "      box-shadow: 0px 1px 2px rgba(60, 64, 67, 0.3), 0px 1px 3px 1px rgba(60, 64, 67, 0.15);\n",
              "      fill: #174EA6;\n",
              "    }\n",
              "\n",
              "    [theme=dark] .colab-df-convert {\n",
              "      background-color: #3B4455;\n",
              "      fill: #D2E3FC;\n",
              "    }\n",
              "\n",
              "    [theme=dark] .colab-df-convert:hover {\n",
              "      background-color: #434B5C;\n",
              "      box-shadow: 0px 1px 3px 1px rgba(0, 0, 0, 0.15);\n",
              "      filter: drop-shadow(0px 1px 2px rgba(0, 0, 0, 0.3));\n",
              "      fill: #FFFFFF;\n",
              "    }\n",
              "  </style>\n",
              "\n",
              "      <script>\n",
              "        const buttonEl =\n",
              "          document.querySelector('#df-9417d93f-19fd-4faa-bdd6-0eee2f39a220 button.colab-df-convert');\n",
              "        buttonEl.style.display =\n",
              "          google.colab.kernel.accessAllowed ? 'block' : 'none';\n",
              "\n",
              "        async function convertToInteractive(key) {\n",
              "          const element = document.querySelector('#df-9417d93f-19fd-4faa-bdd6-0eee2f39a220');\n",
              "          const dataTable =\n",
              "            await google.colab.kernel.invokeFunction('convertToInteractive',\n",
              "                                                     [key], {});\n",
              "          if (!dataTable) return;\n",
              "\n",
              "          const docLinkHtml = 'Like what you see? Visit the ' +\n",
              "            '<a target=\"_blank\" href=https://colab.research.google.com/notebooks/data_table.ipynb>data table notebook</a>'\n",
              "            + ' to learn more about interactive tables.';\n",
              "          element.innerHTML = '';\n",
              "          dataTable['output_type'] = 'display_data';\n",
              "          await google.colab.output.renderOutput(dataTable, element);\n",
              "          const docLink = document.createElement('div');\n",
              "          docLink.innerHTML = docLinkHtml;\n",
              "          element.appendChild(docLink);\n",
              "        }\n",
              "      </script>\n",
              "    </div>\n",
              "  </div>\n",
              "  "
            ]
          },
          "metadata": {},
          "execution_count": 41
        }
      ]
    },
    {
      "cell_type": "code",
      "source": [
        "df.tail(10)"
      ],
      "metadata": {
        "colab": {
          "base_uri": "https://localhost:8080/",
          "height": 363
        },
        "id": "JV3HX1PQ_4Ei",
        "outputId": "f77c6c00-784c-4fe2-b7fb-bed51480cd6a"
      },
      "execution_count": 42,
      "outputs": [
        {
          "output_type": "execute_result",
          "data": {
            "text/plain": [
              "     cliente_nome_completo   cliente_cpf cliente_idade  \\\n",
              "992        Fernando Santos  9.185593e+10            37   \n",
              "993          Maria Andrade  5.589949e+10            36   \n",
              "994       Marcia Fernandes  1.591411e+10            18   \n",
              "995            Osmar Rocha  9.373069e+10            36   \n",
              "996          Claudia Silva  6.602334e+10            54   \n",
              "997          Vanessa Nunes  7.988690e+10            43   \n",
              "998      Claudia Fernandes  6.854702e+10            58   \n",
              "999       Valter Fernandes  2.490824e+10            51   \n",
              "1000         Leonardo Melo  8.286605e+10            20   \n",
              "1001            Ana Santos  8.457643e+10            51   \n",
              "\n",
              "      cliente_frequencia_compra cliente_nome cliente_sobrenome  \n",
              "992                          75     Fernando            Santos  \n",
              "993                          70        Maria           Andrade  \n",
              "994                          11       Marcia         Fernandes  \n",
              "995                          25        Osmar             Rocha  \n",
              "996                          69      Claudia             Silva  \n",
              "997                          89      Vanessa             Nunes  \n",
              "998                          11      Claudia         Fernandes  \n",
              "999                          94       Valter         Fernandes  \n",
              "1000                         10     Leonardo              Melo  \n",
              "1001                          7          Ana            Santos  "
            ],
            "text/html": [
              "\n",
              "  <div id=\"df-ac715bad-5867-437b-8e49-a37e86e3083d\">\n",
              "    <div class=\"colab-df-container\">\n",
              "      <div>\n",
              "<style scoped>\n",
              "    .dataframe tbody tr th:only-of-type {\n",
              "        vertical-align: middle;\n",
              "    }\n",
              "\n",
              "    .dataframe tbody tr th {\n",
              "        vertical-align: top;\n",
              "    }\n",
              "\n",
              "    .dataframe thead th {\n",
              "        text-align: right;\n",
              "    }\n",
              "</style>\n",
              "<table border=\"1\" class=\"dataframe\">\n",
              "  <thead>\n",
              "    <tr style=\"text-align: right;\">\n",
              "      <th></th>\n",
              "      <th>cliente_nome_completo</th>\n",
              "      <th>cliente_cpf</th>\n",
              "      <th>cliente_idade</th>\n",
              "      <th>cliente_frequencia_compra</th>\n",
              "      <th>cliente_nome</th>\n",
              "      <th>cliente_sobrenome</th>\n",
              "    </tr>\n",
              "  </thead>\n",
              "  <tbody>\n",
              "    <tr>\n",
              "      <th>992</th>\n",
              "      <td>Fernando Santos</td>\n",
              "      <td>9.185593e+10</td>\n",
              "      <td>37</td>\n",
              "      <td>75</td>\n",
              "      <td>Fernando</td>\n",
              "      <td>Santos</td>\n",
              "    </tr>\n",
              "    <tr>\n",
              "      <th>993</th>\n",
              "      <td>Maria Andrade</td>\n",
              "      <td>5.589949e+10</td>\n",
              "      <td>36</td>\n",
              "      <td>70</td>\n",
              "      <td>Maria</td>\n",
              "      <td>Andrade</td>\n",
              "    </tr>\n",
              "    <tr>\n",
              "      <th>994</th>\n",
              "      <td>Marcia Fernandes</td>\n",
              "      <td>1.591411e+10</td>\n",
              "      <td>18</td>\n",
              "      <td>11</td>\n",
              "      <td>Marcia</td>\n",
              "      <td>Fernandes</td>\n",
              "    </tr>\n",
              "    <tr>\n",
              "      <th>995</th>\n",
              "      <td>Osmar Rocha</td>\n",
              "      <td>9.373069e+10</td>\n",
              "      <td>36</td>\n",
              "      <td>25</td>\n",
              "      <td>Osmar</td>\n",
              "      <td>Rocha</td>\n",
              "    </tr>\n",
              "    <tr>\n",
              "      <th>996</th>\n",
              "      <td>Claudia Silva</td>\n",
              "      <td>6.602334e+10</td>\n",
              "      <td>54</td>\n",
              "      <td>69</td>\n",
              "      <td>Claudia</td>\n",
              "      <td>Silva</td>\n",
              "    </tr>\n",
              "    <tr>\n",
              "      <th>997</th>\n",
              "      <td>Vanessa Nunes</td>\n",
              "      <td>7.988690e+10</td>\n",
              "      <td>43</td>\n",
              "      <td>89</td>\n",
              "      <td>Vanessa</td>\n",
              "      <td>Nunes</td>\n",
              "    </tr>\n",
              "    <tr>\n",
              "      <th>998</th>\n",
              "      <td>Claudia Fernandes</td>\n",
              "      <td>6.854702e+10</td>\n",
              "      <td>58</td>\n",
              "      <td>11</td>\n",
              "      <td>Claudia</td>\n",
              "      <td>Fernandes</td>\n",
              "    </tr>\n",
              "    <tr>\n",
              "      <th>999</th>\n",
              "      <td>Valter Fernandes</td>\n",
              "      <td>2.490824e+10</td>\n",
              "      <td>51</td>\n",
              "      <td>94</td>\n",
              "      <td>Valter</td>\n",
              "      <td>Fernandes</td>\n",
              "    </tr>\n",
              "    <tr>\n",
              "      <th>1000</th>\n",
              "      <td>Leonardo Melo</td>\n",
              "      <td>8.286605e+10</td>\n",
              "      <td>20</td>\n",
              "      <td>10</td>\n",
              "      <td>Leonardo</td>\n",
              "      <td>Melo</td>\n",
              "    </tr>\n",
              "    <tr>\n",
              "      <th>1001</th>\n",
              "      <td>Ana Santos</td>\n",
              "      <td>8.457643e+10</td>\n",
              "      <td>51</td>\n",
              "      <td>7</td>\n",
              "      <td>Ana</td>\n",
              "      <td>Santos</td>\n",
              "    </tr>\n",
              "  </tbody>\n",
              "</table>\n",
              "</div>\n",
              "      <button class=\"colab-df-convert\" onclick=\"convertToInteractive('df-ac715bad-5867-437b-8e49-a37e86e3083d')\"\n",
              "              title=\"Convert this dataframe to an interactive table.\"\n",
              "              style=\"display:none;\">\n",
              "        \n",
              "  <svg xmlns=\"http://www.w3.org/2000/svg\" height=\"24px\"viewBox=\"0 0 24 24\"\n",
              "       width=\"24px\">\n",
              "    <path d=\"M0 0h24v24H0V0z\" fill=\"none\"/>\n",
              "    <path d=\"M18.56 5.44l.94 2.06.94-2.06 2.06-.94-2.06-.94-.94-2.06-.94 2.06-2.06.94zm-11 1L8.5 8.5l.94-2.06 2.06-.94-2.06-.94L8.5 2.5l-.94 2.06-2.06.94zm10 10l.94 2.06.94-2.06 2.06-.94-2.06-.94-.94-2.06-.94 2.06-2.06.94z\"/><path d=\"M17.41 7.96l-1.37-1.37c-.4-.4-.92-.59-1.43-.59-.52 0-1.04.2-1.43.59L10.3 9.45l-7.72 7.72c-.78.78-.78 2.05 0 2.83L4 21.41c.39.39.9.59 1.41.59.51 0 1.02-.2 1.41-.59l7.78-7.78 2.81-2.81c.8-.78.8-2.07 0-2.86zM5.41 20L4 18.59l7.72-7.72 1.47 1.35L5.41 20z\"/>\n",
              "  </svg>\n",
              "      </button>\n",
              "      \n",
              "  <style>\n",
              "    .colab-df-container {\n",
              "      display:flex;\n",
              "      flex-wrap:wrap;\n",
              "      gap: 12px;\n",
              "    }\n",
              "\n",
              "    .colab-df-convert {\n",
              "      background-color: #E8F0FE;\n",
              "      border: none;\n",
              "      border-radius: 50%;\n",
              "      cursor: pointer;\n",
              "      display: none;\n",
              "      fill: #1967D2;\n",
              "      height: 32px;\n",
              "      padding: 0 0 0 0;\n",
              "      width: 32px;\n",
              "    }\n",
              "\n",
              "    .colab-df-convert:hover {\n",
              "      background-color: #E2EBFA;\n",
              "      box-shadow: 0px 1px 2px rgba(60, 64, 67, 0.3), 0px 1px 3px 1px rgba(60, 64, 67, 0.15);\n",
              "      fill: #174EA6;\n",
              "    }\n",
              "\n",
              "    [theme=dark] .colab-df-convert {\n",
              "      background-color: #3B4455;\n",
              "      fill: #D2E3FC;\n",
              "    }\n",
              "\n",
              "    [theme=dark] .colab-df-convert:hover {\n",
              "      background-color: #434B5C;\n",
              "      box-shadow: 0px 1px 3px 1px rgba(0, 0, 0, 0.15);\n",
              "      filter: drop-shadow(0px 1px 2px rgba(0, 0, 0, 0.3));\n",
              "      fill: #FFFFFF;\n",
              "    }\n",
              "  </style>\n",
              "\n",
              "      <script>\n",
              "        const buttonEl =\n",
              "          document.querySelector('#df-ac715bad-5867-437b-8e49-a37e86e3083d button.colab-df-convert');\n",
              "        buttonEl.style.display =\n",
              "          google.colab.kernel.accessAllowed ? 'block' : 'none';\n",
              "\n",
              "        async function convertToInteractive(key) {\n",
              "          const element = document.querySelector('#df-ac715bad-5867-437b-8e49-a37e86e3083d');\n",
              "          const dataTable =\n",
              "            await google.colab.kernel.invokeFunction('convertToInteractive',\n",
              "                                                     [key], {});\n",
              "          if (!dataTable) return;\n",
              "\n",
              "          const docLinkHtml = 'Like what you see? Visit the ' +\n",
              "            '<a target=\"_blank\" href=https://colab.research.google.com/notebooks/data_table.ipynb>data table notebook</a>'\n",
              "            + ' to learn more about interactive tables.';\n",
              "          element.innerHTML = '';\n",
              "          dataTable['output_type'] = 'display_data';\n",
              "          await google.colab.output.renderOutput(dataTable, element);\n",
              "          const docLink = document.createElement('div');\n",
              "          docLink.innerHTML = docLinkHtml;\n",
              "          element.appendChild(docLink);\n",
              "        }\n",
              "      </script>\n",
              "    </div>\n",
              "  </div>\n",
              "  "
            ]
          },
          "metadata": {},
          "execution_count": 42
        }
      ]
    },
    {
      "cell_type": "markdown",
      "source": [
        "###### **Verificando informações básicas com describe e info**.  \n",
        "\n",
        "* Devido ao describe analisar colunas numéricas, podemos observar que temos apenas duas colunas que podem ser analisadas com esta função, isso ocorre porque as demais colunas provavelmente contém números e alguma informação com texto no mesmo dado. Essa informação também fica exposta na função info onde temos um item float64, um item int64 e os demais dados como object.   \n",
        "* Também é notório na função describe que a coluna \"cliente_frequencia_compra\", possui um mínimo negativo, o que não faz muito sentido.\n",
        "* Outro ponto que fica evidente na função info é que, em algumas colunas, temos itens não nulos com quantidade inferior ao total de dados, o que significa que temos dados não preenchidos nestas colunas. \n",
        "* Ainda é possível observar que na coluna \"cliente_frequencia_compra\" temos um desvio padrão considerado alto o que nos permite avaliar que a amostra é um tanto quanto dispera em seus dados. \n",
        "\n"
      ],
      "metadata": {
        "id": "vo8ldaK4KSMA"
      }
    },
    {
      "cell_type": "code",
      "source": [
        "df.info()"
      ],
      "metadata": {
        "colab": {
          "base_uri": "https://localhost:8080/"
        },
        "id": "RHS0WY-M_vlu",
        "outputId": "36cdcfde-3099-46f6-848f-e875ff1e128d"
      },
      "execution_count": 43,
      "outputs": [
        {
          "output_type": "stream",
          "name": "stdout",
          "text": [
            "<class 'pandas.core.frame.DataFrame'>\n",
            "RangeIndex: 1002 entries, 0 to 1001\n",
            "Data columns (total 6 columns):\n",
            " #   Column                     Non-Null Count  Dtype  \n",
            "---  ------                     --------------  -----  \n",
            " 0   cliente_nome_completo      1002 non-null   object \n",
            " 1   cliente_cpf                1000 non-null   float64\n",
            " 2   cliente_idade              1002 non-null   object \n",
            " 3   cliente_frequencia_compra  1002 non-null   int64  \n",
            " 4   cliente_nome               1002 non-null   object \n",
            " 5   cliente_sobrenome          1001 non-null   object \n",
            "dtypes: float64(1), int64(1), object(4)\n",
            "memory usage: 47.1+ KB\n"
          ]
        }
      ]
    },
    {
      "cell_type": "code",
      "source": [
        "df.describe()"
      ],
      "metadata": {
        "colab": {
          "base_uri": "https://localhost:8080/",
          "height": 300
        },
        "id": "C8qDFlN5J5Qb",
        "outputId": "e6d1be8d-ea8a-4b69-fb6e-1ce5c1d6da8b"
      },
      "execution_count": 44,
      "outputs": [
        {
          "output_type": "execute_result",
          "data": {
            "text/plain": [
              "        cliente_cpf  cliente_frequencia_compra\n",
              "count  1.000000e+03                1002.000000\n",
              "mean   4.971137e+10                  49.941118\n",
              "std    2.874325e+10                  29.426274\n",
              "min    2.277302e+08                  -5.000000\n",
              "25%    2.488739e+10                  24.000000\n",
              "50%    4.841568e+10                  50.000000\n",
              "75%    7.459796e+10                  75.000000\n",
              "max    9.988003e+10                 150.000000"
            ],
            "text/html": [
              "\n",
              "  <div id=\"df-525f4687-fb91-45a9-bf38-242bdf1d8f2e\">\n",
              "    <div class=\"colab-df-container\">\n",
              "      <div>\n",
              "<style scoped>\n",
              "    .dataframe tbody tr th:only-of-type {\n",
              "        vertical-align: middle;\n",
              "    }\n",
              "\n",
              "    .dataframe tbody tr th {\n",
              "        vertical-align: top;\n",
              "    }\n",
              "\n",
              "    .dataframe thead th {\n",
              "        text-align: right;\n",
              "    }\n",
              "</style>\n",
              "<table border=\"1\" class=\"dataframe\">\n",
              "  <thead>\n",
              "    <tr style=\"text-align: right;\">\n",
              "      <th></th>\n",
              "      <th>cliente_cpf</th>\n",
              "      <th>cliente_frequencia_compra</th>\n",
              "    </tr>\n",
              "  </thead>\n",
              "  <tbody>\n",
              "    <tr>\n",
              "      <th>count</th>\n",
              "      <td>1.000000e+03</td>\n",
              "      <td>1002.000000</td>\n",
              "    </tr>\n",
              "    <tr>\n",
              "      <th>mean</th>\n",
              "      <td>4.971137e+10</td>\n",
              "      <td>49.941118</td>\n",
              "    </tr>\n",
              "    <tr>\n",
              "      <th>std</th>\n",
              "      <td>2.874325e+10</td>\n",
              "      <td>29.426274</td>\n",
              "    </tr>\n",
              "    <tr>\n",
              "      <th>min</th>\n",
              "      <td>2.277302e+08</td>\n",
              "      <td>-5.000000</td>\n",
              "    </tr>\n",
              "    <tr>\n",
              "      <th>25%</th>\n",
              "      <td>2.488739e+10</td>\n",
              "      <td>24.000000</td>\n",
              "    </tr>\n",
              "    <tr>\n",
              "      <th>50%</th>\n",
              "      <td>4.841568e+10</td>\n",
              "      <td>50.000000</td>\n",
              "    </tr>\n",
              "    <tr>\n",
              "      <th>75%</th>\n",
              "      <td>7.459796e+10</td>\n",
              "      <td>75.000000</td>\n",
              "    </tr>\n",
              "    <tr>\n",
              "      <th>max</th>\n",
              "      <td>9.988003e+10</td>\n",
              "      <td>150.000000</td>\n",
              "    </tr>\n",
              "  </tbody>\n",
              "</table>\n",
              "</div>\n",
              "      <button class=\"colab-df-convert\" onclick=\"convertToInteractive('df-525f4687-fb91-45a9-bf38-242bdf1d8f2e')\"\n",
              "              title=\"Convert this dataframe to an interactive table.\"\n",
              "              style=\"display:none;\">\n",
              "        \n",
              "  <svg xmlns=\"http://www.w3.org/2000/svg\" height=\"24px\"viewBox=\"0 0 24 24\"\n",
              "       width=\"24px\">\n",
              "    <path d=\"M0 0h24v24H0V0z\" fill=\"none\"/>\n",
              "    <path d=\"M18.56 5.44l.94 2.06.94-2.06 2.06-.94-2.06-.94-.94-2.06-.94 2.06-2.06.94zm-11 1L8.5 8.5l.94-2.06 2.06-.94-2.06-.94L8.5 2.5l-.94 2.06-2.06.94zm10 10l.94 2.06.94-2.06 2.06-.94-2.06-.94-.94-2.06-.94 2.06-2.06.94z\"/><path d=\"M17.41 7.96l-1.37-1.37c-.4-.4-.92-.59-1.43-.59-.52 0-1.04.2-1.43.59L10.3 9.45l-7.72 7.72c-.78.78-.78 2.05 0 2.83L4 21.41c.39.39.9.59 1.41.59.51 0 1.02-.2 1.41-.59l7.78-7.78 2.81-2.81c.8-.78.8-2.07 0-2.86zM5.41 20L4 18.59l7.72-7.72 1.47 1.35L5.41 20z\"/>\n",
              "  </svg>\n",
              "      </button>\n",
              "      \n",
              "  <style>\n",
              "    .colab-df-container {\n",
              "      display:flex;\n",
              "      flex-wrap:wrap;\n",
              "      gap: 12px;\n",
              "    }\n",
              "\n",
              "    .colab-df-convert {\n",
              "      background-color: #E8F0FE;\n",
              "      border: none;\n",
              "      border-radius: 50%;\n",
              "      cursor: pointer;\n",
              "      display: none;\n",
              "      fill: #1967D2;\n",
              "      height: 32px;\n",
              "      padding: 0 0 0 0;\n",
              "      width: 32px;\n",
              "    }\n",
              "\n",
              "    .colab-df-convert:hover {\n",
              "      background-color: #E2EBFA;\n",
              "      box-shadow: 0px 1px 2px rgba(60, 64, 67, 0.3), 0px 1px 3px 1px rgba(60, 64, 67, 0.15);\n",
              "      fill: #174EA6;\n",
              "    }\n",
              "\n",
              "    [theme=dark] .colab-df-convert {\n",
              "      background-color: #3B4455;\n",
              "      fill: #D2E3FC;\n",
              "    }\n",
              "\n",
              "    [theme=dark] .colab-df-convert:hover {\n",
              "      background-color: #434B5C;\n",
              "      box-shadow: 0px 1px 3px 1px rgba(0, 0, 0, 0.15);\n",
              "      filter: drop-shadow(0px 1px 2px rgba(0, 0, 0, 0.3));\n",
              "      fill: #FFFFFF;\n",
              "    }\n",
              "  </style>\n",
              "\n",
              "      <script>\n",
              "        const buttonEl =\n",
              "          document.querySelector('#df-525f4687-fb91-45a9-bf38-242bdf1d8f2e button.colab-df-convert');\n",
              "        buttonEl.style.display =\n",
              "          google.colab.kernel.accessAllowed ? 'block' : 'none';\n",
              "\n",
              "        async function convertToInteractive(key) {\n",
              "          const element = document.querySelector('#df-525f4687-fb91-45a9-bf38-242bdf1d8f2e');\n",
              "          const dataTable =\n",
              "            await google.colab.kernel.invokeFunction('convertToInteractive',\n",
              "                                                     [key], {});\n",
              "          if (!dataTable) return;\n",
              "\n",
              "          const docLinkHtml = 'Like what you see? Visit the ' +\n",
              "            '<a target=\"_blank\" href=https://colab.research.google.com/notebooks/data_table.ipynb>data table notebook</a>'\n",
              "            + ' to learn more about interactive tables.';\n",
              "          element.innerHTML = '';\n",
              "          dataTable['output_type'] = 'display_data';\n",
              "          await google.colab.output.renderOutput(dataTable, element);\n",
              "          const docLink = document.createElement('div');\n",
              "          docLink.innerHTML = docLinkHtml;\n",
              "          element.appendChild(docLink);\n",
              "        }\n",
              "      </script>\n",
              "    </div>\n",
              "  </div>\n",
              "  "
            ]
          },
          "metadata": {},
          "execution_count": 44
        }
      ]
    },
    {
      "cell_type": "markdown",
      "source": [
        "## Limpeza dos Dados"
      ],
      "metadata": {
        "id": "t7IPwmqc_RK7"
      }
    },
    {
      "cell_type": "markdown",
      "source": [
        "Verificando se há registros duplicados."
      ],
      "metadata": {
        "id": "9Z4-kCEIWYvc"
      }
    },
    {
      "cell_type": "code",
      "source": [
        "df.duplicated()"
      ],
      "metadata": {
        "id": "pbIRZ5XoJ4rq",
        "colab": {
          "base_uri": "https://localhost:8080/"
        },
        "outputId": "679d649d-3f92-4cb2-dbeb-0da520ae4a3f"
      },
      "execution_count": 45,
      "outputs": [
        {
          "output_type": "execute_result",
          "data": {
            "text/plain": [
              "0       False\n",
              "1       False\n",
              "2       False\n",
              "3       False\n",
              "4       False\n",
              "        ...  \n",
              "997     False\n",
              "998     False\n",
              "999     False\n",
              "1000    False\n",
              "1001    False\n",
              "Length: 1002, dtype: bool"
            ]
          },
          "metadata": {},
          "execution_count": 45
        }
      ]
    },
    {
      "cell_type": "code",
      "source": [
        "df.rename(columns = {'cliente_idade':'cliente_idade_2'}, inplace = True) #alternado o nome da coluna para editá-la."
      ],
      "metadata": {
        "id": "QoPUmw_X_YxG"
      },
      "execution_count": 46,
      "outputs": []
    },
    {
      "cell_type": "code",
      "source": [
        "df['cliente_idade'] = df.cliente_idade_2.str.split(' ').str.get(0) #criando nova coluna retirando a palavra anos."
      ],
      "metadata": {
        "id": "vd0B8rFNUteU"
      },
      "execution_count": 49,
      "outputs": []
    },
    {
      "cell_type": "code",
      "source": [
        "df = df[['cliente_nome_completo',\t'cliente_cpf',\t'cliente_idade',\t'cliente_frequencia_compra',\t'cliente_nome',\t'cliente_sobrenome']]"
      ],
      "metadata": {
        "id": "5LoWY-ZgX5UP"
      },
      "execution_count": 50,
      "outputs": []
    },
    {
      "cell_type": "code",
      "source": [
        "df['cliente_idade'] = pd.to_numeric(df['cliente_idade']) #alterando a coluna com idade par o tipo int64.\n",
        "df['cliente_idade'] = df['cliente_idade'].astype(np.int16) # reduzindo o tamanho dos dados da coluna.\n",
        "df.info()"
      ],
      "metadata": {
        "colab": {
          "base_uri": "https://localhost:8080/"
        },
        "id": "NLZ1bkVocQbT",
        "outputId": "3a0d4414-84d4-41ec-c1c6-673cbb7457d0"
      },
      "execution_count": 58,
      "outputs": [
        {
          "output_type": "stream",
          "name": "stdout",
          "text": [
            "<class 'pandas.core.frame.DataFrame'>\n",
            "RangeIndex: 1002 entries, 0 to 1001\n",
            "Data columns (total 6 columns):\n",
            " #   Column                     Non-Null Count  Dtype  \n",
            "---  ------                     --------------  -----  \n",
            " 0   cliente_nome_completo      1002 non-null   object \n",
            " 1   cliente_cpf                1000 non-null   float64\n",
            " 2   cliente_idade              1002 non-null   int16  \n",
            " 3   cliente_frequencia_compra  1002 non-null   int64  \n",
            " 4   cliente_nome               1002 non-null   object \n",
            " 5   cliente_sobrenome          1001 non-null   object \n",
            "dtypes: float64(1), int16(1), int64(1), object(3)\n",
            "memory usage: 41.2+ KB\n"
          ]
        }
      ]
    },
    {
      "cell_type": "code",
      "source": [
        "df.head()"
      ],
      "metadata": {
        "colab": {
          "base_uri": "https://localhost:8080/",
          "height": 206
        },
        "id": "0ZWVuBosJVT3",
        "outputId": "b9f3ad30-038f-4b80-91c5-d2a3938c7193"
      },
      "execution_count": 59,
      "outputs": [
        {
          "output_type": "execute_result",
          "data": {
            "text/plain": [
              "  cliente_nome_completo   cliente_cpf  cliente_idade  \\\n",
              "0      Fernando Andrade  2.946012e+10             51   \n",
              "1       Vanessa Andrade  7.428947e+10             47   \n",
              "2        Maria Barcelos  9.301411e+10             23   \n",
              "3      Vanessa Carvalho  2.482485e+10             30   \n",
              "4         Ana Rodrigues  5.314509e+10             44   \n",
              "\n",
              "   cliente_frequencia_compra cliente_nome cliente_sobrenome  \n",
              "0                         26     Fernando           Andrade  \n",
              "1                          6      Vanessa           Andrade  \n",
              "2                         91        Maria          Barcelos  \n",
              "3                         54      Vanessa          Carvalho  \n",
              "4                         81          Ana         Rodrigues  "
            ],
            "text/html": [
              "\n",
              "  <div id=\"df-ec1633b7-2cbf-4e59-9f61-0e5d3a1145ec\">\n",
              "    <div class=\"colab-df-container\">\n",
              "      <div>\n",
              "<style scoped>\n",
              "    .dataframe tbody tr th:only-of-type {\n",
              "        vertical-align: middle;\n",
              "    }\n",
              "\n",
              "    .dataframe tbody tr th {\n",
              "        vertical-align: top;\n",
              "    }\n",
              "\n",
              "    .dataframe thead th {\n",
              "        text-align: right;\n",
              "    }\n",
              "</style>\n",
              "<table border=\"1\" class=\"dataframe\">\n",
              "  <thead>\n",
              "    <tr style=\"text-align: right;\">\n",
              "      <th></th>\n",
              "      <th>cliente_nome_completo</th>\n",
              "      <th>cliente_cpf</th>\n",
              "      <th>cliente_idade</th>\n",
              "      <th>cliente_frequencia_compra</th>\n",
              "      <th>cliente_nome</th>\n",
              "      <th>cliente_sobrenome</th>\n",
              "    </tr>\n",
              "  </thead>\n",
              "  <tbody>\n",
              "    <tr>\n",
              "      <th>0</th>\n",
              "      <td>Fernando Andrade</td>\n",
              "      <td>2.946012e+10</td>\n",
              "      <td>51</td>\n",
              "      <td>26</td>\n",
              "      <td>Fernando</td>\n",
              "      <td>Andrade</td>\n",
              "    </tr>\n",
              "    <tr>\n",
              "      <th>1</th>\n",
              "      <td>Vanessa Andrade</td>\n",
              "      <td>7.428947e+10</td>\n",
              "      <td>47</td>\n",
              "      <td>6</td>\n",
              "      <td>Vanessa</td>\n",
              "      <td>Andrade</td>\n",
              "    </tr>\n",
              "    <tr>\n",
              "      <th>2</th>\n",
              "      <td>Maria Barcelos</td>\n",
              "      <td>9.301411e+10</td>\n",
              "      <td>23</td>\n",
              "      <td>91</td>\n",
              "      <td>Maria</td>\n",
              "      <td>Barcelos</td>\n",
              "    </tr>\n",
              "    <tr>\n",
              "      <th>3</th>\n",
              "      <td>Vanessa Carvalho</td>\n",
              "      <td>2.482485e+10</td>\n",
              "      <td>30</td>\n",
              "      <td>54</td>\n",
              "      <td>Vanessa</td>\n",
              "      <td>Carvalho</td>\n",
              "    </tr>\n",
              "    <tr>\n",
              "      <th>4</th>\n",
              "      <td>Ana Rodrigues</td>\n",
              "      <td>5.314509e+10</td>\n",
              "      <td>44</td>\n",
              "      <td>81</td>\n",
              "      <td>Ana</td>\n",
              "      <td>Rodrigues</td>\n",
              "    </tr>\n",
              "  </tbody>\n",
              "</table>\n",
              "</div>\n",
              "      <button class=\"colab-df-convert\" onclick=\"convertToInteractive('df-ec1633b7-2cbf-4e59-9f61-0e5d3a1145ec')\"\n",
              "              title=\"Convert this dataframe to an interactive table.\"\n",
              "              style=\"display:none;\">\n",
              "        \n",
              "  <svg xmlns=\"http://www.w3.org/2000/svg\" height=\"24px\"viewBox=\"0 0 24 24\"\n",
              "       width=\"24px\">\n",
              "    <path d=\"M0 0h24v24H0V0z\" fill=\"none\"/>\n",
              "    <path d=\"M18.56 5.44l.94 2.06.94-2.06 2.06-.94-2.06-.94-.94-2.06-.94 2.06-2.06.94zm-11 1L8.5 8.5l.94-2.06 2.06-.94-2.06-.94L8.5 2.5l-.94 2.06-2.06.94zm10 10l.94 2.06.94-2.06 2.06-.94-2.06-.94-.94-2.06-.94 2.06-2.06.94z\"/><path d=\"M17.41 7.96l-1.37-1.37c-.4-.4-.92-.59-1.43-.59-.52 0-1.04.2-1.43.59L10.3 9.45l-7.72 7.72c-.78.78-.78 2.05 0 2.83L4 21.41c.39.39.9.59 1.41.59.51 0 1.02-.2 1.41-.59l7.78-7.78 2.81-2.81c.8-.78.8-2.07 0-2.86zM5.41 20L4 18.59l7.72-7.72 1.47 1.35L5.41 20z\"/>\n",
              "  </svg>\n",
              "      </button>\n",
              "      \n",
              "  <style>\n",
              "    .colab-df-container {\n",
              "      display:flex;\n",
              "      flex-wrap:wrap;\n",
              "      gap: 12px;\n",
              "    }\n",
              "\n",
              "    .colab-df-convert {\n",
              "      background-color: #E8F0FE;\n",
              "      border: none;\n",
              "      border-radius: 50%;\n",
              "      cursor: pointer;\n",
              "      display: none;\n",
              "      fill: #1967D2;\n",
              "      height: 32px;\n",
              "      padding: 0 0 0 0;\n",
              "      width: 32px;\n",
              "    }\n",
              "\n",
              "    .colab-df-convert:hover {\n",
              "      background-color: #E2EBFA;\n",
              "      box-shadow: 0px 1px 2px rgba(60, 64, 67, 0.3), 0px 1px 3px 1px rgba(60, 64, 67, 0.15);\n",
              "      fill: #174EA6;\n",
              "    }\n",
              "\n",
              "    [theme=dark] .colab-df-convert {\n",
              "      background-color: #3B4455;\n",
              "      fill: #D2E3FC;\n",
              "    }\n",
              "\n",
              "    [theme=dark] .colab-df-convert:hover {\n",
              "      background-color: #434B5C;\n",
              "      box-shadow: 0px 1px 3px 1px rgba(0, 0, 0, 0.15);\n",
              "      filter: drop-shadow(0px 1px 2px rgba(0, 0, 0, 0.3));\n",
              "      fill: #FFFFFF;\n",
              "    }\n",
              "  </style>\n",
              "\n",
              "      <script>\n",
              "        const buttonEl =\n",
              "          document.querySelector('#df-ec1633b7-2cbf-4e59-9f61-0e5d3a1145ec button.colab-df-convert');\n",
              "        buttonEl.style.display =\n",
              "          google.colab.kernel.accessAllowed ? 'block' : 'none';\n",
              "\n",
              "        async function convertToInteractive(key) {\n",
              "          const element = document.querySelector('#df-ec1633b7-2cbf-4e59-9f61-0e5d3a1145ec');\n",
              "          const dataTable =\n",
              "            await google.colab.kernel.invokeFunction('convertToInteractive',\n",
              "                                                     [key], {});\n",
              "          if (!dataTable) return;\n",
              "\n",
              "          const docLinkHtml = 'Like what you see? Visit the ' +\n",
              "            '<a target=\"_blank\" href=https://colab.research.google.com/notebooks/data_table.ipynb>data table notebook</a>'\n",
              "            + ' to learn more about interactive tables.';\n",
              "          element.innerHTML = '';\n",
              "          dataTable['output_type'] = 'display_data';\n",
              "          await google.colab.output.renderOutput(dataTable, element);\n",
              "          const docLink = document.createElement('div');\n",
              "          docLink.innerHTML = docLinkHtml;\n",
              "          element.appendChild(docLink);\n",
              "        }\n",
              "      </script>\n",
              "    </div>\n",
              "  </div>\n",
              "  "
            ]
          },
          "metadata": {},
          "execution_count": 59
        }
      ]
    },
    {
      "cell_type": "markdown",
      "source": [
        " **Outliers**"
      ],
      "metadata": {
        "id": "zROoA7o5eN5a"
      }
    },
    {
      "cell_type": "code",
      "source": [
        "y = df['cliente_frequencia_compra']\n",
        "x = pd.Series(list(range(y.shape[0])))\n",
        "\n",
        "new_df = pd.DataFrame({'x': x, 'y': y})\n",
        "\n",
        "new_df.plot(x='x',y='y',kind='scatter',figsize=(20, 10))"
      ],
      "metadata": {
        "colab": {
          "base_uri": "https://localhost:8080/",
          "height": 623
        },
        "id": "RyRxL-WYJX2h",
        "outputId": "5bcb41b0-aade-466b-f885-c2b44cba6e7d"
      },
      "execution_count": 62,
      "outputs": [
        {
          "output_type": "execute_result",
          "data": {
            "text/plain": [
              "<matplotlib.axes._subplots.AxesSubplot at 0x7f0cb5f98f50>"
            ]
          },
          "metadata": {},
          "execution_count": 62
        },
        {
          "output_type": "display_data",
          "data": {
            "text/plain": [
              "<Figure size 1440x720 with 1 Axes>"
            ],
            "image/png": "[encoded data removed]"
          },
          "metadata": {
            "needs_background": "light"
          }
        }
      ]
    },
    {
      "cell_type": "code",
      "source": [
        "def exclui_outliers(DataFrame, col_name):\n",
        "    intervalo = 5*DataFrame[col_name].std()\n",
        "    media = DataFrame[col_name].mean()\n",
        "    DataFrame.loc[df[col_name] < (media - intervalo), col_name] = np.nan\n",
        "    DataFrame.loc[df[col_name] > (media + intervalo), col_name] = np.nan"
      ],
      "metadata": {
        "id": "9OuGBqaGeaNw"
      },
      "execution_count": 66,
      "outputs": []
    },
    {
      "cell_type": "code",
      "source": [
        "y = df['cliente_frequencia_compra']\n",
        "x = pd.Series(list(range(y.shape[0])))\n",
        "\n",
        "new_df = pd.DataFrame({'x': x, 'y': y})\n",
        "\n",
        "new_df.plot(x='x',y='y',kind='scatter',figsize=(20, 10))"
      ],
      "metadata": {
        "colab": {
          "base_uri": "https://localhost:8080/",
          "height": 623
        },
        "id": "m_uauXNTeqPK",
        "outputId": "14846ce9-b16f-4cdd-904a-e495703059fb"
      },
      "execution_count": 67,
      "outputs": [
        {
          "output_type": "execute_result",
          "data": {
            "text/plain": [
              "<matplotlib.axes._subplots.AxesSubplot at 0x7f0cb59aa1d0>"
            ]
          },
          "metadata": {},
          "execution_count": 67
        },
        {
          "output_type": "display_data",
          "data": {
            "text/plain": [
              "<Figure size 1440x720 with 1 Axes>"
            ],
            "image/png": "[encoded data removed]"
          },
          "metadata": {
            "needs_background": "light"
          }
        }
      ]
    },
    {
      "cell_type": "code",
      "source": [],
      "metadata": {
        "id": "vhPOHD6BeuwS"
      },
      "execution_count": null,
      "outputs": []
    },
    {
      "cell_type": "markdown",
      "source": [
        "**Excluindo os valores faltantes.**"
      ],
      "metadata": {
        "id": "zd3AkEuggzOL"
      }
    },
    {
      "cell_type": "code",
      "source": [],
      "metadata": {
        "id": "1RfQBfROg2aQ"
      },
      "execution_count": null,
      "outputs": []
    }
  ]
}